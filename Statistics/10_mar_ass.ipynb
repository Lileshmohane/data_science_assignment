{
 "cells": [
  {
   "cell_type": "markdown",
   "id": "16339db6-be55-4f88-8099-e2c9431953d8",
   "metadata": {},
   "source": [
    "Q1: What is Estimation Statistics? Explain point estimate and interval estimate."
   ]
  },
  {
   "cell_type": "markdown",
   "id": "dff3cc82-737e-4134-ab0c-d477c7789b5b",
   "metadata": {},
   "source": [
    "Estimation statistics is a branch of statistics that deals with the process of estimating population parameters based on information obtained from a sample of that population. It involves making educated guesses or inferences about the characteristics of a population using data from a subset, or sample, of that population. Two common types of estimates in estimation statistics are point estimates and interval estimates:\n",
    "\n",
    "Point Estimate:\n",
    "\n",
    "A point estimate is a single numerical value that is used to approximate a population parameter. It is essentially a \"best guess\" of the parameter based on the sample data\n",
    "Interval Estimate:\n",
    "\n",
    "An interval estimate, also known as a confidence interval, provides a range of values within which the population parameter is likely to lie, along with a level of confidence associated with that range."
   ]
  },
  {
   "cell_type": "markdown",
   "id": "a99b8321-ce4a-4991-9040-ad17ccf170ab",
   "metadata": {},
   "source": [
    "Q2. Write a Python function to estimate the population mean using a sample mean and standard\n",
    "deviation."
   ]
  },
  {
   "cell_type": "code",
   "execution_count": 1,
   "id": "d9572c79-98a9-45d7-8de8-4ff8bc256f40",
   "metadata": {},
   "outputs": [
    {
     "name": "stdout",
     "output_type": "stream",
     "text": [
      "Estimated Population Mean: 50\n"
     ]
    }
   ],
   "source": [
    "def estimate_population_mean(sample_mean, sample_std_dev):\n",
    "    # The estimated population mean is equal to the sample mean\n",
    "    population_mean_estimate = sample_mean\n",
    "    return population_mean_estimate\n",
    "\n",
    "# Example usage:\n",
    "sample_mean = 50  # Replace with your sample mean\n",
    "sample_std_dev = 10  # Replace with your sample standard deviation\n",
    "\n",
    "estimated_mean = estimate_population_mean(sample_mean, sample_std_dev)\n",
    "print(f\"Estimated Population Mean: {estimated_mean}\")\n"
   ]
  },
  {
   "cell_type": "markdown",
   "id": "cd6b7eb2-84ee-4a1c-957d-36527370740d",
   "metadata": {},
   "source": [
    "Q3: What is Hypothesis testing? Why is it used? State the importance of Hypothesis testing."
   ]
  },
  {
   "cell_type": "markdown",
   "id": "16a1e79e-5be5-4f00-aaf2-9bd3e24f5096",
   "metadata": {},
   "source": [
    "Hypothesis testing is a statistical method used to make inferences about populations based on sample data. It involves formulating a null hypothesis (H0) and an alternative hypothesis (Ha) to assess the validity of a claim or hypothesis about a population parameter, such as a mean, proportion, or variance. The primary purpose of hypothesis testing is to determine whether there is enough evidence in the sample data to reject the null hypothesis in favor of the alternative hypothesis.\n",
    "\n",
    "Here's a step-by-step overview of the hypothesis testing process:\n",
    "\n",
    "Formulate Hypotheses: The first step is to define the null hypothesis (H0), which represents the status quo or a statement of no effect or difference. The alternative hypothesis (Ha) represents the claim or hypothesis you want to test.\n",
    "\n",
    "Collect Data: Collect a sample of data relevant to the hypothesis being tested.\n",
    "\n",
    "Select a Significance Level: Choose a significance level (alpha, often denoted as α), which represents the probability of making a Type I error (rejecting a true null hypothesis). Common significance levels are 0.05 or 0.01.\n",
    "\n",
    "Conduct Statistical Test: Apply an appropriate statistical test, such as t-test, chi-square test, ANOVA, or z-test, depending on the type of data and research question. The choice of test depends on the data's characteristics and the specific hypothesis being tested.\n",
    "\n",
    "Calculate Test Statistic: Compute a test statistic based on the sample data and the chosen statistical test.\n",
    "\n",
    "Determine Critical Value or P-value: Depending on the statistical test, you either compare the test statistic to a critical value from a predefined distribution (e.g., t-distribution or chi-square distribution) or calculate a p-value, which represents the probability of obtaining the observed results (or more extreme results) under the assumption that the null hypothesis is true.\n",
    "\n",
    "Make a Decision: If the test statistic falls in the critical region (i.e., beyond the critical value) or if the p-value is less than the chosen significance level (α), then you reject the null hypothesis. Otherwise, you fail to reject the null hypothesis.\n",
    "\n",
    "Draw Conclusion: Based on your decision, you draw conclusions about the population parameter and whether there is enough evidence to support the alternative hypothesis."
   ]
  },
  {
   "cell_type": "markdown",
   "id": "93283f43-ed15-423e-b8f8-0c992c809e39",
   "metadata": {},
   "source": [
    "Q4. Create a hypothesis that states whether the average weight of male college students is greater than\n",
    "the average weight of female college students."
   ]
  },
  {
   "cell_type": "markdown",
   "id": "857b67df-8937-45f8-b891-8123f28e8100",
   "metadata": {},
   "source": [
    "Null Hypothesis (H0): The average weight of male college students is equal to or less than the average weight of female college students.\n",
    "\n",
    "Alternative Hypothesis (Ha): The average weight of male college students is greater than the average weight of female college students.\n",
    "\n"
   ]
  },
  {
   "cell_type": "markdown",
   "id": "91f9f31c-83cf-498e-9797-f10834a5ee21",
   "metadata": {},
   "source": [
    "male college students weigh more than female college students. You would collect data on the weights of male and female college students and conduct a statistical test (e.g., t-test) to determine whether the observed difference in sample means is statistically significant and supports the alternative hypothesis.\n",
    "\n",
    "\n",
    "\n",
    "\n"
   ]
  },
  {
   "cell_type": "markdown",
   "id": "718cb698-dfe2-49d2-9799-afa8fbe1636e",
   "metadata": {},
   "source": [
    "Q5. Write a Python script to conduct a hypothesis test on the difference between two population means,\n",
    "given a sample from each population.\n"
   ]
  },
  {
   "cell_type": "code",
   "execution_count": 1,
   "id": "0f3dd2c5-7158-4517-95d9-f6632c6f48ea",
   "metadata": {},
   "outputs": [
    {
     "name": "stdout",
     "output_type": "stream",
     "text": [
      "sample1 mean 71.6\n",
      "sample2 mean 65.5\n",
      "test statement 0 6.971744757499047\n",
      "p_value 1.7634457104238e-06\n",
      "Reject the null hypothesis. There is a significant difference between the population means.\n"
     ]
    }
   ],
   "source": [
    "import numpy  as np\n",
    "from  scipy import stats\n",
    "sample1 = np.array([68, 72, 74, 71, 70, 73, 75, 72, 70, 71])  # Sample from population 1\n",
    "sample2 = np.array([63, 66, 68, 65, 67, 64, 66, 68, 63, 65])  # Sample from population 2\n",
    "# Define the significance level (alpha)\n",
    "alpha =0.5\n",
    "t_stat ,p_value =stats.ttest_ind(sample1,sample2,equal_var=False)\n",
    "#print the result\n",
    "print(\"sample1 mean\",np.mean(sample1))\n",
    "print(\"sample2 mean\",np.mean(sample2))\n",
    "print(\"test statement 0\",t_stat)\n",
    "print(\"p_value\",p_value)\n",
    "if p_value <alpha:\n",
    "    print(\"Reject the null hypothesis. There is a significant difference between the population means.\")\n",
    "else:\n",
    "    print(\"Fail to reject the null hypothesis. There is no significant difference between the population means.\")"
   ]
  },
  {
   "cell_type": "markdown",
   "id": "bbb56339-6f9a-4cf3-af9c-996880f8c1fb",
   "metadata": {},
   "source": [
    "We import the necessary libraries, including NumPy for array operations and SciPy's stats module for statistical tests.\n",
    "\n",
    "We define two sample arrays, sample1 and sample2, which represent samples from two populations.\n",
    "\n",
    "We specify the significance level alpha, which determines the threshold for statistical significance.\n",
    "\n",
    "We perform a two-sample t-test using stats.ttest_ind() with the equal_var=False argument to assume unequal variances between the two populations.\n",
    "\n",
    "We print the sample means, the test statistic (t), and the p-value.\n",
    "\n",
    "Finally, we compare the p-value to the chosen significance level (alpha) to make a decision about whether to reject the null hypothesis. If the p-value is less than alpha, we reject the null hypothesis, indicating a significant difference between the population means.\n",
    "\n",
    "You can modify the sample1 and sample2 arrays with your own data to perform a hypothesis test for your specific research question."
   ]
  },
  {
   "cell_type": "markdown",
   "id": "31672946-777d-4373-ad80-062b6f55edae",
   "metadata": {},
   "source": [
    "Q6: What is a null and alternative hypothesis? Give some examples.v\n"
   ]
  },
  {
   "cell_type": "markdown",
   "id": "a6e9c219-c34d-4b08-802a-fcda15d3280f",
   "metadata": {},
   "source": [
    "In statistical hypothesis testing, a null hypothesis (often denoted as H0) and an alternative hypothesis (often denoted as Ha or H1) are two opposing statements that help researchers make decisions based on sample data. These hypotheses are used to test the validity of a claim or to investigate the presence of an effect or difference in a population parameter. Here's a breakdown of both:\n",
    "\n",
    "Null Hypothesis (H0):\n",
    "\n",
    "The null hypothesis represents the default or status quo assumption.\n",
    "It assumes that there is no significant effect, difference, or relationship in the population parameter being studied.\n",
    "In other words, it suggests that any observed differences or effects in the sample data are due to random chance or sampling variability.\n",
    "Researchers typically start with the null hypothesis and aim to test whether the data provide enough evidence to reject it.\n",
    "Examples of null hypotheses:\n",
    "\n",
    "\"The average IQ of a certain population is equal to 100.\"\n",
    "\"There is no difference in the mean blood pressure between the treatment group and the control group.\"\n",
    "\"The proportion of defective products produced by a machine is less than or equal to 5%.\"\n",
    "Alternative Hypothesis (Ha or H1):\n",
    "\n",
    "The alternative hypothesis represents the claim or hypothesis that researchers want to test.\n",
    "It suggests that there is a significant effect, difference, or relationship in the population parameter, contrary to what the null hypothesis assumes.\n",
    "It can take different forms depending on the specific research question, such as one-tailed (directional) or two-tailed (non-directional) alternatives."
   ]
  },
  {
   "cell_type": "markdown",
   "id": "935eba3d-081f-4c97-998c-c914650c0cb6",
   "metadata": {},
   "source": [
    "Q7: Write down the steps involved in hypothesis testing."
   ]
  },
  {
   "cell_type": "markdown",
   "id": "946680f7-d453-49d9-b21b-c693b8e3a06a",
   "metadata": {},
   "source": [
    "\n",
    "Hypothesis testing is a structured and systematic approach to make statistical inferences about populations based on sample data. The following are the key steps involved in hypothesis testing:\n",
    "\n",
    "Formulate Hypotheses:\n",
    "\n",
    "Null Hypothesis (H0): Start by defining the null hypothesis, which represents the default or status quo assumption. It typically states that there is no significant effect, difference, or relationship in the population parameter.\n",
    "Alternative Hypothesis (Ha or H1): Formulate the alternative hypothesis, which represents the claim or hypothesis you want to test. It suggests the presence of a significant effect, difference, or relationship contrary to the null hypothesis.\n",
    "Collect Data:\n",
    "\n",
    "Gather a sample of data relevant to the hypothesis being tested. The sample should be representative of the population you are interested in.\n",
    "Select a Significance Level (Alpha, α):\n",
    "\n",
    "Choose a significance level (often denoted as α), which represents the probability of making a Type I error (rejecting a true null hypothesis). Common significance levels include 0.05 (5%) and 0.01 (1%).\n",
    "Choose a Statistical Test:\n",
    "\n",
    "Select an appropriate statistical test based on the type of data (e.g., t-test, chi-square test, ANOVA, z-test) and the specific hypothesis being tested. The choice of test depends on factors like data distribution and research question.\n",
    "Calculate Test Statistic:\n",
    "\n",
    "Compute a test statistic based on the sample data and the chosen statistical test. The test statistic quantifies the difference or relationship between the sample data and the null hypothesis.\n",
    "Determine Critical Value or P-Value:\n",
    "\n",
    "Depending on the statistical test, you either compare the test statistic to a critical value from a predefined distribution (e.g., t-distribution, chi-square distribution) or calculate a p-value.\n",
    "The critical value defines the threshold beyond which you would reject the null hypothesis.\n",
    "The p-value represents the probability of obtaining the observed results (or more extreme results) under the assumption that the null hypothesis is true. A smaller p-value indicates stronger evidence against the null hypothesis.\n",
    "Make a Decision:\n",
    "\n",
    "Compare the test statistic to the critical value (for critical value approach) or compare the p-value to the significance level (α).\n",
    "If the test statistic falls in the critical region (beyond the critical value) or if the p-value is less than α, then you reject the null hypothesis.\n",
    "If the test statistic does not fall in the critical region or if the p-value is greater than α, then you fail to reject the null hypothesis.\n",
    "Draw a Conclusion:\n",
    "\n",
    "Based on your decision, draw conclusions about the population parameter and whether there is enough statistical evidence to support the alternative hypothesis.\n",
    "Be careful not to conclude that the null hypothesis is \"proven\" or \"accepted\"; rather, you either reject it or fail to reject it.\n",
    "Communicate Results:\n",
    "\n",
    "Present the results of the hypothesis test, including the test statistic, p-value, and your conclusion, in a clear and interpretable manner.\n",
    "Discuss the practical significance of your findings and their implications for the research question."
   ]
  },
  {
   "cell_type": "markdown",
   "id": "87d26917-431f-4ceb-8c54-eec497ec55d8",
   "metadata": {},
   "source": [
    "Q8. Define p-value and explain its significance in hypothesis testing.\n"
   ]
  },
  {
   "cell_type": "markdown",
   "id": "9f496493-3abc-4d55-b5af-4ee6126a8ec5",
   "metadata": {},
   "source": [
    "The p-value, short for \"probability value,\" is a crucial concept in hypothesis testing. It quantifies the strength of the evidence against the null hypothesis (H0) and helps researchers determine whether to reject or fail to reject the null hypothesis. Here's a more detailed definition and explanation of its significance:\n",
    "\n",
    "Definition of p-value: The p-value is the probability of obtaining a test statistic as extreme as, or more extreme than, the one calculated from the sample data, assuming that the null hypothesis is true.\n",
    "\n",
    "Explanation of its significance:\n",
    "\n",
    "Measuring Evidence Against the Null Hypothesis:\n",
    "\n",
    "A small p-value (typically less than the chosen significance level, α) indicates strong evidence against the null hypothesis. It suggests that the observed results are unlikely to have occurred by random chance alone, which may lead to the rejection of the null hypothesis in favor of the alternative hypothesis.\n",
    "Decision Rule:\n",
    "\n",
    "In hypothesis testing, you compare the p-value to the significance level (α) that you have chosen before conducting the test. The decision rule is as follows:\n",
    "If p-value < α: Reject the null hypothesis.\n",
    "If p-value ≥ α: Fail to reject the null hypothesis.\n",
    "Flexibility and Subjectivity:\n",
    "\n",
    "The p-value allows you to make decisions that are sensitive to the chosen significance level. By adjusting α, you can control the trade-off between Type I errors (false positives) and Type II errors (false negatives) to meet the requirements of your specific research or decision-making context.\n",
    "Interpretation:\n",
    "\n",
    "If the p-value is very small (much less than α), it implies that the observed results are highly unlikely under the assumption that the null hypothesis is true. This suggests that there is strong evidence to support the alternative hypothesis.\n",
    "If the p-value is large (close to or greater than α), it implies that the observed results are consistent with what would be expected if the null hypothesis were true. This suggests that there is insufficient evidence to reject the null hypothesis.\n",
    "Continuous Assessment:\n",
    "\n",
    "The p-value provides a continuous measure of evidence, allowing for a nuanced assessment of the data. It's not a simple \"yes\" or \"no\" decision but provides a gradient of support for or against the null hypothesis.\n",
    "Context-Dependent:\n",
    "\n",
    "The interpretation of p-values should always be considered within the context of the specific research question and the scientific or practical significance of the findings. A small p-value might be statistically significant but not practically significant.\n",
    "Common Significance Levels:\n",
    "\n",
    "Commonly used significance levels are 0.05 (5%) and 0.01 (1%). Choosing a lower significance level makes it more challenging to reject the null hypothesis, which reduces the risk of Type I errors but increases the risk of Type II errors."
   ]
  },
  {
   "cell_type": "markdown",
   "id": "469ed607-b14f-4132-87fd-0b1ac7c8b017",
   "metadata": {},
   "source": [
    "Q9. Generate a Student's t-distribution plot using Python's matplotlib library, with the degrees of freedom\n",
    "parameter set to 10."
   ]
  },
  {
   "cell_type": "code",
   "execution_count": 2,
   "id": "c6d4da81-4d0d-48d7-99c7-42f4d0a39160",
   "metadata": {},
   "outputs": [
    {
     "data": {
      "image/png": "[encoded data removed]",
      "text/plain": [
       "<Figure size 800x600 with 1 Axes>"
      ]
     },
     "metadata": {},
     "output_type": "display_data"
    }
   ],
   "source": [
    "import numpy as np\n",
    "import matplotlib.pyplot as plt\n",
    "import scipy.stats as stats\n",
    "\n",
    "# Define the degrees of freedom\n",
    "degrees_of_freedom = 10\n",
    "\n",
    "# Generate x-values (range of values for the plot)\n",
    "x = np.linspace(-4, 4, 400)\n",
    "\n",
    "# Calculate the probability density function (PDF) for the t-distribution\n",
    "pdf = stats.t.pdf(x, df=degrees_of_freedom)\n",
    "\n",
    "# Create the plot\n",
    "plt.figure(figsize=(8, 6))\n",
    "plt.plot(x, pdf, label=f't-distribution (df={degrees_of_freedom})', color='b')\n",
    "\n",
    "# Add labels and title\n",
    "plt.xlabel('x')\n",
    "plt.ylabel('Probability Density')\n",
    "plt.title('Student\\'s t-Distribution')\n",
    "\n",
    "# Add legend\n",
    "plt.legend()\n",
    "\n",
    "# Show the plot\n",
    "plt.grid()\n",
    "plt.show()\n"
   ]
  },
  {
   "cell_type": "markdown",
   "id": "eda97ca5-eacb-46b9-9cbf-84da9c453b9d",
   "metadata": {},
   "source": [
    "Q10. Write a Python program to calculate the two-sample t-test for independent samples, given two\n",
    "random samples of equal size and a null hypothesis that the population means are equal."
   ]
  },
  {
   "cell_type": "code",
   "execution_count": 3,
   "id": "8ddf3870-40b1-47d3-842a-e4854b39f1a6",
   "metadata": {},
   "outputs": [
    {
     "name": "stdout",
     "output_type": "stream",
     "text": [
      "Sample 1 Mean: 54.42856447263174\n",
      "Sample 2 Mean: 52.1047814384602\n",
      "Test Statistic (t): 0.8897019207505096\n",
      "P-value: 0.3773014533943507\n",
      "Fail to reject the null hypothesis. There is no significant difference between the population means.\n"
     ]
    }
   ],
   "source": [
    "import numpy as np\n",
    "from scipy import stats\n",
    "\n",
    "# Generate two random samples with equal size\n",
    "np.random.seed(0)  # for reproducibility\n",
    "sample_size = 30\n",
    "sample1 = np.random.normal(loc=50, scale=10, size=sample_size)  # Sample 1 (mean=50, std=10)\n",
    "sample2 = np.random.normal(loc=55, scale=10, size=sample_size)  # Sample 2 (mean=55, std=10)\n",
    "\n",
    "# Calculate the two-sample t-test assuming equal variances (Welch's t-test)\n",
    "t_stat, p_value = stats.ttest_ind(sample1, sample2, equal_var=True)\n",
    "\n",
    "# Set the significance level (alpha)\n",
    "alpha = 0.05\n",
    "\n",
    "# Print the results\n",
    "print(\"Sample 1 Mean:\", np.mean(sample1))\n",
    "print(\"Sample 2 Mean:\", np.mean(sample2))\n",
    "print(\"Test Statistic (t):\", t_stat)\n",
    "print(\"P-value:\", p_value)\n",
    "\n",
    "# Compare p-value to alpha to make a decision\n",
    "if p_value < alpha:\n",
    "    print(\"Reject the null hypothesis. There is a significant difference between the population means.\")\n",
    "else:\n",
    "    print(\"Fail to reject the null hypothesis. There is no significant difference between the population means.\")\n"
   ]
  },
  {
   "cell_type": "markdown",
   "id": "47e2636c-7e45-466d-94d7-dedd1c4bc6b0",
   "metadata": {},
   "source": [
    "Q11: What is Student’s t distribution? When to use the t-Distribution."
   ]
  },
  {
   "cell_type": "markdown",
   "id": "4c8cea56-8480-4d5e-a2e8-ee585348db0d",
   "metadata": {},
   "source": [
    "Student's t-distribution, often referred to simply as the t-distribution, is a probability distribution that plays a crucial role in statistics, particularly in hypothesis testing and estimating population parameters when the sample size is small and the population standard deviation is unknown. It is named after William Sealy Gosset, who published under the pseudonym \"Student\" due to company policy while working at Guinness Brewery.\n",
    "\n",
    "Key characteristics of the t-distribution include:\n",
    "\n",
    "Shape: The t-distribution has a bell-shaped and symmetric curve, similar to the normal distribution (bell curve), but with thicker tails. The thickness of the tails depends on the degrees of freedom (df), which is a parameter of the distribution.\n",
    "\n",
    "Degrees of Freedom (df): The t-distribution's shape and characteristics are determined by the degrees of freedom. The degrees of freedom represent the number of independent pieces of information available in the data and are typically related to the sample size. The larger the degrees of freedom, the closer the t-distribution resembles the standard normal distribution (with thinner tails).\n",
    "\n",
    "Center and Spread: Like the normal distribution, the t-distribution is centered at zero, but its spread (variance) varies with the degrees of freedom. As the degrees of freedom increase, the t-distribution approaches the normal distribution with a standard deviation of 1.\n",
    "\n",
    "When to use the t-distribution:\n",
    "\n",
    "Small Sample Sizes: The t-distribution is particularly useful when dealing with small sample sizes (typically when n < 30) because it accounts for the increased uncertainty associated with estimating population parameters from limited data.\n",
    "\n",
    "Unknown Population Standard Deviation: When you don't know the population standard deviation (σ) and need to estimate a population mean or compare means between two groups, the t-distribution is used. In such cases, you typically calculate confidence intervals or perform hypothesis tests involving sample means.\n",
    "\n",
    "Hypothesis Testing: The t-distribution is commonly used in hypothesis testing when dealing with small samples. For example, when comparing two sample means (two-sample t-test), conducting a one-sample t-test, or performing analysis of variance (ANOVA) for small sample sizes.\n",
    "\n",
    "Confidence Intervals: When constructing confidence intervals for population parameters, such as the population mean, the t-distribution is used to account for the uncertainty associated with small sample sizes."
   ]
  },
  {
   "cell_type": "markdown",
   "id": "7b4cf996-61ed-482d-b93c-6d41956ce207",
   "metadata": {},
   "source": [
    "Q12: What is t-statistic? State the formula for t-statistic."
   ]
  },
  {
   "cell_type": "markdown",
   "id": "31c20fcc-f30f-465d-b25d-60fdb74bd31e",
   "metadata": {},
   "source": [
    "The t-statistic (also known as the Student's t-statistic) is a statistic used in hypothesis testing to assess whether the difference between sample means is statistically significant. It's a measure of how many standard errors the sample statistic (typically the sample mean) is away from the hypothesized population parameter (often the population mean) under the null hypothesis. The t-statistic follows a t-distribution under certain assumptions.\n",
    "\n",
    "The formula for calculating the t-statistic depends on the context and the specific hypothesis test being performed. Here are two common scenarios and their respective formulas:\n",
    "\n",
    "One-Sample t-Test:\n",
    "In a one-sample t-test, you compare the sample mean (x̄) to a hypothesized population mean (μ) under the null hypothesis. The formula for the one-sample t-statistic is:"
   ]
  },
  {
   "cell_type": "markdown",
   "id": "aa1b4a23-c7e5-4a98-ab82-e89a2091e263",
   "metadata": {},
   "source": [
    "Two-Sample t-Test (Independent Samples):\n",
    "In a two-sample t-test for independent samples, you compare the means of two independent samples (e.g., from two different groups) to determine if there's a statistically significant difference between them. The formula for the two-sample t-statistic is:"
   ]
  },
  {
   "cell_type": "markdown",
   "id": "23dd3f82-eb2e-4c26-abfb-b5c23630e317",
   "metadata": {},
   "source": [
    "Q13. A coffee shop owner wants to estimate the average daily revenue for their shop. They take a random\n",
    "sample of 50 days and find the sample mean revenue to be $500 with a standard deviation of $50.\n",
    "Estimate the population mean revenue with a 95% confidence interval."
   ]
  },
  {
   "cell_type": "markdown",
   "id": "ce8d1e52-a123-4eb7-8547-f35435aff602",
   "metadata": {},
   "source": [
    "To estimate the population mean revenue with a 95% confidence interval based on the sample mean and standard deviation, you can use the formula for a confidence interval when the population standard deviation (σ) is known:\n",
    "Confidence Interval= x±Z(σ/√n)\n",
    "Where:\n",
    "x is the sample mean.\n",
    "Z is the critical value corresponding to the desired confidence level (95% in this case). For a 95% confidence interval, \n",
    "Z is the critical value for a two-tailed test, which is approximately 1.96.\n",
    "σ is the population standard deviation.\n",
    "n is the sample size.\n",
    "\n",
    "Confidence Interval=500±1.96( 50/√ 50 )\n",
    "\n",
    "Calculate the values inside the parentheses first:\n",
    "\n",
    "Confidence Interval=500±1.96(50/√50)≈500±13.96\n",
    "Confidence Interval=500±1.96( 50/√ 50)≈500±13.96\n",
    "Now, calculate the lower and upper bounds of the confidence interval:\n",
    "\n",
    "Lower Bound = $500 - $13.96 = $486.04\n",
    "\n",
    "Upper Bound = $500 + $13.96 = $513.96\n",
    "\n",
    "So, with 95% confidence, you can estimate that the population mean revenue for the coffee shop falls within the range of approximately $486.04 to $513.96 per day.\n",
    "\n",
    "\n",
    "\n",
    "\n"
   ]
  },
  {
   "cell_type": "markdown",
   "id": "cc5e2a46-d84a-438e-ad1e-a1d36ca9542b",
   "metadata": {},
   "source": [
    "Q14. A researcher hypothesizes that a new drug will decrease blood pressure by 10 mmHg. They conduct a\n",
    "clinical trial with 100 patients and find that the sample mean decrease in blood pressure is 8 mmHg with a\n",
    "standard deviation of 3 mmHg. Test the hypothesis with a significance level of 0.05."
   ]
  },
  {
   "cell_type": "markdown",
   "id": "516ad817-9436-47e8-b395-5ad8f7166d5b",
   "metadata": {},
   "source": [
    "\n",
    "To test the researcher's hypothesis that the new drug will decrease blood pressure by 10 mmHg, you can perform a one-sample t-test. Here are the steps to conduct the hypothesis test:\n",
    "\n",
    "Step 1: Formulate Hypotheses:\n",
    "\n",
    "Null Hypothesis (H0): The new drug does not decrease blood pressure by 10 mmHg; in other words, the mean decrease in blood pressure (\n",
    "μ) is not different from 10 mmHg.\n",
    "Alternative Hypothesis (Ha): The new drug decreases blood pressure by 10 mmHg; in other words, the mean decrease in blood pressure (\n",
    "μ) is less than 10 mmHg.\n",
    "\n",
    "Step 2: Collect Data:\n",
    "\n",
    "Sample mean (x) = 8 mmHg\n",
    "Sample standard deviation (\n",
    "s) = 3 mmHg\n",
    "Sample size (\n",
    "n) = 100\n",
    "Step 3: Set the Significance Level:\n",
    "\n",
    "Significance level (\n",
    "α) = 0.05\n",
    "Step 4: Calculate the Test Statistic:\n",
    "The formula for the one-sample t-test statistic is:\n",
    "\n",
    "\n",
    "Step 5: Calculate the p-value:\n",
    "Using the calculated t-statistic, you can find the p-value associated with this test. Since the alternative hypothesis is one-tailed (we are testing if the drug decreases blood pressure, not if it increases), you want to find the p-value for a one-tailed test. You can do this using a t-distribution table, calculator, or software.\n",
    "\n",
    "For =99\n",
    "df=99 (degrees of freedom, which is \n",
    "1\n",
    "n−1), the p-value is extremely small (much less than 0.0001).\n",
    "Step 6: Make a Decision:\n",
    "\n",
    "If the p-value is less than the significance level (\n",
    "α), reject the null hypothesis.\n",
    "If the p-value is greater than or equal to \n",
    "α, fail to reject the null hypothesis.\n",
    "In this case, the p-value (\n",
    "p<0.0001) is much smaller than\n",
    "α (\n",
    "0.05). Therefore, you reject the null hypothesis.\n",
    "\n",
    "Step 7: Draw a Conclusion:\n",
    "Based on the results of the hypothesis test, there is strong evidence to suggest that the new drug decreases blood pressure by more than 10 mmHg, as the sample mean decrease in blood pressure (\n",
    "8 mmHg) is significantly less than the hypothesized decrease (\n",
    "10 mmHg) at a significance level of \n",
    "0.05"
   ]
  },
  {
   "cell_type": "markdown",
   "id": "5231da3a-a490-4ca3-a654-58013bd5cdc4",
   "metadata": {},
   "source": [
    "Q15. An electronics company produces a certain type of product with a mean weight of 5 pounds and a\n",
    "standard deviation of 0.5 pounds. A random sample of 25 products is taken, and the sample mean weight\n",
    "is found to be 4.8 pounds. Test the hypothesis that the true mean weight of the products is less than 5\n",
    "pounds with a significance level of 0.01."
   ]
  },
  {
   "cell_type": "markdown",
   "id": "09af94b5-d5f6-4a70-947d-ad0321df8919",
   "metadata": {},
   "source": [
    "To test the hypothesis that the true mean weight of the products is less than 5 pounds, you can perform a one-sample t-test. Here are the steps to conduct the hypothesis test:\n",
    "\n",
    "Step 1: Formulate Hypotheses:\n",
    "\n",
    "Null Hypothesis (H0): The true mean weight of the products is equal to 5 pounds.\n",
    "Alternative Hypothesis (Ha): The true mean weight of the products is less than 5 pounds.\n",
    "Step 2: Collect Data:\n",
    "\n",
    "Population mean (\n",
    "μ) = 5 pounds\n",
    "Population standard deviation (\n",
    "σ) = 0.5 pounds\n",
    "Sample mean (x\n",
    " ) = 4.8 pounds\n",
    "Sample size (\n",
    "n) = 25\n",
    "Step 3: Set the Significance Level\n",
    "Significance level(\n",
    "α) = 0.01\n",
    "Step 4: Calculate the Test Statistic\n",
    "test statistics is = -2\n",
    "\n",
    "\n",
    "Step 5: Calculate the p-value:\n",
    "Using the calculated t-statistic, you can find the p-value associated with this test. Since the alternative hypothesis is one-tailed (we are testing if the true mean weight is less than 5 pounds), you want to find the p-value for a one-tailed test. You can do this using a t-distribution table, calculator, or software.\n",
    "\n",
    "For \n",
    "df=24 (degrees of freedom, which is \n",
    "n−1), the p-value is \n",
    "p<0.01.\n",
    "Step 6: Make a Decision:\n",
    "If the p-value is less than the significance level (\n",
    "α), reject the null hypothesis.\n",
    "If the p-value is greater than or equal to \n",
    "α, fail to reject the null hypothesis.\n",
    "In this case, the p-value (\n",
    "p<0.01) is less than \n",
    "α (\n",
    "0.01). Therefore, you reject the null hypothesis.\n",
    "Step 7: Draw a Conclusion:\n",
    "Based on the results of the hypothesis test, there is strong evidence to suggest that the true mean weight of the products is less than 5 pounds at a significance level of 0.01."
   ]
  },
  {
   "cell_type": "markdown",
   "id": "52cd6d4e-5909-4c22-8f6a-6b9d298a3d60",
   "metadata": {},
   "source": [
    "Q16. Two groups of students are given different study materials to prepare for a test. The first group (n1 =\n",
    "30) has a mean score of 80 with a standard deviation of 10, and the second group (n2 = 40) has a mean\n",
    "score of 75 with a standard deviation of 8. Test the hypothesis that the population means for the two\n",
    "groups are equal with a significance level of 0.01."
   ]
  },
  {
   "cell_type": "markdown",
   "id": "62ba75be-e510-4418-94e4-bd62115060a6",
   "metadata": {},
   "source": [
    "\n",
    "To test the hypothesis that the population means for the two groups are equal, you can perform a two-sample t-test for independent samples. Here are the steps to conduct the hypothesis test:\n",
    "\n",
    "Step 1: Formulate Hypotheses:\n",
    "\n",
    "Null Hypothesis (H0): The population means of the two groups are equal (\n",
    "1μ =μ2)\n",
    "Alternative Hypothesis (Ha): The population means of the two groups are not equal (1μ≠ μ2 ).\n",
    "Step 2: Collect Data:\n",
    "For Group 1:\n",
    "Sample mean (x1 = 80)\n",
    "Sample standard deviation (s1) = 10\n",
    "Sample size (n1) = 30\n",
    "For Group 2:\n",
    "Sample mean (x2) = 75\n",
    "Sample standard deviation (s2) = 8\n",
    "Sample size ( n2) = 40\n",
    "Step 3: Set the Significance Level:\n",
    "Significance level (\n",
    "α) = 0.01\n",
    "Step 4: Calculate the Test Statistic:\n",
    "    Step 5: Determine the Degrees of Freedom:\n",
    "        Step 6: Calculate the p-value:\n",
    "Using the calculated t-statistic and degrees of freedom, you can find the p-value associated with this test. Since the alternative hypothesis is two-tailed (we are testing if the means are not equal), you want to find the p-value for a two-tailed test. You can do this using a t-distribution table, calculator, or software.\n",
    "\n",
    "For the given values of \n",
    "t and \n",
    "df, calculate the p-value.\n",
    "\n",
    "Step 7: Make a Decision:\n",
    "\n",
    "If the p-value is less than \n",
    "\n",
    "α/2 (since it's a two-tailed test), reject the null hypothesis.\n",
    "If the p-value is greater than or equal to \n",
    "\n",
    "α/2, fail to reject the null hypothesis.\n",
    "In this case, the p-value should be compared to \n",
    "α/2 because it's a two-tailed test with \n",
    "\n",
    "α=0.01.\n",
    "\n",
    "Step 8: Draw a Conclusion:\n",
    "Based on the results of the hypothesis test, you can conclude whether there is sufficient evidence to suggest that the population means of the two groups are not equal at a significance level of 0.01."
   ]
  },
  {
   "cell_type": "markdown",
   "id": "c8cbc45e-c1be-4435-8449-d5fec00b15b0",
   "metadata": {},
   "source": [
    "Q17. A marketing company wants to estimate the average number of ads watched by viewers during a TV\n",
    "program. They take a random sample of 50 viewers and find that the sample mean is 4 with a standard\n",
    "deviation of 1.5. Estimate the population mean with a 99% confidence interval."
   ]
  },
  {
   "cell_type": "markdown",
   "id": "81f804e0-cdbc-453f-964a-186336e2242c",
   "metadata": {},
   "source": [
    "To estimate the population mean number of ads watched by viewers during a TV program with a 99% confidence interval, you can use the formula for a confidence interval when the population standard deviation (\n",
    "σ) is not known. In this case, you'll use the t-distribution. Here are the steps to calculate the confidence interval:\n",
    "\n",
    "Step 1: Collect Data:\n",
    "\n",
    "Sample mean (\n",
    "x) = 4\n",
    "Sample standard deviation (\n",
    "s) = 1.5\n",
    "Sample size (\n",
    "n) = 50\n",
    "Step 2: Set the Significance Level:\n",
    "\n",
    "Significance level (\n",
    "α) = 0.01 (for a 99% confidence interval)\n",
    "Step 3: Calculate the t-Score:\n",
    "You'll need the t-score corresponding to the chosen significance level and degrees of freedom (\n",
    "\n",
    "Degrees of freedom (\n",
    "df) = \n",
    "n−1 = 49\n",
    "\n",
    "You can find the t-score for a 99% confidence interval and 49 degrees of freedom using a t-distribution table or calculator. For a two-tailed test at \n",
    "\n",
    "α/2=0.005, the t-score is approximately 2.6787.\n",
    "\n",
    "Step 4: Calculate the Margin of Error (MoE):\n",
    "    Step 5: Calculate the Confidence Interval:\n",
    "The confidence interval is calculated as\n",
    "\n",
    "Substitute the values:\n",
    "Confidence Interval=(4−MoE,4+MoE)\n",
    "\n",
    "Calculate the lower and upper bounds of the confidence interval.\n",
    "\n",
    "Step 6: Determine the Confidence Interval:\n",
    "The 99% confidence interval for the population mean number of ads watched by viewers during the TV program is given by the lower and upper bounds calculated in step 5.\n",
    "\n",
    "Step 7: Draw a Conclusion:\n",
    "With 99% confidence, you can estimate that the population mean number of ads watched by viewers during the TV program falls within the calculated confidence interval."
   ]
  },
  {
   "cell_type": "code",
   "execution_count": null,
   "id": "c5de87a9-0da0-4e82-8fe2-0d68d2d02842",
   "metadata": {},
   "outputs": [],
   "source": []
  }
 ],
 "metadata": {
  "kernelspec": {
   "display_name": "Python 3 (ipykernel)",
   "language": "python",
   "name": "python3"
  },
  "language_info": {
   "codemirror_mode": {
    "name": "ipython",
    "version": 3
   },
   "file_extension": ".py",
   "mimetype": "text/x-python",
   "name": "python",
   "nbconvert_exporter": "python",
   "pygments_lexer": "ipython3",
   "version": "3.10.8"
  }
 },
 "nbformat": 4,
 "nbformat_minor": 5
}
