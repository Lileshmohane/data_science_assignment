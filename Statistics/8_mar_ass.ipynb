{
 "cells": [
  {
   "cell_type": "markdown",
   "id": "05c262e1-cae7-4302-8183-bb4a44e6385f",
   "metadata": {},
   "source": [
    "Q1. What is the Probability density function?"
   ]
  },
  {
   "cell_type": "markdown",
   "id": "c2bb33b7-3d7f-4c15-b15e-4a07d94cecfd",
   "metadata": {},
   "source": [
    "A Probability Density Function (PDF) is a concept used in probability theory and statistics to describe the distribution of a continuous random variable. Unlike discrete random variables, which take on specific, separate values, continuous random variables can take on any value within a certain range. The PDF provides a way to describe the likelihood of a continuous random variable falling within a particular range of values.\n"
   ]
  },
  {
   "cell_type": "markdown",
   "id": "aec91988-c3b1-4f29-b596-f07512abb8de",
   "metadata": {},
   "source": [
    "Q2. What are the types of Probability distribution?"
   ]
  },
  {
   "cell_type": "markdown",
   "id": "ae6996f9-6e24-482c-b28f-3f8215a11104",
   "metadata": {},
   "source": [
    "Discrete Distributions:\n",
    "\n",
    "Bernoulli Distribution: Describes a random variable with two possible outcomes, often denoted as success (1) and failure (0). It's used for modeling binary events.\n",
    "Binomial Distribution: Represents the number of successes in a fixed number of independent Bernoulli trials.\n",
    "Poisson Distribution: Models the number of events occurring in a fixed interval of time or space, given a known average rate of occurrence.\n",
    "Continuous Distributions:\n",
    "\n",
    "Normal (Gaussian) Distribution: One of the most widely used distributions, characterized by its bell-shaped curve. It's often used to model naturally occurring continuous data.\n",
    "Exponential Distribution: Describes the time between events in a Poisson process, such as the time between phone calls at a call center.\n",
    "Uniform Distribution: All values in a given range are equally likely to occur. It's often used when there's no prior information about the distribution of a variable.\n",
    "Gamma Distribution: Generalizes the exponential distribution and is used to model the waiting time until a certain number of events occur.\n",
    "Beta Distribution: Used to model probabilities or proportions, often in cases involving uncertainty about the underlying parameter.\n",
    "Chi-Square Distribution: Arises in the context of testing hypotheses about the variance of a normally distributed population.\n",
    "Cauchy Distribution: Known for its heavy tails and lack of moments, it's often used to model extreme events.\n",
    "Multivariate Distributions:\n",
    "\n",
    "Multinomial Distribution: Generalization of the binomial distribution to more than two categories.\n",
    "Multivariate Normal Distribution: Generalization of the normal distribution to multiple dimensions, often used in multivariate analysis.\n",
    "Multivariate T-Distribution: Used in multivariate statistics, especially when dealing with small sample sizes."
   ]
  },
  {
   "cell_type": "markdown",
   "id": "b6a99400-c282-441f-9a42-fd76af06ded5",
   "metadata": {},
   "source": [
    "Q3. Write a Python function to calculate the probability density function of a normal distribution with\n",
    "given mean and standard deviation at a given point."
   ]
  },
  {
   "cell_type": "code",
   "execution_count": 1,
   "id": "33c94c8b-6e0d-4461-a218-e847caa1114e",
   "metadata": {},
   "outputs": [
    {
     "name": "stdout",
     "output_type": "stream",
     "text": [
      "PDF at x = 1.5: 0.12951759566589174\n"
     ]
    }
   ],
   "source": [
    "import math\n",
    "\n",
    "def normal_pdf(x, mean, std_dev):\n",
    "    \"\"\"\n",
    "    Calculate the Probability Density Function (PDF) of a normal distribution at a given point.\n",
    "    \n",
    "    Args:\n",
    "        x (float): The point at which to calculate the PDF.\n",
    "        mean (float): The mean of the normal distribution.\n",
    "        std_dev (float): The standard deviation of the normal distribution.\n",
    "        \n",
    "    Returns:\n",
    "        float: The PDF value at the given point.\n",
    "    \"\"\"\n",
    "    coefficient = 1 / (std_dev * math.sqrt(2 * math.pi))\n",
    "    exponent = -0.5 * ((x - mean) / std_dev)**2\n",
    "    pdf_value = coefficient * math.exp(exponent)\n",
    "    return pdf_value\n",
    "\n",
    "# Example usage\n",
    "mean = 0\n",
    "std_dev = 1\n",
    "x_value = 1.5\n",
    "pdf_at_x = normal_pdf(x_value, mean, std_dev)\n",
    "print(f\"PDF at x = {x_value}: {pdf_at_x}\")\n"
   ]
  },
  {
   "cell_type": "markdown",
   "id": "0e7b0e0d-30c9-4f2f-b227-0d0c2ce383d0",
   "metadata": {},
   "source": [
    "Q4. What are the properties of Binomial distribution? Give two examples of events where binomial\n",
    "distribution can be applied."
   ]
  },
  {
   "cell_type": "markdown",
   "id": "c814bca9-4003-4acc-b284-14bb79087c30",
   "metadata": {},
   "source": [
    "The Binomial distribution is a discrete probability distribution that models the number of successes in a fixed number of independent and identical Bernoulli trials. A Bernoulli trial is an experiment with two possible outcomes: success and failure. The Binomial distribution is characterized by two parameters: the number of trials (\n",
    "n)\n",
    "and the probability of success (p)."
   ]
  },
  {
   "cell_type": "markdown",
   "id": "aa63b8bb-2712-4c97-90bb-3e4dd8372e7e",
   "metadata": {},
   "source": [
    "Number of Trials: The distribution is defined for a fixed number of trials (\n",
    "n), where each trial is independent of the others.\n",
    "\n",
    "Probability of Success: Each trial has a probability (p) of success, and the probability of failure (q=1−p).\n",
    "\n",
    "Discreteness: The Binomial distribution is discrete, meaning it describes the probability of a discrete number of successes.\n",
    "\n",
    "ex : Coin Flips: Consider flipping a fair coin (p=0.5) multiple times (n). The Binomial distribution can be used to calculate the probabilities of getting a specific number of heads (k) in those flips\n",
    "\n",
    "Quality Control: In a manufacturing process, items may be defective with a certain probability (p). If you randomly sample a fixed number of items (n) from the production line and want to calculate the probability of getting a certain number of defective items (k), you can use the Binomial distribution."
   ]
  },
  {
   "cell_type": "markdown",
   "id": "bcfac4f7-72f0-45a4-b2d4-da6f1e479c02",
   "metadata": {},
   "source": [
    "Q5. Generate a random sample of size 1000 from a binomial distribution with probability of success 0.4\n",
    "and plot a histogram of the results using matplotlib."
   ]
  },
  {
   "cell_type": "code",
   "execution_count": 5,
   "id": "5f8bb641-70d2-4624-97de-780864f10da0",
   "metadata": {},
   "outputs": [
    {
     "data": {
      "image/png": "[encoded data removed]",
      "text/plain": [
       "<Figure size 640x480 with 1 Axes>"
      ]
     },
     "metadata": {},
     "output_type": "display_data"
    }
   ],
   "source": [
    "import numpy as np\n",
    "import matplotlib.pyplot as plt\n",
    "\n",
    "sample_size = 1000\n",
    "probability_of_success = 0.4\n",
    "number_of_trials = 1  # Since we are generating a sample from a single trial\n",
    "\n",
    "# Generate random sample from binomial distribution\n",
    "sample = np.random.binomial(number_of_trials, probability_of_success, size=sample_size)\n",
    "\n",
    "# Plot histogram\n",
    "plt.hist(sample, bins=np.arange(-0.5, number_of_trials + 1.5, 1), alpha=0.7, edgecolor='green')\n",
    "plt.xlabel('Number of Successes')\n",
    "plt.ylabel('Frequency')\n",
    "plt.title('Histogram of Random Sample from Binomial Distribution')\n",
    "plt.xticks(range(number_of_trials + 1))\n",
    "plt.grid(True)\n",
    "plt.show()"
   ]
  },
  {
   "cell_type": "markdown",
   "id": "9a3d0e7c-859b-4f5e-80c1-13b46b02dfc0",
   "metadata": {},
   "source": [
    "Q6. Write a Python function to calculate the cumulative distribution function of a Poisson distribution\n",
    "with given mean at a given point."
   ]
  },
  {
   "cell_type": "code",
   "execution_count": 6,
   "id": "9117c955-22a1-4f99-997e-ebcd8edcecd7",
   "metadata": {},
   "outputs": [
    {
     "name": "stdout",
     "output_type": "stream",
     "text": [
      "CDF at x = 2: 0.3208471988621341\n"
     ]
    }
   ],
   "source": [
    "import math\n",
    "\n",
    "def poisson_cdf(x, mean):\n",
    "    \"\"\"\n",
    "    Calculate the Cumulative Distribution Function (CDF) of a Poisson distribution at a given point.\n",
    "    \n",
    "    Args:\n",
    "        x (int): The point at which to calculate the CDF.\n",
    "        mean (float): The mean of the Poisson distribution.\n",
    "        \n",
    "    Returns:\n",
    "        float: The CDF value at the given point.\n",
    "    \"\"\"\n",
    "    cdf_value = 0.0\n",
    "    for i in range(x + 1):\n",
    "        cdf_value += (math.exp(-mean) * (mean ** i)) / math.factorial(i)\n",
    "    return cdf_value\n",
    "\n",
    "# Example usage\n",
    "mean = 3.5\n",
    "x_value = 2\n",
    "cdf_at_x = poisson_cdf(x_value, mean)\n",
    "print(f\"CDF at x = {x_value}: {cdf_at_x}\")\n"
   ]
  },
  {
   "cell_type": "markdown",
   "id": "734d8075-c47e-42f7-a449-aba5232f018a",
   "metadata": {},
   "source": [
    "Q7. How Binomial distribution different from Poisson distribution?"
   ]
  },
  {
   "cell_type": "markdown",
   "id": "489051eb-3b13-4785-9fd9-56bec384db14",
   "metadata": {},
   "source": [
    "Nature of Events:\n",
    "\n",
    "Binomial Distribution: The binomial distribution is used when there are a fixed number of independent trials, each with two possible outcomes (success or failure). The probability of success remains the same for each trial.\n",
    "Poisson Distribution: The Poisson distribution is used to model the number of events that occur in a fixed interval of time or space, given a known average rate of occurrence. It's used for events that happen randomly over a continuous interval."
   ]
  },
  {
   "cell_type": "markdown",
   "id": "b53ae22d-0ea0-4773-8c1c-13d297b583a9",
   "metadata": {},
   "source": [
    "Outcomes:\n",
    "\n",
    "Binomial Distribution: The outcomes are discrete, representing the count of successes (e.g., number of heads in coin flips).\n",
    "Poisson Distribution: The outcomes are also discrete, representing the count of events occurring within the interval."
   ]
  },
  {
   "cell_type": "markdown",
   "id": "d34de1f1-063e-4927-bcba-bff8bce08dff",
   "metadata": {},
   "source": [
    "Probability of Success:\n",
    "\n",
    "Binomial Distribution: The probability of success remains constant across all trials.\n",
    "Poisson Distribution: There is no notion of success or failure; it's focused on modeling the frequency of events."
   ]
  },
  {
   "cell_type": "markdown",
   "id": "455a2438-ce45-4f7f-9d58-3cf7e4af24b6",
   "metadata": {},
   "source": [
    "Use Cases:\n",
    "\n",
    "Binomial Distribution: It's used when you're interested in the probability of a specific number of successes in a fixed number of trials, such as coin flips, survey responses, or quality control checks.\n",
    "Poisson Distribution: It's used when you're interested in modeling the occurrence of rare events over a continuous interval, like the number of emails received in an hour or the number of accidents at an intersection in a day."
   ]
  },
  {
   "cell_type": "markdown",
   "id": "95348b78-23b7-4091-ad12-490dfc53b76e",
   "metadata": {},
   "source": [
    "Q8. Generate a random sample of size 1000 from a Poisson distribution with mean 5 and calculate the\n",
    "sample mean and variance."
   ]
  },
  {
   "cell_type": "code",
   "execution_count": 7,
   "id": "aab6434b-67da-436b-b382-8c867b13d953",
   "metadata": {},
   "outputs": [
    {
     "name": "stdout",
     "output_type": "stream",
     "text": [
      "Sample Mean: 4.897\n",
      "Sample Variance: 4.782391\n"
     ]
    }
   ],
   "source": [
    "import numpy as np\n",
    "\n",
    "# Parameters\n",
    "sample_size = 1000\n",
    "mean = 5\n",
    "\n",
    "# Generate random sample from Poisson distribution\n",
    "sample = np.random.poisson(mean, size=sample_size)\n",
    "\n",
    "# Calculate sample mean and variance\n",
    "sample_mean = np.mean(sample)\n",
    "sample_variance = np.var(sample)\n",
    "\n",
    "# Print results\n",
    "print(f\"Sample Mean: {sample_mean}\")\n",
    "print(f\"Sample Variance: {sample_variance}\")\n"
   ]
  },
  {
   "cell_type": "markdown",
   "id": "2c055d4e-9d12-4c81-a82b-88b3b099531f",
   "metadata": {},
   "source": [
    "Q9. How mean and variance are related in Binomial distribution and Poisson distribution?"
   ]
  },
  {
   "cell_type": "markdown",
   "id": "fbe55923-6a9f-4e39-a884-806fd4427213",
   "metadata": {},
   "source": [
    "Both the Binomial distribution and the Poisson distribution have a relationship between their mean and variance, but this relationship differs between the two distributions due to their distinct characteristics.\n",
    "\n",
    "Binomial Distribution:\n",
    "In a Binomial distribution with parameters n (number of trials) and  p (probability of success in each trial), the mean (μ) and variance (σ2) are related as follows:\n",
    "    μ=n⋅p\n",
    "\n",
    "    σ2=n⋅p⋅(1−p)\n",
    "    \n",
    "    Here, the variance depends on both the number of trials and the probability of success. As the probability of success (p) moves away from 0.5 (closer to 0 or 1), the variance tends to decrease. When p=0.5, the variance is maximized.\n",
    "    \n",
    "    Poisson Distribution:In a Poisson distribution with parameter λ (average rate of events), the mean (μ) and variance (σ2 ) are related as follows:\n",
    "        \n",
    "        μ=λ\n",
    "\n",
    "        σ2 =λ\n"
   ]
  },
  {
   "cell_type": "markdown",
   "id": "3b5089a4-fae2-4792-8e28-64847105529f",
   "metadata": {},
   "source": [
    "Q10. In normal distribution with respect to mean position, where does the least frequent data appear?"
   ]
  },
  {
   "cell_type": "markdown",
   "id": "c8afb029-e542-4633-b83a-bb091b96ee8e",
   "metadata": {},
   "source": [
    "In a normal distribution (also known as a Gaussian distribution), the least frequent data points appear in the tails of the distribution, farthest from the mean. The normal distribution is characterized by its bell-shaped curve, and the probability density decreases as you move away from the mean in both directions.\n",
    "\n",
    "The distribution is symmetric around the mean, so the tails on both sides of the mean have the same shape. As you move farther away from the mean, the probability density decreases rapidly, indicating that extreme values are less likely to occur.\n",
    "\n",
    "The \"least frequent data\" in this context refers to the values that are farther away from the mean, in the tails of the distribution. These extreme values are less common and occur with lower probabilities. The exact point where the data becomes least frequent depends on the spread of the distribution, which is determined by the standard deviation. In a standard normal distribution (with mean \n",
    "0\n",
    "0 and standard deviation \n",
    "1\n",
    "1), data points that are several standard deviations away from the mean are considered least frequent."
   ]
  },
  {
   "cell_type": "code",
   "execution_count": null,
   "id": "e92913bd-efe2-40fd-b297-80294cbd2fe7",
   "metadata": {},
   "outputs": [],
   "source": []
  }
 ],
 "metadata": {
  "kernelspec": {
   "display_name": "Python 3 (ipykernel)",
   "language": "python",
   "name": "python3"
  },
  "language_info": {
   "codemirror_mode": {
    "name": "ipython",
    "version": 3
   },
   "file_extension": ".py",
   "mimetype": "text/x-python",
   "name": "python",
   "nbconvert_exporter": "python",
   "pygments_lexer": "ipython3",
   "version": "3.10.8"
  }
 },
 "nbformat": 4,
 "nbformat_minor": 5
}
