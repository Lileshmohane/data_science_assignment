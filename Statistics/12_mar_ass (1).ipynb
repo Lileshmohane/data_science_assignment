{
 "cells": [
  {
   "cell_type": "markdown",
   "id": "2c2aae64-6ea2-4291-9e2a-305a43f15b64",
   "metadata": {},
   "source": [
    "Q1. Calculate the 95% confidence interval for a sample of data with a mean of 50 and a standard deviation\n",
    "of 5 using Python. Interpret the results."
   ]
  },
  {
   "cell_type": "code",
   "execution_count": 1,
   "id": "c89d25e2-a6c1-40a0-a9ec-2bdff325132c",
   "metadata": {},
   "outputs": [
    {
     "name": "stdout",
     "output_type": "stream",
     "text": [
      "95% Confidence Interval: (49.02, 50.98)\n"
     ]
    }
   ],
   "source": [
    "import scipy.stats as stats\n",
    "\n",
    "# Sample data parameters\n",
    "mean = 50\n",
    "std_dev = 5\n",
    "sample_size = 100  # Replace with your actual sample size\n",
    "\n",
    "# Calculate the standard error of the mean (SEM)\n",
    "sem = std_dev / (sample_size**0.5)\n",
    "\n",
    "# Set the confidence level\n",
    "confidence_level = 0.95\n",
    "\n",
    "# Calculate the margin of error (MOE)\n",
    "moe = stats.norm.ppf((1 + confidence_level) / 2) * sem\n",
    "\n",
    "# Calculate the confidence interval\n",
    "lower_bound = mean - moe\n",
    "upper_bound = mean + moe\n",
    "\n",
    "print(f\"95% Confidence Interval: ({lower_bound:.2f}, {upper_bound:.2f})\")\n"
   ]
  },
  {
   "cell_type": "markdown",
   "id": "d4471bc9-5979-4392-835d-ff2408375675",
   "metadata": {},
   "source": [
    "Q2. Conduct a chi-square goodness of fit test to determine if the distribution of colors of M&Ms in a bag\n",
    "matches the expected distribution of 20% blue, 20% orange, 20% green, 10% yellow, 10% red, and 20%\n",
    "brown. Use Python to perform the test with a significance level of 0.05."
   ]
  },
  {
   "cell_type": "code",
   "execution_count": 2,
   "id": "2e226660-149a-46bb-a7f1-e5a1989cf998",
   "metadata": {},
   "outputs": [
    {
     "name": "stdout",
     "output_type": "stream",
     "text": [
      "Chi-Squared Statistic: 35.00\n",
      "P-value: 0.0000\n",
      "Reject the null hypothesis: The distribution of M&Ms colors is different from the expected distribution.\n"
     ]
    }
   ],
   "source": [
    "import numpy as np\n",
    "from scipy import stats\n",
    "\n",
    "# Observed frequencies of each color\n",
    "observed_frequencies = np.array([50, 15, 25, 10, 5, 20])  # Replace with your actual data\n",
    "\n",
    "# Expected frequencies based on the expected distribution\n",
    "expected_frequencies = np.array([0.20, 0.20, 0.20, 0.10, 0.10, 0.20]) * np.sum(observed_frequencies)\n",
    "\n",
    "# Perform the chi-square goodness of fit test\n",
    "chi_squared, p_value = stats.chisquare(f_obs=observed_frequencies, f_exp=expected_frequencies)\n",
    "\n",
    "# Set the significance level\n",
    "alpha = 0.05\n",
    "\n",
    "print(f\"Chi-Squared Statistic: {chi_squared:.2f}\")\n",
    "print(f\"P-value: {p_value:.4f}\")\n",
    "\n",
    "# Compare the p-value to the significance level\n",
    "if p_value < alpha:\n",
    "    print(\"Reject the null hypothesis: The distribution of M&Ms colors is different from the expected distribution.\")\n",
    "else:\n",
    "    print(\"Fail to reject the null hypothesis: The distribution of M&Ms colors matches the expected distribution.\")\n"
   ]
  },
  {
   "cell_type": "markdown",
   "id": "265ab5e2-4f1c-4258-93a0-66174f4068be",
   "metadata": {},
   "source": [
    "Q3. Use Python to calculate the chi-square statistic and p-value for a contingency table with the following\n",
    "data:\n",
    "          Group A     group b\n",
    "\n",
    "Outcome 1    20          15\n",
    "Outcome 2    10          25\n",
    "Outcome 3    15          20"
   ]
  },
  {
   "cell_type": "code",
   "execution_count": 3,
   "id": "264f9fb6-c94d-416d-b558-31e1e13f39a5",
   "metadata": {},
   "outputs": [
    {
     "name": "stdout",
     "output_type": "stream",
     "text": [
      "Chi-Squared Statistic: 5.83\n",
      "P-value: 0.0541\n"
     ]
    }
   ],
   "source": [
    "import numpy as np\n",
    "from scipy import stats\n",
    "\n",
    "# Create the contingency table\n",
    "data = np.array([[20, 15],\n",
    "                 [10, 25],\n",
    "                 [15, 20]])\n",
    "\n",
    "# Perform the chi-square test\n",
    "chi_squared, p_value, _, _ = stats.chi2_contingency(data)\n",
    "\n",
    "print(f\"Chi-Squared Statistic: {chi_squared:.2f}\")\n",
    "print(f\"P-value: {p_value:.4f}\")\n"
   ]
  },
  {
   "cell_type": "markdown",
   "id": "69031f92-228c-4325-af38-26e9b3ea62cb",
   "metadata": {},
   "source": [
    "Q4. A study of the prevalence of smoking in a population of 500 individuals found that 60 individuals\n",
    "smoked. Use Python to calculate the 95% confidence interval for the true proportion of individuals in the\n",
    "population who smoke."
   ]
  },
  {
   "cell_type": "code",
   "execution_count": 5,
   "id": "b4d32e7f-ab71-4575-9745-cab2b7ffdf2b",
   "metadata": {},
   "outputs": [
    {
     "name": "stdout",
     "output_type": "stream",
     "text": [
      "95% Confidence Interval for Smoking Prevalence: (0.0915, 0.1485)\n"
     ]
    }
   ],
   "source": [
    "import scipy.stats as stats\n",
    "import math\n",
    "\n",
    "# Sample size (number of individuals)\n",
    "n = 500\n",
    "\n",
    "# Number of individuals who smoke\n",
    "x = 60\n",
    "\n",
    "# Calculate the sample proportion\n",
    "p = x / n\n",
    "\n",
    "# Set the confidence level\n",
    "confidence_level = 0.95\n",
    "\n",
    "# Calculate the margin of error (MOE)\n",
    "moe = stats.norm.ppf((1 + confidence_level) / 2) * math.sqrt((p * (1 - p)) / n)\n",
    "\n",
    "# Calculate the confidence interval\n",
    "lower_bound = p - moe\n",
    "upper_bound = p + moe\n",
    "\n",
    "print(f\"95% Confidence Interval for Smoking Prevalence: ({lower_bound:.4f}, {upper_bound:.4f})\")\n"
   ]
  },
  {
   "cell_type": "markdown",
   "id": "221a212c-b6f2-493c-8542-1700c1bc38a4",
   "metadata": {},
   "source": [
    "Q5. Calculate the 90% confidence interval for a sample of data with a mean of 75 and a standard deviation\n",
    "of 12 using Python. Interpret the results."
   ]
  },
  {
   "cell_type": "code",
   "execution_count": 6,
   "id": "9cb945ab-dd0b-46f5-97df-212bbbd20bc4",
   "metadata": {},
   "outputs": [
    {
     "name": "stdout",
     "output_type": "stream",
     "text": [
      "90% Confidence Interval: (73.03, 76.97)\n"
     ]
    }
   ],
   "source": [
    "import scipy.stats as stats\n",
    "\n",
    "# Sample data parameters\n",
    "mean = 75\n",
    "std_dev = 12\n",
    "sample_size = 100  # Replace with your actual sample size\n",
    "\n",
    "# Calculate the standard error of the mean (SEM)\n",
    "sem = std_dev / (sample_size**0.5)\n",
    "\n",
    "# Set the confidence level\n",
    "confidence_level = 0.90\n",
    "\n",
    "# Calculate the margin of error (MOE)\n",
    "moe = stats.norm.ppf((1 + confidence_level) / 2) * sem\n",
    "\n",
    "# Calculate the confidence interval\n",
    "lower_bound = mean - moe\n",
    "upper_bound = mean + moe\n",
    "\n",
    "print(f\"90% Confidence Interval: ({lower_bound:.2f}, {upper_bound:.2f})\")\n"
   ]
  },
  {
   "cell_type": "markdown",
   "id": "76a8fe8f-fa5d-4904-8635-9c813a7eb39d",
   "metadata": {},
   "source": [
    "Q6. Use Python to plot the chi-square distribution with 10 degrees of freedom. Label the axes and shade the\n",
    "area corresponding to a chi-square statistic of 15."
   ]
  },
  {
   "cell_type": "code",
   "execution_count": 7,
   "id": "53e6fd54-e0ea-4154-b09f-167ca29b38c1",
   "metadata": {},
   "outputs": [
    {
     "data": {
      "image/png": "[encoded data removed]",
      "text/plain": [
       "<Figure size 640x480 with 1 Axes>"
      ]
     },
     "metadata": {},
     "output_type": "display_data"
    }
   ],
   "source": [
    "import numpy as np\n",
    "import matplotlib.pyplot as plt\n",
    "import scipy.stats as stats\n",
    "\n",
    "# Degrees of freedom\n",
    "df = 10\n",
    "\n",
    "# Generate chi-square values\n",
    "x = np.linspace(0, 30, 400)\n",
    "y = stats.chi2.pdf(x, df)\n",
    "\n",
    "# Create the plot\n",
    "plt.plot(x, y, 'b-', lw=2)\n",
    "\n",
    "# Shade the area corresponding to chi-square statistic of 15\n",
    "x_fill = np.linspace(0, 15, 200)\n",
    "y_fill = stats.chi2.pdf(x_fill, df)\n",
    "plt.fill_between(x_fill, y_fill, color='gray', alpha=0.5)\n",
    "\n",
    "# Label the axes\n",
    "plt.xlabel('Chi-Square Value')\n",
    "plt.ylabel('Probability Density')\n",
    "plt.title('Chi-Square Distribution (df=10)')\n",
    "\n",
    "# Show the plot\n",
    "plt.grid(True)\n",
    "plt.show()\n"
   ]
  },
  {
   "cell_type": "markdown",
   "id": "9155b7bc-7ef0-4cd5-a56f-6dee02f28b01",
   "metadata": {},
   "source": [
    "Q7. A random sample of 1000 people was asked if they preferred Coke or Pepsi. Of the sample, 520\n",
    "preferred Coke. Calculate a 99% confidence interval for the true proportion of people in the population who\n",
    "prefer Coke."
   ]
  },
  {
   "cell_type": "code",
   "execution_count": 8,
   "id": "ecf7ffec-493c-46af-9583-9fc006d90644",
   "metadata": {},
   "outputs": [
    {
     "name": "stdout",
     "output_type": "stream",
     "text": [
      "99% Confidence Interval for Preference of Coke: (0.4793, 0.5607)\n"
     ]
    }
   ],
   "source": [
    "import scipy.stats as stats\n",
    "import math\n",
    "\n",
    "# Sample size\n",
    "n = 1000\n",
    "\n",
    "# Number of people who prefer Coke in the sample\n",
    "x = 520\n",
    "\n",
    "# Calculate the sample proportion\n",
    "p = x / n\n",
    "\n",
    "# Set the confidence level\n",
    "confidence_level = 0.99\n",
    "\n",
    "# Calculate the margin of error (MOE)\n",
    "moe = stats.norm.ppf((1 + confidence_level) / 2) * math.sqrt((p * (1 - p)) / n)\n",
    "\n",
    "# Calculate the confidence interval\n",
    "lower_bound = p - moe\n",
    "upper_bound = p + moe\n",
    "\n",
    "print(f\"99% Confidence Interval for Preference of Coke: ({lower_bound:.4f}, {upper_bound:.4f})\")\n"
   ]
  },
  {
   "cell_type": "markdown",
   "id": "12e3d1a0-bb1d-4b96-aa1c-90f17a538546",
   "metadata": {},
   "source": [
    "Q8. A researcher hypothesizes that a coin is biased towards tails. They flip the coin 100 times and observe\n",
    "45 tails. Conduct a chi-square goodness of fit test to determine if the observed frequencies match the\n",
    "expected frequencies of a fair coin. Use a significance level of 0.05."
   ]
  },
  {
   "cell_type": "code",
   "execution_count": 9,
   "id": "0643a959-4e60-4545-a767-fc42aa99e5e4",
   "metadata": {},
   "outputs": [
    {
     "name": "stdout",
     "output_type": "stream",
     "text": [
      "Chi-Squared Statistic: 1.00\n",
      "P-value: 0.3173\n",
      "Fail to reject the null hypothesis: There is no evidence of bias towards tails.\n"
     ]
    }
   ],
   "source": [
    "import numpy as np\n",
    "from scipy import stats\n",
    "\n",
    "# Observed frequencies\n",
    "observed_tails = 45\n",
    "observed_heads = 100 - observed_tails\n",
    "\n",
    "# Expected frequencies for a fair coin\n",
    "expected_tails = 0.5 * 100\n",
    "expected_heads = 0.5 * 100\n",
    "\n",
    "# Create the observed and expected frequency arrays\n",
    "observed_frequencies = np.array([observed_tails, observed_heads])\n",
    "expected_frequencies = np.array([expected_tails, expected_heads])\n",
    "\n",
    "# Perform the chi-square goodness of fit test\n",
    "chi_squared, p_value = stats.chisquare(f_obs=observed_frequencies, f_exp=expected_frequencies)\n",
    "\n",
    "# Set the significance level\n",
    "alpha = 0.05\n",
    "\n",
    "print(f\"Chi-Squared Statistic: {chi_squared:.2f}\")\n",
    "print(f\"P-value: {p_value:.4f}\")\n",
    "\n",
    "# Compare the p-value to the significance level\n",
    "if p_value < alpha:\n",
    "    print(\"Reject the null hypothesis: The coin may be biased towards tails.\")\n",
    "else:\n",
    "    print(\"Fail to reject the null hypothesis: There is no evidence of bias towards tails.\")\n"
   ]
  },
  {
   "cell_type": "markdown",
   "id": "3b604107-db23-49e8-95a5-2ac0ce658c62",
   "metadata": {},
   "source": [
    "Q9. A study was conducted to determine if there is an association between smoking status (smoker or\n",
    "non-smoker) and lung cancer diagnosis (yes or no). The results are shown in the contingency table below.\n",
    "Conduct a chi-square test for independence to determine if there is a significant association between\n",
    "smoking status and lung cancer diagnosis\n",
    "                .Lung Cancer: Yes   lunf cancer no\n",
    "\n",
    "Smoker      60                                 140\n",
    "Non-smoker   30                          170\n",
    "use significant level 0.05"
   ]
  },
  {
   "cell_type": "code",
   "execution_count": 10,
   "id": "4f56c336-1758-4ca6-b17d-093c353eb8e4",
   "metadata": {},
   "outputs": [
    {
     "name": "stdout",
     "output_type": "stream",
     "text": [
      "Chi-Squared Statistic: 12.06\n",
      "P-value: 0.0005\n",
      "Reject the null hypothesis: There is a significant association between smoking status and lung cancer diagnosis.\n"
     ]
    }
   ],
   "source": [
    "import numpy as np\n",
    "from scipy import stats\n",
    "\n",
    "# Create the contingency table\n",
    "data = np.array([[60, 140],\n",
    "                 [30, 170]])\n",
    "\n",
    "# Perform the chi-square test for independence\n",
    "chi_squared, p_value, _, _ = stats.chi2_contingency(data)\n",
    "\n",
    "# Set the significance level\n",
    "alpha = 0.05\n",
    "\n",
    "print(f\"Chi-Squared Statistic: {chi_squared:.2f}\")\n",
    "print(f\"P-value: {p_value:.4f}\")\n",
    "\n",
    "# Compare the p-value to the significance level\n",
    "if p_value < alpha:\n",
    "    print(\"Reject the null hypothesis: There is a significant association between smoking status and lung cancer diagnosis.\")\n",
    "else:\n",
    "    print(\"Fail to reject the null hypothesis: There is no significant association between smoking status and lung cancer diagnosis.\")\n"
   ]
  },
  {
   "cell_type": "markdown",
   "id": "d8219742-d964-4f4e-86fb-eb9daccd27e2",
   "metadata": {},
   "source": [
    "Q10. A study was conducted to determine if the proportion of people who prefer milk chocolate, dark\n",
    "chocolate, or white chocolate is different in the U.S. versus the U.K. A random sample of 500 people from\n",
    "the U.S. and a random sample of 500 people from the U.K. were surveyed. The results are shown in the\n",
    "contingency table below. Conduct a chi-square test for independence to determine if there is a significant\n",
    "association between chocolate preference and country of origin.\n",
    "Milk Chocolate\n",
    "\n",
    "U.S. (n=500) 200 150 150\n",
    "U.K. (n=500) 225 175 100"
   ]
  },
  {
   "cell_type": "code",
   "execution_count": 12,
   "id": "5ef91971-f031-4ff0-b424-76d33f045743",
   "metadata": {},
   "outputs": [
    {
     "name": "stdout",
     "output_type": "stream",
     "text": [
      "Chi-Squared Statistic: 13.39\n",
      "P-value: 0.0012\n",
      "Reject the null hypothesis: There is a significant association between chocolate preference and country of origin.\n"
     ]
    }
   ],
   "source": [
    "import numpy as np\n",
    "from scipy import stats\n",
    "\n",
    "# Create the contingency table\n",
    "data = np.array([[200, 150, 150],\n",
    "                 [225, 175, 100]])\n",
    "\n",
    "# Perform the chi-square test for independence\n",
    "chi_squared, p_value, _, _ = stats.chi2_contingency(data)\n",
    "\n",
    "# Set the significance level\n",
    "alpha = 0.01\n",
    "\n",
    "print(f\"Chi-Squared Statistic: {chi_squared:.2f}\")\n",
    "print(f\"P-value: {p_value:.4f}\")\n",
    "\n",
    "# Compare the p-value to the significance level\n",
    "if p_value < alpha:\n",
    "    print(\"Reject the null hypothesis: There is a significant association between chocolate preference and country of origin.\")\n",
    "else:\n",
    "    print(\"Fail to reject the null hypothesis: There is no significant association between chocolate preference and country of origin.\")\n",
    "\n",
    "    "
   ]
  },
  {
   "cell_type": "markdown",
   "id": "9218722f-ad52-4f83-93c3-082c4e6de1c3",
   "metadata": {},
   "source": [
    "Q11. A random sample of 30 people was selected from a population with an unknown mean and standard\n",
    "deviation. The sample mean was found to be 72 and the sample standard deviation was found to be 10.\n",
    "Conduct a hypothesis test to determine if the population mean is significantly different from 70. Use a\n",
    "significance level of 0.05."
   ]
  },
  {
   "cell_type": "code",
   "execution_count": null,
   "id": "5f37354c-bf3c-4431-9d7b-d67c1bcafe59",
   "metadata": {},
   "outputs": [],
   "source": []
  }
 ],
 "metadata": {
  "kernelspec": {
   "display_name": "Python 3 (ipykernel)",
   "language": "python",
   "name": "python3"
  },
  "language_info": {
   "codemirror_mode": {
    "name": "ipython",
    "version": 3
   },
   "file_extension": ".py",
   "mimetype": "text/x-python",
   "name": "python",
   "nbconvert_exporter": "python",
   "pygments_lexer": "ipython3",
   "version": "3.10.8"
  }
 },
 "nbformat": 4,
 "nbformat_minor": 5
}
