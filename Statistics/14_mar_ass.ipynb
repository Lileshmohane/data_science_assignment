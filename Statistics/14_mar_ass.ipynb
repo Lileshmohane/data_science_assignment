{
 "cells": [
  {
   "cell_type": "markdown",
   "id": "bd1f066e-e416-4b22-82bc-b2671de5c44c",
   "metadata": {},
   "source": [
    "Q1. Write a Python function that takes in two arrays of data and calculates the F-value for a variance ratio\n",
    "test. The function should return the F-value and the corresponding p-value for the test."
   ]
  },
  {
   "cell_type": "code",
   "execution_count": 1,
   "id": "20b7e4ab-60d7-40ac-b753-d37baa08eac6",
   "metadata": {},
   "outputs": [
    {
     "name": "stdout",
     "output_type": "stream",
     "text": [
      "F-value: 1.5650017711654263\n",
      "p-value: 0.24627944479798133\n"
     ]
    }
   ],
   "source": [
    "import scipy.stats as stats\n",
    "\n",
    "def calculate_f_value_and_p_value(data1, data2):\n",
    "    # Perform a one-way ANOVA test\n",
    "    f_statistic, p_value = stats.f_oneway(data1, data2)\n",
    "    \n",
    "    return f_statistic, p_value\n",
    "\n",
    "# Example usage:\n",
    "data1 = [45, 52, 60, 65, 70]\n",
    "data2 = [30, 40, 55, 58, 62]\n",
    "f_value, p_value = calculate_f_value_and_p_value(data1, data2)\n",
    "print(\"F-value:\", f_value)\n",
    "print(\"p-value:\", p_value)\n",
    "\n"
   ]
  },
  {
   "cell_type": "markdown",
   "id": "6892dbb7-885c-448d-8057-dd4a2b44d5c9",
   "metadata": {},
   "source": [
    "Q2. Given a significance level of 0.05 and the degrees of freedom for the numerator and denominator of an\n",
    "F-distribution, write a Python function that returns the critical F-value for a two-tailed test."
   ]
  },
  {
   "cell_type": "code",
   "execution_count": 3,
   "id": "a2c976b3-673d-45f3-9fe8-d3cc53030fa5",
   "metadata": {},
   "outputs": [
    {
     "name": "stdout",
     "output_type": "stream",
     "text": [
      "Critical F-value: 3.8586986662732143\n"
     ]
    }
   ],
   "source": [
    "import scipy.stats as stats\n",
    "\n",
    "def get_critical_f_value(alpha, dfn, dfd):\n",
    "    # Calculate the critical F-value for a two-tailed test\n",
    "    alpha = alpha / 2  # Split alpha for a two-tailed test\n",
    "    critical_f_value = stats.f.ppf(1 - alpha, dfn, dfd)\n",
    "    \n",
    "    return critical_f_value\n",
    "\n",
    "# Example usage:\n",
    "alpha = 0.05  # Significance level\n",
    "dfn = 3       # Degrees of freedom for numerator\n",
    "dfd = 20      # Degrees of freedom for denominator\n",
    "\n",
    "critical_f = get_critical_f_value(alpha, dfn, dfd)\n",
    "print(\"Critical F-value:\", critical_f)\n"
   ]
  },
  {
   "cell_type": "markdown",
   "id": "d5e81cc3-cdc4-4f5f-8414-862f447dafbb",
   "metadata": {},
   "source": [
    "Q3. Write a Python program that generates random samples from two normal distributions with known\n",
    "\n",
    "variances and uses an F-test to determine if the variances are equal. The program should output the F-\n",
    "value, degrees of freedom, and p-value for the test."
   ]
  },
  {
   "cell_type": "code",
   "execution_count": 4,
   "id": "a311bf29-f8b6-4704-8d7b-0978f8128ded",
   "metadata": {},
   "outputs": [
    {
     "name": "stdout",
     "output_type": "stream",
     "text": [
      "F-value: 1.0631939937140211\n",
      "Degrees of freedom (numerator, denominator): 29 39\n",
      "p-value: 0.8471740911905374\n",
      "Fail to reject the null hypothesis: Variances are equal.\n"
     ]
    }
   ],
   "source": [
    "import numpy as np\n",
    "import scipy.stats as stats\n",
    "\n",
    "# Parameters\n",
    "sample_size1 = 30\n",
    "sample_size2 = 40\n",
    "variance1 = 4.0\n",
    "variance2 = 6.0\n",
    "alpha = 0.05  # Significance level\n",
    "\n",
    "# Generate random samples\n",
    "np.random.seed(0)\n",
    "sample1 = np.random.normal(0, np.sqrt(variance1), sample_size1)\n",
    "sample2 = np.random.normal(0, np.sqrt(variance2), sample_size2)\n",
    "\n",
    "# Perform an F-test\n",
    "f_statistic = np.var(sample1, ddof=1) / np.var(sample2, ddof=1)\n",
    "dfn = sample_size1 - 1\n",
    "dfd = sample_size2 - 1\n",
    "p_value = 2 * min(stats.f.cdf(f_statistic, dfn, dfd), 1 - stats.f.cdf(f_statistic, dfn, dfd))\n",
    "\n",
    "# Output results\n",
    "print(\"F-value:\", f_statistic)\n",
    "print(\"Degrees of freedom (numerator, denominator):\", dfn, dfd)\n",
    "print(\"p-value:\", p_value)\n",
    "\n",
    "# Determine if variances are equal based on the p-value and significance level\n",
    "if p_value < alpha:\n",
    "    print(\"Reject the null hypothesis: Variances are not equal.\")\n",
    "else:\n",
    "    print(\"Fail to reject the null hypothesis: Variances are equal.\")\n"
   ]
  },
  {
   "cell_type": "markdown",
   "id": "79cdda38-55d9-4a06-85a2-03b42a8501fa",
   "metadata": {},
   "source": [
    "Q4.The variances of two populations are known to be 10 and 15. A sample of 12 observations is taken from\n",
    "each population. Conduct an F-test at the 5% significance level to determine if the variances are\n",
    "significantly different."
   ]
  },
  {
   "cell_type": "markdown",
   "id": "90e6d0d0-e980-414c-9b7b-555a6a70ea56",
   "metadata": {},
   "source": [
    "Define the null and alternative hypotheses:\n",
    "\n",
    "Null Hypothesis (H0): The variances of the two populations are equal.\n",
    "Alternative Hypothesis (Ha): The variances of the two populations are significantly different.\n",
    "Choose the significance level (alpha) = 0.05 (5%).\n",
    "\n",
    "Calculate the F-statistic using the formula:\n",
    "F= \n",
    "Variance of Sample 2\n",
    "Variance of Sample 1\n",
    "Determine the degrees of freedom for the numerator (dfn) and denominator (dfd):\n",
    "\n",
    "dfn = 12 - 1 = 11 (for Sample 1)\n",
    "dfd = 12 - 1 = 11 (for Sample 2)\n",
    "Find the critical F-value from an F-distribution table or using the scipy.stats library. For a two-tailed test at alpha = 0.05 and dfn = 11 and dfd = 11, the critical F-value is approximately 2.542 according to the F-distribution.\n",
    "\n",
    "Compare the calculated F-statistic to the critical F-value:\n",
    "\n",
    "If F-statistic > critical F-value, reject the null hypothesis.\n",
    "If F-statistic <= critical F-value, fail to reject the null hypothesis"
   ]
  },
  {
   "cell_type": "code",
   "execution_count": 7,
   "id": "d17102a7-ccdb-45de-96e5-392ec39246fb",
   "metadata": {},
   "outputs": [
    {
     "name": "stdout",
     "output_type": "stream",
     "text": [
      "fail  to  reject the null hypothesis : variane are not significantly  diffrent\n"
     ]
    }
   ],
   "source": [
    "import scipy.stats as stats\n",
    "# give a data\n",
    "variance1=10\n",
    "variance2=15\n",
    "sample_size=12\n",
    "alpha=0.05\n",
    "# calculate f state\n",
    "f_statistic = variance1/variance2\n",
    "# now find degree of freedom\n",
    "dfn= sample_size-1\n",
    "dfn = sample_size -1\n",
    "critical_f_value =stats.f.ppf(1-alpha/2,dfn,dfn)\n",
    "if f_statistic>critical_f_value:\n",
    "    print(\"reject the null hypothesis variance are significantly  diffrent \")\n",
    "else:\n",
    "    print(\"fail  to  reject the null hypothesis : variane are not significantly  diffrent\")"
   ]
  },
  {
   "cell_type": "markdown",
   "id": "ed95c874-67de-4ebf-a180-221b9ef05c48",
   "metadata": {},
   "source": [
    "Q5. A manufacturer claims that the variance of the diameter of a certain product is 0.005. A sample of 25\n",
    "products is taken, and the sample variance is found to be 0.006. Conduct an F-test at the 1% significance\n",
    "level to determine if the claim is justified."
   ]
  },
  {
   "cell_type": "markdown",
   "id": "7c591963-9a7c-4b17-a654-dcb51214ae5f",
   "metadata": {},
   "source": [
    "Define the null and alternative hypotheses:\n",
    "\n",
    "Null Hypothesis (H0): The manufacturer's claim that the variance is 0.005 is justified.\n",
    "Alternative Hypothesis (Ha): The manufacturer's claim is not justified, i.e., the variance is different from 0.005.\n",
    "Choose the significance level (alpha) = 0.01 (1%).\n",
    "\n",
    "Calculate the F-statistic using the formula:\n",
    "F= \n",
    "Claimed Variance\n",
    "Sample Variance\n",
    "Determine the degrees of freedom for the numerator (dfn) and denominator (dfd):\n",
    "\n",
    "dfn = Sample size - 1 = 25 - 1 = 24\n",
    "dfd = Not applicable because we are comparing to a specific value.\n",
    "Find the critical F-value from an F-distribution table or using the scipy.stats library. For a one-tailed test at alpha = 0.01 with dfn = 24, the critical F-value is approximately 2.870 according to the F-distribution.\n",
    "\n",
    "Compare the calculated F-statistic to the critical F-value:\n",
    "\n",
    "If F-statistic > critical F-value, reject the null hypothesis (claim is not justified).\n",
    "If F-statistic <= critical F-value, fail to reject the null hypothesis (claim is justified)."
   ]
  },
  {
   "cell_type": "code",
   "execution_count": 8,
   "id": "fa9742e0-8d82-42c7-9f4d-ba3c608c5e07",
   "metadata": {},
   "outputs": [
    {
     "name": "stdout",
     "output_type": "stream",
     "text": [
      "Fail to reject the null hypothesis: The claim is justified.\n"
     ]
    }
   ],
   "source": [
    "import scipy.stats as stats\n",
    "\n",
    "# Given data\n",
    "sample_variance = 0.006\n",
    "claimed_variance = 0.005\n",
    "sample_size = 25\n",
    "alpha = 0.01\n",
    "\n",
    "# Calculate the F-statistic\n",
    "f_statistic = sample_variance / claimed_variance\n",
    "\n",
    "# Degrees of freedom\n",
    "dfn = sample_size - 1\n",
    "\n",
    "# Find the critical F-value\n",
    "critical_f_value = stats.f.ppf(1 - alpha, dfn, dfd)\n",
    "\n",
    "# Determine if the claim is justified\n",
    "if f_statistic > critical_f_value:\n",
    "    print(\"Reject the null hypothesis: The claim is not justified.\")\n",
    "else:\n",
    "    print(\"Fail to reject the null hypothesis: The claim is justified.\")\n"
   ]
  },
  {
   "cell_type": "markdown",
   "id": "0e648869-9a21-4431-9da2-484e95a91fce",
   "metadata": {},
   "source": [
    "Q6. Write a Python function that takes in the degrees of freedom for the numerator and denominator of an\n",
    "F-distribution and calculates the mean and variance of the distribution. The function should return the\n",
    "mean and variance as a tuple."
   ]
  },
  {
   "cell_type": "code",
   "execution_count": 9,
   "id": "c3e8faba-b222-433a-b796-90e36963cb37",
   "metadata": {},
   "outputs": [
    {
     "name": "stdout",
     "output_type": "stream",
     "text": [
      "Mean of the F-distribution: 1.25\n",
      "Variance of the F-distribution: 1.3541666666666667\n"
     ]
    }
   ],
   "source": [
    "def calculate_f_distribution_mean_and_variance(dfn, dfd):\n",
    "    # Mean of the F-distribution\n",
    "    if dfd > 2:\n",
    "        mean = dfd / (dfd - 2)\n",
    "    else:\n",
    "        mean = float('inf')  # Mean is undefined for dfd <= 2\n",
    "    \n",
    "    # Variance of the F-distribution\n",
    "    if dfd > 4:\n",
    "        variance = (2 * (dfd**2) * (dfn + dfd - 2)) / (dfn * (dfd - 2)**2 * (dfd - 4))\n",
    "    else:\n",
    "        variance = float('inf')  # Variance is undefined for dfd <= 4\n",
    "    \n",
    "    return mean, variance\n",
    "\n",
    "# Example usage:\n",
    "dfn = 5  # Degrees of freedom for numerator\n",
    "dfd = 10  # Degrees of freedom for denominator\n",
    "\n",
    "mean, variance = calculate_f_distribution_mean_and_variance(dfn, dfd)\n",
    "print(\"Mean of the F-distribution:\", mean)\n",
    "print(\"Variance of the F-distribution:\", variance)\n"
   ]
  },
  {
   "cell_type": "markdown",
   "id": "ebe2e117-4e8c-41b4-9c7e-6e5394c8996b",
   "metadata": {},
   "source": [
    "Q7. A random sample of 10 measurements is taken from a normal population with unknown variance. The\n",
    "sample variance is found to be 25. Another random sample of 15 measurements is taken from another\n",
    "normal population with unknown variance, and the sample variance is found to be 20. Conduct an F-test\n",
    "at the 10% significance level to determine if the variances are significantly different."
   ]
  },
  {
   "cell_type": "markdown",
   "id": "bee4e9ae-b2c8-4668-8923-c87155290733",
   "metadata": {},
   "source": [
    "Define the null and alternative hypotheses:\n",
    "\n",
    "Null Hypothesis (H0): The variances of the two populations are equal.\n",
    "Alternative Hypothesis (Ha): The variances of the two populations are significantly different.\n",
    "Choose the significance level (alpha) = 0.10 (10%).\n",
    "\n",
    "Calculate the F-statistic using the formula:\n",
    "Sample Variance of Sample 2\n",
    "Sample Variance of Sample 1\n",
    "Determine the degrees of freedom for the numerator (dfn) and denominator (dfd):\n",
    "\n",
    "dfn = Number of observations in Sample 1 - 1 = 10 - 1 = 9\n",
    "dfd = Number of observations in Sample 2 - 1 = 15 - 1 = 14\n",
    "Find the critical F-value from an F-distribution table or using the scipy.stats library. For a two-tailed test at alpha = 0.10 with dfn = 9 and dfd = 14, the critical F-value is approximately 2.773 according to the F-distribution.\n",
    "\n",
    "Compare the calculated F-statistic to the critical F-value:\n",
    "\n",
    "If F-statistic > critical F-value, reject the null hypothesis (variances are significantly different).\n",
    "If F-statistic <= critical F-value, fail to reject the null hypothesis (variances are not significantly different)."
   ]
  },
  {
   "cell_type": "code",
   "execution_count": 10,
   "id": "e3d435ad-04a5-4d7b-8c8f-c2d82230b3a1",
   "metadata": {},
   "outputs": [
    {
     "name": "stdout",
     "output_type": "stream",
     "text": [
      "Fail to reject the null hypothesis: Variances are not significantly different.\n"
     ]
    }
   ],
   "source": [
    "import scipy.stats as stats\n",
    "\n",
    "# Given data\n",
    "sample_variance1 = 25\n",
    "sample_variance2 = 20\n",
    "sample_size1 = 10\n",
    "sample_size2 = 15\n",
    "alpha = 0.10\n",
    "\n",
    "# Calculate the F-statistic\n",
    "f_statistic = sample_variance1 / sample_variance2\n",
    "\n",
    "# Degrees of freedom\n",
    "dfn = sample_size1 - 1\n",
    "dfd = sample_size2 - 1\n",
    "\n",
    "# Find the critical F-value\n",
    "critical_f_value = stats.f.ppf(1 - alpha/2, dfn, dfd)\n",
    "\n",
    "# Determine if variances are significantly different\n",
    "if f_statistic > critical_f_value:\n",
    "    print(\"Reject the null hypothesis: Variances are significantly different.\")\n",
    "else:\n",
    "    print(\"Fail to reject the null hypothesis: Variances are not significantly different.\")\n"
   ]
  },
  {
   "cell_type": "markdown",
   "id": "8b19daa7-b865-44a1-9b44-bbd662ccdeff",
   "metadata": {},
   "source": [
    "Q8. The following data represent the waiting times in minutes at two different restaurants on a Saturday\n",
    "night: Restaurant A: 24, 25, 28, 23, 22, 20, 27; Restaurant B: 31, 33, 35, 30, 32, 36. Conduct an F-test at the 5%\n",
    "significance level to determine if the variances are significantly different."
   ]
  },
  {
   "cell_type": "markdown",
   "id": "1f0670f3-2943-42ec-b14e-a4e9df3c3df2",
   "metadata": {},
   "source": [
    "Define the null and alternative hypotheses:\n",
    "\n",
    "Null Hypothesis (H0): The variances of the two samples are equal.\n",
    "Alternative Hypothesis (Ha): The variances of the two samples are significantly different.\n",
    "Choose the significance level (alpha) = 0.05 (5%).\n",
    "\n",
    "Calculate the sample variances for each of the two samples.\n",
    "\n",
    "Determine the degrees of freedom for the numerator (dfn) and denominator (dfd):\n",
    "\n",
    "dfn = Number of observations in Sample A - 1\n",
    "dfd = Number of observations in Sample B - 1\n",
    "Calculate the F-statistic using the formula:\n",
    "\n",
    "F= \n",
    "Sample Variance of Sample B\n",
    "Sample Variance of Sample A\n",
    "\n",
    "Find the critical F-value from an F-distribution table or using the scipy.stats library. For a two-tailed test at alpha = 0.05 with dfn and dfd degrees of freedom, you'll need to find the critical values for both the upper and lower tails. You'll use these critical values to compare with the F-statistic.\n",
    "\n",
    "Compare the calculated F-statistic to the critical F-values:\n",
    "\n",
    "If F-statistic is greater than the upper critical F-value or less than the lower critical F-value, reject the null hypothesis.\n",
    "If the F-statistic falls between the critical F-values, fail to reject the null hypothesis."
   ]
  },
  {
   "cell_type": "code",
   "execution_count": 11,
   "id": "c576cae7-168a-4cb6-9606-658844375da9",
   "metadata": {},
   "outputs": [
    {
     "name": "stdout",
     "output_type": "stream",
     "text": [
      "Fail to reject the null hypothesis: Variances are not significantly different.\n"
     ]
    }
   ],
   "source": [
    "import scipy.stats as stats\n",
    "\n",
    "# Data\n",
    "data_a = [24, 25, 28, 23, 22, 20, 27]\n",
    "data_b = [31, 33, 35, 30, 32, 36]\n",
    "\n",
    "# Given significance level\n",
    "alpha = 0.05\n",
    "\n",
    "# Calculate sample variances\n",
    "sample_variance_a = sum((x - sum(data_a) / len(data_a))**2 for x in data_a) / (len(data_a) - 1)\n",
    "sample_variance_b = sum((x - sum(data_b) / len(data_b))**2 for x in data_b) / (len(data_b) - 1)\n",
    "\n",
    "# Degrees of freedom\n",
    "dfn = len(data_a) - 1\n",
    "dfd = len(data_b) - 1\n",
    "\n",
    "# Calculate the F-statistic\n",
    "f_statistic = sample_variance_a / sample_variance_b\n",
    "\n",
    "# Find the critical F-values for the upper and lower tails\n",
    "lower_critical_f_value = stats.f.ppf(alpha / 2, dfn, dfd)\n",
    "upper_critical_f_value = stats.f.ppf(1 - alpha / 2, dfn, dfd)\n",
    "\n",
    "# Determine if variances are significantly different\n",
    "if f_statistic < lower_critical_f_value or f_statistic > upper_critical_f_value:\n",
    "    print(\"Reject the null hypothesis: Variances are significantly different.\")\n",
    "else:\n",
    "    print(\"Fail to reject the null hypothesis: Variances are not significantly different.\")\n"
   ]
  },
  {
   "cell_type": "markdown",
   "id": "5d0739d4-7aa3-4f62-8ce1-f19edfa49091",
   "metadata": {},
   "source": [
    "Q9. The following data represent the test scores of two groups of students: Group A: 80, 85, 90, 92, 87, 83;\n",
    "Group B: 75, 78, 82, 79, 81, 84. Conduct an F-test at the 1% significance level to determine if the variances\n",
    "are significantly different."
   ]
  },
  {
   "cell_type": "markdown",
   "id": "db676dd2-c81d-4cd9-9174-f23ee2d61c85",
   "metadata": {},
   "source": [
    "Define the null and alternative hypotheses:\n",
    "\n",
    "Null Hypothesis (H0): The variances of the two groups are equal.\n",
    "Alternative Hypothesis (Ha): The variances of the two groups are significantly different.\n",
    "Choose the significance level (alpha) = 0.01 (1%).\n",
    "\n",
    "Calculate the sample variances for each of the two groups.\n",
    "\n",
    "Determine the degrees of freedom for the numerator (dfn) and denominator (dfd):\n",
    "\n",
    "dfn = Number of observations in Group A - 1\n",
    "dfd = Number of observations in Group B - 1\n",
    "Calculate the F-statistic using the formula:\n",
    "F= \n",
    "Sample Variance of Group B\n",
    "Sample Variance of Group A\n",
    "\n",
    "Find the critical F-value from an F-distribution table or using the scipy.stats library. For a two-tailed test at alpha = 0.01 with dfn and dfd degrees of freedom, you'll need to find the critical values for both the upper and lower tails. You'll use these critical values to compare with the F-statistic.\n",
    "\n",
    "Compare the calculated F-statistic to the critical F-values:\n",
    "\n",
    "If F-statistic is greater than the upper critical F-value or less than the lower critical F-value, reject the null hypothesis.\n",
    "If the F-statistic falls between the critical F-values, fail to reject the null hypothesis."
   ]
  },
  {
   "cell_type": "code",
   "execution_count": 12,
   "id": "e0e76fff-fcff-4fb5-ad06-a62b3b163c06",
   "metadata": {},
   "outputs": [
    {
     "name": "stdout",
     "output_type": "stream",
     "text": [
      "Fail to reject the null hypothesis: Variances are not significantly different.\n"
     ]
    }
   ],
   "source": [
    "import scipy.stats as stats\n",
    "\n",
    "# Data\n",
    "group_a_scores = [80, 85, 90, 92, 87, 83]\n",
    "group_b_scores = [75, 78, 82, 79, 81, 84]\n",
    "\n",
    "# Given significance level\n",
    "alpha = 0.01\n",
    "\n",
    "# Calculate sample variances\n",
    "sample_variance_a = sum((x - sum(group_a_scores) / len(group_a_scores))**2 for x in group_a_scores) / (len(group_a_scores) - 1)\n",
    "sample_variance_b = sum((x - sum(group_b_scores) / len(group_b_scores))**2 for x in group_b_scores) / (len(group_b_scores) - 1)\n",
    "\n",
    "# Degrees of freedom\n",
    "dfn = len(group_a_scores) - 1\n",
    "dfd = len(group_b_scores) - 1\n",
    "\n",
    "# Calculate the F-statistic\n",
    "f_statistic = sample_variance_a / sample_variance_b\n",
    "\n",
    "# Find the critical F-values for the upper and lower tails\n",
    "lower_critical_f_value = stats.f.ppf(alpha / 2, dfn, dfd)\n",
    "upper_critical_f_value = stats.f.ppf(1 - alpha / 2, dfn, dfd)\n",
    "\n",
    "# Determine if variances are significantly different\n",
    "if f_statistic < lower_critical_f_value or f_statistic > upper_critical_f_value:\n",
    "    print(\"Reject the null hypothesis: Variances are significantly different.\")\n",
    "else:\n",
    "    print(\"Fail to reject the null hypothesis: Variances are not significantly different.\")\n"
   ]
  },
  {
   "cell_type": "code",
   "execution_count": null,
   "id": "a253b218-1c62-4acd-a367-f6edf91009fb",
   "metadata": {},
   "outputs": [],
   "source": []
  },
  {
   "cell_type": "code",
   "execution_count": null,
   "id": "fc2d4686-7a9f-48c4-8c91-248d7faef5aa",
   "metadata": {},
   "outputs": [],
   "source": []
  }
 ],
 "metadata": {
  "kernelspec": {
   "display_name": "Python 3 (ipykernel)",
   "language": "python",
   "name": "python3"
  },
  "language_info": {
   "codemirror_mode": {
    "name": "ipython",
    "version": 3
   },
   "file_extension": ".py",
   "mimetype": "text/x-python",
   "name": "python",
   "nbconvert_exporter": "python",
   "pygments_lexer": "ipython3",
   "version": "3.10.8"
  }
 },
 "nbformat": 4,
 "nbformat_minor": 5
}
