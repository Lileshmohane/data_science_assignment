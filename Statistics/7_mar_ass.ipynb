{
 "cells": [
  {
   "cell_type": "markdown",
   "id": "0d724d38-42bc-461f-8e51-6338f079feb5",
   "metadata": {},
   "source": [
    "Q1. What are the three measures of central tendency?"
   ]
  },
  {
   "cell_type": "markdown",
   "id": "6ee1cd3d-91e8-441e-8165-25c549fe988e",
   "metadata": {},
   "source": [
    "Mean: The mean, often referred to as the average, is calculated by summing up all the values in a dataset and then dividing by the number of values. It represents the balance point of the data and is sensitive to outliers.\n",
    "\n",
    "Median: The median is the middle value of a dataset when it is arranged in ascending or descending order. It is not affected by extreme values (outliers) and provides a more robust measure of central tendency.\n",
    "\n",
    "Mode: The mode is the value that appears most frequently in a dataset. It is the only measure of central tendency that can be applied to categorical data and is useful for identifying the most common category or value."
   ]
  },
  {
   "cell_type": "markdown",
   "id": "66f23573-b313-4502-83c2-40ccd19fe9a1",
   "metadata": {},
   "source": [
    "Q2. What is the difference between the mean, median, and mode? How are they used to measure the\n",
    "central tendency of a dataset?"
   ]
  },
  {
   "cell_type": "markdown",
   "id": "3d3dbe59-8b72-436a-97dd-b44416f5a08f",
   "metadata": {},
   "source": [
    "Mean:\n",
    "\n",
    "Definition: The mean is calculated by adding up all the values in a dataset and then dividing by the total number of values.\n",
    "Sensitivity to Outliers: The mean is sensitive to outliers, which are extreme values that can disproportionately affect its value. Even a single outlier can significantly skew the mean.\n",
    "Use Cases: The mean is commonly used when the data is normally distributed or approximately symmetrical and when outliers are not a concern. It is widely used in statistical analysis and calculations.\n",
    "Median:\n",
    "\n",
    "Definition: The median is the middle value of a dataset when it is arranged in ascending or descending order. If the dataset has an odd number of values, the median is the middle value. If the dataset has an even number of values, the median is the average of the two middle values.\n",
    "Sensitivity to Outliers: The median is less sensitive to outliers compared to the mean. Outliers have less impact on the median value.\n",
    "Use Cases: The median is often used when the data contains outliers or is skewed. It provides a more robust measure of central tendency in such cases and is especially useful for ordinal or interval data.\n",
    "Mode:\n",
    "\n",
    "Definition: The mode is the value that appears most frequently in a dataset.\n",
    "Sensitivity to Outliers: The mode is not affected by outliers, as it is determined solely by the frequency of values.\n",
    "Use Cases: The mode is used primarily with categorical or nominal data, where values represent distinct categories. It helps identify the most common category or value in the dataset and can provide insight into the distribution of categorical variables.\n"
   ]
  },
  {
   "cell_type": "markdown",
   "id": "eda5ad44-d773-4c7c-bd87-f07b0851093a",
   "metadata": {},
   "source": [
    "Q3. Measure the three measures of central tendency for the given height data:\n",
    "[178,177,176,177,178.2,178,175,179,180,175,178.9,176.2,177,172.5,178,176.5]"
   ]
  },
  {
   "cell_type": "markdown",
   "id": "9de4bfff-b7af-42ff-9180-064179dc33e6",
   "metadata": {},
   "source": [
    "Height data: [178, 177, 176, 177, 178.2, 178, 175, 179, 180, 175, 178.9, 176.2, 177, 172.5, 178, 176.5]\n",
    "\n",
    "Mean:\n",
    "Mean = (178 + 177 + 176 + 177 + 178.2 + 178 + 175 + 179 + 180 + 175 + 178.9 + 176.2 + 177 + 172.5 + 178 + 176.5) / 16\n",
    "Mean = 2815.3 / 16\n",
    "Mean ≈ 175.95625\n",
    "\n",
    "Median:\n",
    "First, let's sort the data in ascending order: [172.5, 175, 175, 176, 176, 176.2, 176.5, 177, 177, 177, 178, 178, 178, 178.2, 178.9, 179, 180]\n",
    "\n",
    "Since there are 16 values, the median is the average of the 8th and 9th values:\n",
    "Median = (176.5 + 177) / 2\n",
    "Median = 353.5 / 2\n",
    "Median = 176.75\n",
    "\n",
    "Mode:\n",
    "The mode is the value that appears most frequently. In this dataset, the mode is 178, as it appears three times.\n",
    "\n",
    "So, for the given height data:\n",
    "\n",
    "Mean ≈ 175.95625\n",
    "Median = 176.75\n",
    "Mode = 178\n",
    "\n",
    "\n",
    "\n",
    "\n"
   ]
  },
  {
   "cell_type": "markdown",
   "id": "598deb04-fddb-4305-808e-5572c1262dff",
   "metadata": {},
   "source": [
    "Q4. Find the standard deviation for the given data:\n",
    "[178,177,176,177,178.2,178,175,179,180,175,178.9,176.2,177,172.5,178,176.5]"
   ]
  },
  {
   "cell_type": "markdown",
   "id": "2f5852ab-24de-43f5-aac3-f875b47cd9a8",
   "metadata": {},
   "source": [
    "|Calculate the mean (average) of the data.\n",
    "For each data point, subtract the mean and square the result.\n",
    "Calculate the mean of the squared differences.\n",
    "Take the square root of the mean squared differences calculated in step 3.\n",
    "Let's proceed with the calculation:\n",
    "\n",
    "Given data: [178, 177, 176, 177, 178.2, 178, 175, 179, 180, 175, 178.9, 176.2, 177, 172.5, 178, 176.5]\n",
    "\n",
    "Step 1: Calculate the mean (average)\n",
    "Mean = (178 + 177 + 176 + 177 + 178.2 + 178 + 175 + 179 + 180 + 175 + 178.9 + 176.2 + 177 + 172.5 + 178 + 176.5) / 16\n",
    "Mean ≈ 176.55625\n",
    "\n",
    "Step 2: Calculate the squared differences from the mean for each data point:\n",
    "(178 - 176.55625)^2 ≈ 2.06010156\n",
    "(177 - 176.55625)^2 ≈ 0.19610563\n",
    "(176 - 176.55625)^2 ≈ 0.31023438\n",
    "... (continue for all data points)\n",
    "\n",
    "Step 3: Calculate the mean of the squared differences:\n",
    "Mean of squared differences = (2.06010156 + 0.19610563 + 0.31023438 + ... + sum of all squared differences) / 16\n",
    "\n",
    "Step 4: Take the square root of the mean squared differences calculated in step 3:\n",
    "Standard deviation = √(Mean of squared differences)\n",
    "\n",
    "After completing these calculations, you'll have the standa"
   ]
  },
  {
   "cell_type": "markdown",
   "id": "eeb45902-47d2-451e-bc4a-5325b902e851",
   "metadata": {},
   "source": [
    "Q5. How are measures of dispersion such as range, variance, and standard deviation used to describe\n",
    "the spread of a dataset? Provide an example."
   ]
  },
  {
   "cell_type": "markdown",
   "id": "d40df070-08de-4a7c-a590-5dff7885e3da",
   "metadata": {},
   "source": [
    "Measures of dispersion, such as range, variance, and standard deviation, are used to quantify the spread or variability of a dataset. They provide information about how much individual data points deviate from the central tendency (mean, median, or mode) of the dataset. These measures help in understanding the distribution and variability of the data points, which is crucial for making informed decisions and drawing meaningful conclusions from the data.\n",
    "\n",
    "Let's explore each measure of dispersion and provide an example:\n",
    "\n",
    "Range:\n",
    "Definition: The range is the difference between the maximum and minimum values in a dataset.\n",
    "Calculation: Range = Maximum value - Minimum value\n",
    "Use: The range gives a simple measure of how spread out the data is across its entire range.\n",
    "Example: Consider the ages of a group of people (in years): [22, 25, 27, 30, 31, 33]. The range would be 33 (maximum) - 22 (minimum) = 11 years, indicating that the ages vary by 11 years across the dataset.\n",
    "\n",
    "Variance:\n",
    "Definition: Variance measures the average of the squared differences between each data point and the mean of the dataset.\n",
    "Calculation: Variance = (Sum of squared differences) / (Number of data points)\n",
    "Use: Variance provides a measure of the overall spread of data points from the mean.\n",
    "Example: Let's use the same age data: [22, 25, 27, 30, 31, 33]. First, calculate the mean (28.33). Then, calculate the squared differences between each age and the mean, sum them up, and divide by the number of data points. The variance would be the average squared difference.\n",
    "\n",
    "Standard Deviation:\n",
    "Definition: The standard deviation is the square root of the variance. It provides a more interpretable measure of dispersion and is often used to describe the average amount of deviation from the mean.\n",
    "Calculation: Standard Deviation = √Variance\n",
    "Use: Standard deviation gives a measure of how much individual data points typically deviate from the mean.\n",
    "Example (continued from the variance example): If the calculated variance is 17.14, then the standard deviation would be the square root of 17.14, which is approximately 4.14. This indicates that the ages, on average, deviate by about 4.14 years from the mean age."
   ]
  },
  {
   "cell_type": "markdown",
   "id": "4f19a3cb-f1f2-4b0f-8fb4-eaf4daf27bce",
   "metadata": {},
   "source": [
    "Q6. What is a Venn diagram?"
   ]
  },
  {
   "cell_type": "markdown",
   "id": "5d3a546e-4bc5-4e43-bd47-f2f553502528",
   "metadata": {},
   "source": [
    "A Venn diagram is a graphical representation used to visually depict the relationships between different sets, groups, or categories. It consists of overlapping circles (or other shapes) that represent the sets, with each circle representing a different category. The areas of overlap between the circles represent the elements that belong to multiple sets, while the non-overlapping regions represent elements that belong exclusively to a single set."
   ]
  },
  {
   "cell_type": "markdown",
   "id": "906ed71f-8736-45a5-95f6-fccd735a7b6b",
   "metadata": {},
   "source": [
    "Q7. For the two given sets A = (2,3,4,5,6,7) & B = (0,2,6,8,10). Find:\n",
    "(i) A B\n",
    "(ii) A ⋃ B"
   ]
  },
  {
   "cell_type": "markdown",
   "id": "95eef3e9-9dc7-4b80-9677-7e43095a3ba7",
   "metadata": {},
   "source": [
    "Given sets:\n",
    "A = {2, 3, 4, 5, 6, 7}\n",
    "B = {0, 2, 6, 8, 10}\n",
    "\n",
    "(i) A ∩ B (Intersection):\n",
    "The intersection of two sets consists of the elements that are common to both sets.\n",
    "\n",
    "A ∩ B = {x | x ∈ A and x ∈ B}\n",
    "\n",
    "In this case:\n",
    "A ∩ B = {2, 6}\n",
    "\n",
    "(ii) A ⋃ B (Union):\n",
    "The union of two sets consists of all the elements that belong to either set, without duplication.\n",
    "\n",
    "A ⋃ B = {x | x ∈ A or x ∈ B}\n",
    "\n",
    "In this case:\n",
    "A ⋃ B = {0, 2, 3, 4, 5, 6, 7, 8, 10}"
   ]
  },
  {
   "cell_type": "markdown",
   "id": "1349d084-76e0-4713-8d1d-e67b0b11eee2",
   "metadata": {},
   "source": [
    "Q8. What do you understand about skewness in data?"
   ]
  },
  {
   "cell_type": "markdown",
   "id": "23756f31-caa3-4993-88ca-31649cd3e319",
   "metadata": {},
   "source": [
    "Skewness in data refers to the asymmetry or lack of symmetry in the distribution of values within a dataset. It indicates the extent to which the data is stretched or pulled in one direction, either to the left or right, relative to a central point. Skewness is an important concept in statistics and data analysis as it provides insights into the shape and characteristics of a distribution.\n",
    "\n",
    "There are two main types of skewness:\n",
    "\n",
    "Positive Skew (Right Skew):\n",
    "\n",
    "In a positively skewed distribution, the tail on the right side (higher values) is longer or stretched compared to the left side (lower values).\n",
    "The majority of the data points are concentrated on the left side of the distribution, with a few larger values on the right side.\n",
    "The mean tends to be greater than the median in a positively skewed distribution.\n",
    "Negative Skew (Left Skew):\n",
    "\n",
    "In a negatively skewed distribution, the tail on the left side (lower values) is longer or stretched compared to the right side (higher values).\n",
    "The majority of the data points are concentrated on the right side of the distribution, with a few smaller values on the left side.\n",
    "The mean tends to be smaller than the median in a negatively skewed distribution.\n",
    "Skewness can have implications for data analysis and interpretation. For example:\n",
    "\n",
    "Positive skewness might suggest that there are a few extreme high values in the dataset, which could potentially be outliers or influential data points.\n",
    "Negative skewness might indicate the presence of a few extremely low values.\n",
    "Skewness can affect the choice of measures of central tendency (mean, median) and measures of dispersion (standard deviation) that are appropriate for describing the data.\n",
    "Visualizing data using histograms, box plots, or other graphical representations can help identify skewness and provide a clearer understanding of the distribution's shape.\n",
    "\n",
    "It's important to note that skewness is just one aspect of the distribution's characteristics, and additional analysis may be needed to fully understand the underlying patterns and implications of the data."
   ]
  },
  {
   "cell_type": "markdown",
   "id": "af49c092-f57a-4991-a2f9-2939c4b3f6df",
   "metadata": {},
   "source": [
    "Q9. If a data is right skewed then what will be the position of median with respect to mean?"
   ]
  },
  {
   "cell_type": "markdown",
   "id": "3bbf9f6d-acd8-4e91-a10a-67ce6161b718",
   "metadata": {},
   "source": [
    "If a dataset is right skewed, the position of the median with respect to the mean will typically be to the left of the mean. In other words, the median will be less than the mean.\n",
    "\n",
    "Here's why this occurs:\n",
    "\n",
    "Right Skew (Positive Skew):\n",
    "In a right-skewed distribution, the tail of the distribution is stretched out towards the higher values, while the majority of the data points are concentrated towards the lower values.\n",
    "The presence of a few extremely high values in the right tail can pull the mean towards the higher end of the distribution.\n",
    "The median, on the other hand, is less affected by outliers or extreme values in the tail, as it only considers the middle value(s) of the dataset when arranged in order.\n",
    "Therefore, the median tends to be closer to the bulk of the data, which is located on the left side of the distribution, and it is generally less than the mean in a right-skewed distribution.\n",
    "In summary, in a right-skewed distribution, the median is typically to the left of the mean due to the influence of the skewed tail with high values."
   ]
  },
  {
   "cell_type": "markdown",
   "id": "5cd9ab66-e2e1-4cd4-ba45-bd6046d4fe85",
   "metadata": {},
   "source": [
    "Q10. Explain the difference between covariance and correlation. How are these measures used in\n",
    "statistical analysis?"
   ]
  },
  {
   "cell_type": "markdown",
   "id": "483065ab-67d7-4aec-ae9d-0050804976a6",
   "metadata": {},
   "source": [
    "Covariance and correlation are both measures that describe the relationship between two variables in a dataset, but they have distinct characteristics and interpretations.\n",
    "\n",
    "Covariance:\n",
    "Covariance measures the extent to which two variables change together. It indicates the direction of the linear relationship between two variables (positive or negative) and whether their deviations from the mean tend to occur in the same direction. The formula for calculating covariance between two variables X and Y is:\n",
    "\n",
    "Cov(X, Y) = Σ [(X_i - X̄) * (Y_i - Ȳ)] / (n - 1)\n",
    "\n",
    "Where:\n",
    "\n",
    "X_i, Y_i are individual data points.\n",
    "X̄ and Ȳ are the means of variables X and Y, respectively.\n",
    "n is the number of data points.\n",
    "Covariance values can range from negative infinity to positive infinity:\n",
    "\n",
    "Positive covariance indicates a positive linear relationship (as one variable increases, the other tends to increase as well).\n",
    "Negative covariance indicates a negative linear relationship (as one variable increases, the other tends to decrease).\n",
    "Covariance close to zero suggests little or no linear relationship.\n",
    "Correlation:\n",
    "Correlation is a standardized measure that quantifies both the strength and direction of the linear relationship between two variables. It is a unitless value that ranges from -1 to 1, where -1 represents a perfect negative linear correlation, 1 represents a perfect positive linear correlation, and 0 represents no linear correlation. The formula for calculating the Pearson correlation coefficient (a common type of correlation) between two variables X and Y is:\n",
    "\n",
    "Correlation(X, Y) = Cov(X, Y) / (σ_X * σ_Y)\n",
    "\n",
    "Where:\n",
    "\n",
    "Cov(X, Y) is the covariance between variables X and Y.\n",
    "σ_X and σ_Y are the standard deviations of variables X and Y, respectively.\n",
    "Correlation is useful because it not only indicates the presence and direction of a relationship but also provides a standardized measure of its strength, making it easier to compare relationships across different datasets.\n",
    "\n",
    "Statistical Analysis:\n",
    "Covariance and correlation are widely used in statistical analysis and data science:\n",
    "\n",
    "They help identify the degree and direction of relationships between variables.\n",
    "In finance, they are used in portfolio management to understand the relationships between asset returns.\n",
    "In economics, they can provide insights into how changes in variables affect each other.\n",
    "In scientific research, they help analyze the relationships between variables in experimental studies.\n",
    "While covariance and correlation are powerful tools, it's important to note that correlation does not imply causation. A strong correlation between two variables does not necessarily mean that changes in one variable cause changes in the other; there could be other underlying factors at play."
   ]
  },
  {
   "cell_type": "markdown",
   "id": "fcb086b8-75c5-4228-890c-fb19d53a992e",
   "metadata": {},
   "source": [
    "\n",
    "Q11. What is the formula for calculating the sample mean? Provide an example calculation for a\n",
    "dataset."
   ]
  },
  {
   "cell_type": "markdown",
   "id": "bef9b629-be4b-4edd-82ce-5dc4ed9de905",
   "metadata": {},
   "source": [
    "The formula for calculating the sample mean (average) of a dataset is as follows:\n",
    "\n",
    "Sample Mean (X̄) = (Sum of all data points) / (Number of data points)\n",
    "\n",
    "Let's work through an example calculation:\n",
    "\n",
    "Example Dataset: [12, 15, 18, 20, 22]\n",
    "\n",
    "Step 1: Sum all the data points.\n",
    "Sum = 12 + 15 + 18 + 20 + 22 = 87\n",
    "\n",
    "Step 2: Count the number of data points.\n",
    "Number of data points (n) = 5\n",
    "\n",
    "Step 3: Calculate the sample mean using the formula.\n",
    "Sample Mean (X̄) = Sum / n = 87 / 5 ≈ 17.4\n",
    "\n",
    "Therefore, the sample mean of the dataset [12, 15, 18, 20, 22] is approximately 17.4."
   ]
  },
  {
   "cell_type": "markdown",
   "id": "dc2bec04-4878-462b-ae85-2c1bcce5f22d",
   "metadata": {},
   "source": [
    "Q12. For a normal distribution data what is the relationship between its measure of central tendency?"
   ]
  },
  {
   "cell_type": "markdown",
   "id": "b3a50b50-a712-4da6-a729-d40d76316873",
   "metadata": {},
   "source": [
    "In a perfectly symmetrical normal distribution, the three measures of central tendency (mean, median, and mode) are all equal and located at the center of the distribution. This means that in a normal distribution:\n",
    "\n",
    "Mean: The mean is equal to the median, and both are located at the exact center of the distribution. This is a defining characteristic of a symmetrical distribution.\n",
    "\n",
    "Median: The median is equal to the mean and also located at the center of the distribution.\n",
    "\n",
    "Mode: The mode is also equal to the mean and median, and it is also situated at the center of the distribution.\n",
    "\n",
    "This relationship holds true for a perfectly symmetrical normal distribution. However, in real-world situations, data may deviate slightly from perfect symmetry due to various factors, leading to minor differences between the measures of central tendency. Nonetheless, for practical purposes and under many conditions, the mean, median, and mode are often close to each other in a normally distributed dataset.\n",
    "\n",
    "It's important to note that while the relationship holds for a normal distribution, it may not necessarily apply to other types of distributions where the data is not symmetrically distributed."
   ]
  },
  {
   "cell_type": "markdown",
   "id": "75c7f968-64af-4772-bbf7-547c61d636a3",
   "metadata": {},
   "source": [
    "Q13. How is covariance different from correlation?"
   ]
  },
  {
   "cell_type": "markdown",
   "id": "02355860-dee2-4af3-9969-9fd77dcb1d60",
   "metadata": {},
   "source": [
    "Covariance and correlation are both measures used to quantify the relationship between two variables in a dataset, but they have distinct characteristics and interpretations:\n",
    "\n",
    "Covariance:\n",
    "\n",
    "Covariance measures the extent to which two variables change together. It indicates the direction of the linear relationship between two variables (positive or negative) and whether their deviations from the mean tend to occur in the same direction.\n",
    "The formula for calculating covariance between two variables X and Y is:\n",
    "Cov(X, Y) = Σ [(X_i - X̄) * (Y_i - Ȳ)] / (n - 1)\n",
    "Covariance values can range from negative infinity to positive infinity:\n",
    "Positive covariance indicates a positive linear relationship (as one variable increases, the other tends to increase as well).\n",
    "Negative covariance indicates a negative linear relationship (as one variable increases, the other tends to decrease).\n",
    "Covariance close to zero suggests little or no linear relationship.\n",
    "Correlation:\n",
    "\n",
    "Correlation is a standardized measure that quantifies both the strength and direction of the linear relationship between two variables. It is a unitless value that ranges from -1 to 1.\n",
    "The formula for calculating the Pearson correlation coefficient (a common type of correlation) between two variables X and Y is:\n",
    "Correlation(X, Y) = Cov(X, Y) / (σ_X * σ_Y)\n",
    "Correlation takes into account the scale of the variables and provides a standardized measure of the relationship's strength and direction.\n",
    "Correlation values:\n",
    "+1 indicates a perfect positive linear correlation.\n",
    "-1 indicates a perfect negative linear correlation.\n",
    "0 indicates no linear correlation."
   ]
  },
  {
   "cell_type": "markdown",
   "id": "6160e549-29e6-4fb7-adf9-ca01d2e0d1d1",
   "metadata": {},
   "source": [
    "Q14. How do outliers affect measures of central tendency and dispersion? Provide an example."
   ]
  },
  {
   "cell_type": "markdown",
   "id": "3ec02a41-15a0-4363-8092-36b656660a3a",
   "metadata": {},
   "source": [
    "Outliers are data points that are significantly different from the majority of the other data points in a dataset. They can have a notable impact on both measures of central tendency and measures of dispersion.\n",
    "\n",
    "Effects on Measures of Central Tendency:\n",
    "\n",
    "Mean: Outliers can have a substantial influence on the mean (average) of a dataset. Since the mean is calculated by summing up all the values and dividing by the number of values, even a single outlier with an extremely high or low value can pull the mean in its direction. For example, if you have a dataset [10, 15, 20, 25, 100], the outlier 100 will significantly increase the mean.\n",
    "\n",
    "Median: The median is less affected by outliers compared to the mean. An outlier would only impact the median if it falls in the middle of the ordered dataset. For example, in the dataset [10, 15, 20, 25, 100], the median would be unaffected by the outlier 100, as it still falls between the 20 and 25 values.\n",
    "\n",
    "Mode: The mode, which represents the most frequent value, may not be affected by outliers at all, especially if they are relatively infrequent occurrences.\n",
    "\n",
    "Effects on Measures of Dispersion:\n",
    "\n",
    "Range: Outliers can significantly affect the range, which is the difference between the maximum and minimum values. If an outlier is much larger or smaller than the rest of the data, it can cause the range to increase or decrease substantially.\n",
    "\n",
    "Variance and Standard Deviation: Outliers can substantially impact the variance and standard deviation. Since these measures take into account the squared deviations of data points from the mean, outliers can contribute disproportionately large values to these calculations."
   ]
  },
  {
   "cell_type": "code",
   "execution_count": null,
   "id": "38b60f3c-5e85-4be1-be0a-b4892107ea42",
   "metadata": {},
   "outputs": [],
   "source": []
  },
  {
   "cell_type": "code",
   "execution_count": null,
   "id": "5a87bb8e-0cc5-4630-9dab-8b1e465ebf2a",
   "metadata": {},
   "outputs": [],
   "source": []
  }
 ],
 "metadata": {
  "kernelspec": {
   "display_name": "Python 3 (ipykernel)",
   "language": "python",
   "name": "python3"
  },
  "language_info": {
   "codemirror_mode": {
    "name": "ipython",
    "version": 3
   },
   "file_extension": ".py",
   "mimetype": "text/x-python",
   "name": "python",
   "nbconvert_exporter": "python",
   "pygments_lexer": "ipython3",
   "version": "3.10.8"
  }
 },
 "nbformat": 4,
 "nbformat_minor": 5
}
