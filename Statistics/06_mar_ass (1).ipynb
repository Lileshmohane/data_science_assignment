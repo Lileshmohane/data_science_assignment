{
 "cells": [
  {
   "cell_type": "markdown",
   "id": "6ada5910-113e-4126-b490-68a7989c48aa",
   "metadata": {},
   "source": [
    "Q1. What is Statistics?"
   ]
  },
  {
   "cell_type": "markdown",
   "id": "63f98cb3-3176-490e-8560-81ade7e46aea",
   "metadata": {},
   "source": [
    "Statistics is a branch of mathematics that involves the collection, analysis, interpretation, presentation, and organization of data. It deals with the study of quantitative or qualitative data and aims to draw meaningful conclusions and make informed decisions based on that data"
   ]
  },
  {
   "cell_type": "markdown",
   "id": "85860f05-fa7e-464a-b146-32883b755005",
   "metadata": {},
   "source": [
    "Q2. Define the different types of statistics and give an example of when each type might be used."
   ]
  },
  {
   "cell_type": "markdown",
   "id": "b9f4aa75-3a14-484a-81ef-cf07adfd8982",
   "metadata": {},
   "source": [
    "Statistics can be broadly categorized into two main types: descriptive statistics and inferential statistics."
   ]
  },
  {
   "cell_type": "markdown",
   "id": "c4577efb-3f7b-4031-934c-6c78ff91a025",
   "metadata": {},
   "source": [
    "Descriptive Statistics:\n",
    "Descriptive statistics involves methods for summarizing, organizing, and presenting data in a meaningful and easily understandable way. It provides a snapshot of the data's main features, such as central tendency, variability, and distribution.\n",
    "\n",
    "\n",
    "Example: Suppose you have a dataset representing the heights of students in a class. Descriptive statistics would be used to calculate the average height (mean), the most common height (mode), and the range of heights (difference between the tallest and shortest student) to get an overall understanding of the class's height distribution."
   ]
  },
  {
   "cell_type": "markdown",
   "id": "0aeecaa7-8854-4709-90f2-c172e257b591",
   "metadata": {},
   "source": [
    "Inferential Statistics:\n",
    "Inferential statistics involves drawing conclusions or making predictions about a population based on a sample of data. It uses probability theory to generalize findings from a smaller group (sample) to a larger group (population) and to assess the uncertainty associated with those generalizations.\n",
    "\n",
    "\n",
    "Example: A political pollster wants to estimate the proportion of voters in a city who support a particular candidate. Instead of surveying every eligible voter in the city (which could be time-consuming and costly), the pollster collects a random sample of voters and uses inferential statistics to estimate the candidate's popularity in the entire city based on the sample results."
   ]
  },
  {
   "cell_type": "markdown",
   "id": "c18553c6-40a3-4ad5-91e3-e3afe3ffdd3f",
   "metadata": {},
   "source": [
    "Q3. What are the different types of data and how do they differ from each other? Provide an example of\n",
    "each type of data."
   ]
  },
  {
   "cell_type": "markdown",
   "id": "f57bc68c-5df4-4169-91f1-6c054e2a3c65",
   "metadata": {},
   "source": [
    "Nominal Data:\n",
    "Nominal data is a categorical type of data where items are grouped into distinct categories or classes with no inherent order or ranking. Each category is mutually exclusive, and data points can only be assigned to one category.\n",
    "\n",
    "\n",
    "Example: Eye color of individuals (e.g., blue, brown, green) is an example of nominal data. Each person falls into one of these categories, but there is no inherent order or ranking among the colors."
   ]
  },
  {
   "cell_type": "markdown",
   "id": "a12d3d28-af1c-4dc4-b234-25ee0a0ebe20",
   "metadata": {},
   "source": [
    "Ordinal Data:\n",
    "Ordinal data is also categorical, but it has a meaningful order or ranking between the categories. The intervals between the categories may not be uniform, and the differences between the categories may not have a consistent meaning.\n",
    "Example: Educational levels (e.g., high school diploma, bachelor's degree, master's degree, Ph.D.) represent ordinal data. While each level signifies higher education, the difference in educational attainment between a high school diploma and a bachelor's degree may not be the same as that between a master's and a Ph.D."
   ]
  },
  {
   "cell_type": "markdown",
   "id": "7c826543-966e-4d59-9611-0479e5c68a71",
   "metadata": {},
   "source": [
    "Interval Data:\n",
    "Interval data is numerical data where the intervals between values are equal, but there is no true zero point. This means that zero does not indicate an absence of the measured attribute.\n",
    "Example: Temperature measured in Celsius or Fahrenheit is an example of interval data. The difference between 20°C and 30°C is the same as the difference between 30°C and 40°C, but zero degrees Celsius does not imply the absence of temperature."
   ]
  },
  {
   "cell_type": "markdown",
   "id": "328e3916-5d89-45a9-8b4e-ce6a4fe1b9d0",
   "metadata": {},
   "source": [
    "Ratio Data:\n",
    "Ratio data is numerical data that has equal intervals between values and a true zero point. The presence of zero in ratio data indicates the absence of the measured attribute.\n",
    "Example: Height, weight, and age are examples of ratio data. If someone's height is measured as 180 cm, it means they are twice as tall as someone measured at 90 cm. Additionally, a weight of 0 kg indicates the absence of weight."
   ]
  },
  {
   "cell_type": "markdown",
   "id": "6e26bcf6-cd60-4bf4-8617-6118380b1107",
   "metadata": {},
   "source": [
    "Q4. Categorise the following datasets with respect to quantitative and qualitative data types:\n",
    "(i) Grading in exam: A+, A, B+, B, C+, C, D, E\n",
    "(ii) Colour of mangoes: yellow, green, orange, red\n",
    "(iii) Height data of a class: [178.9, 179, 179.5, 176, 177.2, 178.3, 175.8,...]\n",
    "(iv) Number of mangoes exported by a farm: [500, 600, 478, 672, ...]"
   ]
  },
  {
   "cell_type": "markdown",
   "id": "7486138a-0843-4579-9dc6-e4b34c1f2df5",
   "metadata": {},
   "source": [
    "(i) Grading in exam: A+, A, B+, B, C+, C, D, E\n",
    "\n",
    "Data Type: Qualitative (also known as ordinal data)\n",
    "Explanation: The grades are categories without numerical value and have an inherent order or ranking."
   ]
  },
  {
   "cell_type": "markdown",
   "id": "61fb13cf-f285-4fd3-b8e7-71aaf4149c12",
   "metadata": {},
   "source": [
    "Data Type: Qualitative (also known as nominal data)\n",
    "Explanation: The colors of mangoes represent distinct categories without any inherent order or ranking."
   ]
  },
  {
   "cell_type": "markdown",
   "id": "71635513-da0a-4448-9bac-1340c80b70da",
   "metadata": {},
   "source": [
    "(iii) Height data of a class: [178.9, 179, 179.5, 176, 177.2, 178.3, 175.8,...]\n",
    "\n",
    "Data Type: Quantitative (specifically, continuous data)\n",
    "Explanation: The height data represents numerical measurements and can take any value within a continuous range. The values are not limited to specific categories."
   ]
  },
  {
   "cell_type": "markdown",
   "id": "8e22ad06-27ea-429d-a522-8bac1431bc41",
   "metadata": {},
   "source": [
    "Number of mangoes exported by a farm: [500, 600, 478, 672, ...]\n",
    "\n",
    "Data Type: Quantitative (specifically, discrete data)\n",
    "Explanation: The number of mangoes exported represents numerical measurements, but the values are discrete and whole numbers since you cannot export a fraction of a mango."
   ]
  },
  {
   "cell_type": "markdown",
   "id": "1f6929f7-e70a-48c2-8913-d67feb39a7bb",
   "metadata": {},
   "source": [
    "Q5. Explain the concept of levels of measurement and give an example of a variable for each level."
   ]
  },
  {
   "cell_type": "markdown",
   "id": "3957a1a3-f836-45ef-b4a1-ca7611d46382",
   "metadata": {},
   "source": [
    "\n",
    "The concept of levels of measurement, also known as scales of measurement or levels of data, refers to the way in which data is measured or categorized. It classifies variables into four distinct levels based on their properties, which subsequently determine the type of statistical analysis that can be applied. The four levels of measurement are:"
   ]
  },
  {
   "cell_type": "markdown",
   "id": "87937c3e-5ca5-48fb-a2bc-de5986572103",
   "metadata": {},
   "source": [
    "Nominal Level:\n",
    "At the nominal level of measurement, data is categorized into non-numeric, mutually exclusive categories without any inherent order or ranking. The data can only be classified into distinct groups."
   ]
  },
  {
   "cell_type": "markdown",
   "id": "a6b9d71b-b681-4c09-9201-fc2bf1f5e50f",
   "metadata": {},
   "source": [
    "Ordinal Level:\n",
    "The ordinal level of measurement involves data that has categories with a meaningful order or ranking, but the intervals between categories are not uniform. In other words, the difference between categories may not be quantitatively meaningful.\n",
    "Example: Education level is an ordinal variable. The categories could be \"High School Diploma,\" \"Bachelor's Degree,\" \"Master's Degree,\" and \"Ph.D.\" While there is an order, the difference in educational attainment between each category is not necessarily the same."
   ]
  },
  {
   "cell_type": "markdown",
   "id": "1fb3ca9b-6c7c-4bb8-946b-7e46e3ab8ffb",
   "metadata": {},
   "source": [
    "Interval Level:\n",
    "Data at the interval level has categories with equal intervals between values, but there is no true zero point. The absence of a true zero means that ratios of values are not meaningful.\n",
    "Example: Temperature measured in Celsius or Fahrenheit is an interval variable. The difference between 20°C and 30°C is the same as the difference between 30°C and 40°C, but zero degrees Celsius does not indicate an absence of temperature."
   ]
  },
  {
   "cell_type": "markdown",
   "id": "84d21d19-4833-4642-b06b-63a1932ecc80",
   "metadata": {},
   "source": [
    "Ratio Level:\n",
    "At the ratio level of measurement, data has equal intervals between values, and there is a true zero point. The presence of a true zero allows for meaningful ratios between values.\n",
    "Example: Weight is a ratio variable. If one person weighs 60 kg and another weighs 30 kg, the first person's weight is twice the weight of the second person."
   ]
  },
  {
   "cell_type": "markdown",
   "id": "ab9fe0b8-7d34-48da-b178-8fbfff168129",
   "metadata": {},
   "source": [
    "Q6. Why is it important to understand the level of measurement when analyzing data? Provide an\n",
    "example to illustrate your answer."
   ]
  },
  {
   "cell_type": "markdown",
   "id": "a263760a-687c-45a6-a0f0-5cbb9c2cf949",
   "metadata": {},
   "source": [
    "Understanding the level of measurement is crucial when analyzing data because it determines the types of statistical analyses and measurements that are appropriate for the data. Using the wrong statistical methods for a particular level of measurement can lead to incorrect conclusions and interpretations. Here's an example to illustrate the importance of understanding the level of measurement:"
   ]
  },
  {
   "cell_type": "markdown",
   "id": "35093a22-ba7d-440c-9ccf-45371132ed68",
   "metadata": {},
   "source": [
    "Example:\n",
    "Suppose we have data on the educational level of individuals in a survey, categorized as \"High School Diploma,\" \"Bachelor's Degree,\" \"Master's Degree,\" and \"Ph.D.\" We want to compare the average educational level between two groups: Group A and Group B."
   ]
  },
  {
   "cell_type": "markdown",
   "id": "9eab1ad3-187b-42e8-8db3-50c9b41649fd",
   "metadata": {},
   "source": [
    "Q7. How nominal data type is different from ordinal data type."
   ]
  },
  {
   "cell_type": "markdown",
   "id": "1a5b1fd7-8348-4457-b6bb-86a7eb7c3bfd",
   "metadata": {},
   "source": [
    "\n",
    "Nominal data type and ordinal data type are both types of categorical data, but they differ in terms of the level of measurement and the nature of the categories. Let's explore the differences between the two:"
   ]
  },
  {
   "cell_type": "markdown",
   "id": "0517f0d3-8fc5-4a1e-8110-203f274c38b8",
   "metadata": {},
   "source": [
    "Nominal Data: Nominal data is a categorical data type where items are classified into distinct, non-numeric categories with no inherent order or ranking. Each category is mutually exclusive and has equal importance.\n",
    "\n",
    "\n",
    "Ordinal Data: Ordinal data is also a categorical data type, but in this case, the categories have a meaningful order or ranking. The order between categories indicates some relative ranking, but the differences between the categories may not be uniform or quantitatively meaningful."
   ]
  },
  {
   "cell_type": "markdown",
   "id": "0fb33366-7022-47dc-bc9b-be686e4e2722",
   "metadata": {},
   "source": [
    "Level of Measurement:\n",
    "Nominal Data: Nominal data is the lowest level of measurement. The categories in nominal data represent labels or names used to differentiate between items without any numerical value associated with them.\n",
    "\n",
    "Ordinal Data: Ordinal data is a higher level of measurement than nominal data. The categories have a specific order or rank, but the numerical difference between the categories may not have a consistent meaning."
   ]
  },
  {
   "cell_type": "markdown",
   "id": "09754935-f6b2-4872-a237-f4d13c33ca8e",
   "metadata": {},
   "source": [
    "Q8. Which type of plot can be used to display data in terms of range?"
   ]
  },
  {
   "cell_type": "markdown",
   "id": "c54c0023-e247-4449-a9a8-c7614bf4ea31",
   "metadata": {},
   "source": [
    "A type of plot commonly used to display data in terms of range is the \"box plot,\" also known as a \"box-and-whisker plot.\" Box plots are particularly useful for visualizing the distribution and variability of data, especially when comparing multiple groups or datasets."
   ]
  },
  {
   "cell_type": "markdown",
   "id": "0644ec6f-fb23-435d-95bb-0189709caad3",
   "metadata": {},
   "source": [
    "A box plot displays the following statistical measures:\n",
    "\n",
    "Median (Q2): The middle value of the dataset, separating it into two halves.\n",
    "Quartiles (Q1 and Q3): The 25th and 75th percentiles, respectively, dividing the data into four equal parts.\n",
    "Interquartile Range (IQR): The range between the first and third quartiles (Q3 - Q1), which represents the middle 50% of the data.\n",
    "Whiskers: Lines extending from the box that represent the data's minimum and maximum values within a certain range. The whiskers usually extend to the lowest data point within 1.5 times the IQR below Q1 and to the highest data point within 1.5 times the IQR above Q3.\n",
    "Outliers: Data points that fall beyond the whiskers are plotted individually as \"outliers.\""
   ]
  },
  {
   "cell_type": "markdown",
   "id": "bdbd152a-6cc7-44de-a621-eae07e7f099e",
   "metadata": {},
   "source": [
    "Q9. Describe the difference between descriptive and inferential statistics. Give an example of each\n",
    "type of statistics and explain how they are used."
   ]
  },
  {
   "cell_type": "markdown",
   "id": "96e0d1b3-3c6c-4b69-b148-65d050a9a2ce",
   "metadata": {},
   "source": [
    "Descriptive Statistics:\n",
    "Descriptive statistics involves the methods used to summarize, organize, and present data in a meaningful and understandable way. It focuses on providing a snapshot of the main features of the data, describing its central tendency, variability, and distribution. Descriptive statistics do not involve making inferences or generalizations beyond the observed data; instead, they are used to gain insight into the dataset itself.\n",
    "Example: Let's consider a dataset containing the ages of students in a class. Descriptive statistics for this dataset would include measures like the mean (average) age, the median (middle value) age, and the standard deviation (a measure of data dispersion). These statistics help us understand the typical age of students in the class, the spread of ages, and whether the ages are evenly distributed or skewed toward specific age groups.\n",
    "\n",
    "Inferential Statistics:\n",
    "Inferential statistics involves making inferences or predictions about a population based on a sample of data. It uses probability theory to draw conclusions beyond the observed data, generalizing the findings from a smaller group (sample) to a larger group (population) and assessing the uncertainty associated with those generalizations. Inferential statistics are used to test hypotheses, estimate population parameters, and make predictions.\n",
    "Example: Suppose a pharmaceutical company develops a new drug to reduce blood pressure. They conduct a randomized controlled trial, where one group of patients receives the new drug (treatment group), and another group receives a placebo (control group). After the study, inferential statistics are used to determine whether the observed reduction in blood pressure in the treatment group is statistically significant compared to the control group. This analysis helps the company conclude whether the drug has a significant effect on reducing blood pressure and whether the results can be generalized to a broader population of patients with high blood pressure."
   ]
  },
  {
   "cell_type": "markdown",
   "id": "5474704f-5b40-4a3c-abab-77c7f9f2acfb",
   "metadata": {},
   "source": [
    "Q10. What are some common measures of central tendency and variability used in statistics? Explain\n",
    "how each measure can be used to describe a dataset."
   ]
  },
  {
   "cell_type": "markdown",
   "id": "be2766b3-4424-4d8a-8dbc-a9652a13a0e8",
   "metadata": {},
   "source": [
    "Measures of central tendency are used to describe the typical or central value of a dataset. They provide a single representative value around which the data tends to cluster. The most common measures of central tendency are:"
   ]
  },
  {
   "cell_type": "code",
   "execution_count": null,
   "id": "96cccd33-e50f-4dca-bb57-78cd5a289f89",
   "metadata": {},
   "outputs": [],
   "source": [
    "Mean:\n",
    "The mean is the arithmetic average of all the values in the dataset. It is calculated by summing up all the data points and dividing by the total number of data points. The mean is highly sensitive to extreme values, also known as outliers.\n",
    "Example of use: The mean is used to describe the typical value of a dataset. For instance, in a survey where respondents rate a product on a scale of 1 to 5, the mean rating can indicate the overall satisfaction level with the product."
   ]
  }
 ],
 "metadata": {
  "kernelspec": {
   "display_name": "Python 3 (ipykernel)",
   "language": "python",
   "name": "python3"
  },
  "language_info": {
   "codemirror_mode": {
    "name": "ipython",
    "version": 3
   },
   "file_extension": ".py",
   "mimetype": "text/x-python",
   "name": "python",
   "nbconvert_exporter": "python",
   "pygments_lexer": "ipython3",
   "version": "3.10.8"
  }
 },
 "nbformat": 4,
 "nbformat_minor": 5
}
