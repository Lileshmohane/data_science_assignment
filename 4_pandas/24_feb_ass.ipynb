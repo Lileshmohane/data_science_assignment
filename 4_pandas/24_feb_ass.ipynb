{
 "cells": [
  {
   "cell_type": "markdown",
   "id": "ca51b243-5952-47f4-b5d4-8fc272548490",
   "metadata": {},
   "source": [
    "Q1. List any five functions of the pandas library with execution."
   ]
  },
  {
   "cell_type": "code",
   "execution_count": 2,
   "id": "c2f5226b-9cb4-4209-862f-945b5d768381",
   "metadata": {},
   "outputs": [],
   "source": [
    "import pandas as pd\n",
    "\n",
    "# Read CSV file into DataFrame\n",
    "df = pd.read_csv('my_file.txt')\n"
   ]
  },
  {
   "cell_type": "code",
   "execution_count": 3,
   "id": "cf9b1e21-312f-453f-a780-72b1d13c7e20",
   "metadata": {},
   "outputs": [
    {
     "name": "stdout",
     "output_type": "stream",
     "text": [
      "   Line 1\n",
      "0  Line 2\n",
      "1  Line 3\n"
     ]
    }
   ],
   "source": [
    "import pandas as pd\n",
    "\n",
    "# Read CSV file into DataFrame\n",
    "df = pd.read_csv('my_file.txt')\n",
    "# Display \n",
    "print(df.head())\n"
   ]
  },
  {
   "cell_type": "code",
   "execution_count": 1,
   "id": "d9780317-9251-4aac-97ac-13fe9f18d20b",
   "metadata": {},
   "outputs": [
    {
     "name": "stdout",
     "output_type": "stream",
     "text": [
      "<class 'pandas.core.frame.DataFrame'>\n",
      "RangeIndex: 2 entries, 0 to 1\n",
      "Data columns (total 1 columns):\n",
      " #   Column  Non-Null Count  Dtype \n",
      "---  ------  --------------  ----- \n",
      " 0   Line 1  2 non-null      object\n",
      "dtypes: object(1)\n",
      "memory usage: 144.0+ bytes\n",
      "None\n"
     ]
    }
   ],
   "source": [
    "import pandas as pd\n",
    "df=pd.read_csv('my_file.txt')\n",
    "print(df.info())"
   ]
  },
  {
   "cell_type": "code",
   "execution_count": null,
   "id": "addf2f43-4d9e-444b-9df8-955a3a227c8f",
   "metadata": {},
   "outputs": [],
   "source": [
    "\n",
    "import pandas as pd\n",
    "\n",
    "# Read CSV file into DataFrame\n",
    "df = pd.read_csv('my_file.csv')\n",
    "# Group DataFrame by 'column_name' and calculate mean of 'another_column'\n",
    "grouped_df = df.groupby('column_name')['another_column'].mean()\n",
    "\n",
    "# Display the resulting DataFrame\n",
    "print(grouped_df)\n"
   ]
  },
  {
   "cell_type": "code",
   "execution_count": null,
   "id": "807d423c-f8f8-42be-b745-167d7addff60",
   "metadata": {},
   "outputs": [],
   "source": [
    "import pandas as pd\n",
    "\n",
    "# Read CSV file into DataFrame\n",
    "df = pd.read_csv('my_file.csv')\n",
    "\n",
    "# Create pivot table\n",
    "pivot_table = pd.pivot_table(df, values='column_name', index='index_column', columns='column_to_group', aggfunc=np.sum)\n",
    "\n",
    "# Display the resulting DataFrame\n",
    "print(pivot_table)\n"
   ]
  },
  {
   "cell_type": "markdown",
   "id": "ada30368-3039-479b-b338-263ff0fa8019",
   "metadata": {},
   "source": [
    "Q2. Given a Pandas DataFrame df with columns 'A', 'B', and 'C', write a Python function to re-index the\n",
    "DataFrame with a new index that starts from 1 and increments by 2 for each row."
   ]
  },
  {
   "cell_type": "code",
   "execution_count": 3,
   "id": "129e0fcd-bcab-4f19-9797-a503417d7417",
   "metadata": {},
   "outputs": [],
   "source": [
    "import pandas as pd \n",
    "def reindex_df(df):\n",
    "    new_index = pd.index(range(1,2*len(df)+1,2))\n",
    "    return df.set_index(new_index)"
   ]
  },
  {
   "cell_type": "code",
   "execution_count": null,
   "id": "ddfa4c78-491c-48cf-bab5-5a5ec26cac05",
   "metadata": {},
   "outputs": [],
   "source": [
    "new_df = reindex_df(df)"
   ]
  },
  {
   "cell_type": "markdown",
   "id": "82c47d2a-207e-4aff-bbc9-8baab21d33af",
   "metadata": {},
   "source": [
    "Q3. You have a Pandas DataFrame df with a column named 'Values'. Write a Python function that\n",
    "iterates over the DataFrame and calculates the sum of the first three values in the 'Values' column. The\n",
    "function should print the sum to the console."
   ]
  },
  {
   "cell_type": "markdown",
   "id": "6bd27139-66cd-4444-ac99-cd3062561462",
   "metadata": {},
   "source": [
    "For example, if the 'Values' column of df contains the values [10, 20, 30, 40, 50], your function should\n",
    "calculate and print the sum of the first three values, which is 60."
   ]
  },
  {
   "cell_type": "code",
   "execution_count": 1,
   "id": "3067e573-e90d-4287-bafe-daeba9b1f118",
   "metadata": {},
   "outputs": [],
   "source": [
    "import pandas as pd\n",
    "\n",
    "def calculate_sum_of_first_three(df):\n",
    "    values_column = df['Values']\n",
    "    sum_of_first_three = sum(values_column[:3])\n",
    "    print(\"Sum of the first three values:\", sum_of_first_three)\n",
    "\n"
   ]
  },
  {
   "cell_type": "code",
   "execution_count": 2,
   "id": "622d26e3-77f8-4f79-b1e2-3c1a2e4bce1a",
   "metadata": {},
   "outputs": [
    {
     "name": "stdout",
     "output_type": "stream",
     "text": [
      "Sum of the first three values: 60\n"
     ]
    }
   ],
   "source": [
    "import pandas as pd\n",
    "\n",
    "# Creating the DataFrame with the 'Values' column\n",
    "df = pd.DataFrame({'Values': [10, 20, 30, 40, 50]})\n",
    "\n",
    "# Calling the function to calculate and print the sum of the first three values\n",
    "calculate_sum_of_first_three(df)\n"
   ]
  },
  {
   "cell_type": "markdown",
   "id": "b0237fdf-12f6-4af0-be87-8c2908221798",
   "metadata": {},
   "source": [
    "Q4. Given a Pandas DataFrame df with a column 'Text', write a Python function to create a new column\n",
    "'Word_Count' that contains the number of words in each row of the 'Text' column."
   ]
  },
  {
   "cell_type": "code",
   "execution_count": 4,
   "id": "da1bee22-0d40-4beb-a11d-b9fae3702a52",
   "metadata": {},
   "outputs": [
    {
     "name": "stdout",
     "output_type": "stream",
     "text": [
      "              Text  Word_Count\n",
      "0      Hello world           2\n",
      "1  Python is great           3\n",
      "2    Data analysis           2\n"
     ]
    }
   ],
   "source": [
    "import pandas as pd\n",
    "\n",
    "def calculate_word_count(df):\n",
    "    df['Word_Count'] = df['Text'].str.split().str.len()\n",
    "\n",
    "# Example usage:\n",
    "df = pd.DataFrame({'Text': ['Hello world', 'Python is great', 'Data analysis']})\n",
    "\n",
    "calculate_word_count(df)\n",
    "print(df)\n"
   ]
  },
  {
   "cell_type": "markdown",
   "id": "b5114ef1-1393-4517-afa3-5222cea98788",
   "metadata": {},
   "source": [
    "Q5. How are DataFrame.size() and DataFrame.shape() different?"
   ]
  },
  {
   "cell_type": "markdown",
   "id": "37225910-ee2b-4ac7-820b-50fc39177360",
   "metadata": {},
   "source": [
    "DataFrame.size():\n",
    "\n",
    "The DataFrame.size() function returns the total number of elements in the DataFrame. It calculates the size by multiplying the number of rows by the number of columns.\n",
    "The returned value represents the total number of cells or elements in the DataFrame, including both empty and non-empty cells.\n",
    "The size() function does not take any arguments and returns a single integer value.\n",
    "DataFrame.shape():\n",
    "\n",
    "The DataFrame.shape() function returns a tuple that represents the dimensions of the DataFrame.\n",
    "It returns the number of rows as the first element and the number of columns as the second element in the tuple.\n",
    "The shape() function does not take any arguments.\n",
    "The returned shape represents the structure or layout of the DataFrame, providing information about the number of rows and columns."
   ]
  },
  {
   "cell_type": "markdown",
   "id": "50a203f3-0109-446e-9bab-40f64d980a3c",
   "metadata": {},
   "source": [
    "Q6. Which function of pandas do we use to read an excel file?"
   ]
  },
  {
   "cell_type": "code",
   "execution_count": null,
   "id": "1892f827-30e4-4b5f-b9fa-2e5363a051ac",
   "metadata": {},
   "outputs": [],
   "source": [
    "import pandas as pd\n",
    "\n",
    "# Read the Excel file into a DataFrame\n",
    "df = pd.read_excel('filename.xlsx')\n",
    "\n",
    "# Perform operations on the DataFrame\n",
    "\n",
    "# Print the DataFrame\n",
    "print(df)\n"
   ]
  },
  {
   "cell_type": "markdown",
   "id": "671a871a-c702-4b60-bb8b-2e97116786e2",
   "metadata": {},
   "source": [
    "Q7. You have a Pandas DataFrame df that contains a column named 'Email' that contains email\n",
    "addresses in the format 'username@domain.com'. Write a Python function that creates a new column\n",
    "'Username' in df that contains only the username part of each email address.\n",
    "The username is the part of the email address that appears before the '@' symbol. For example, if the\n",
    "email address is 'john.doe@example.com', the 'Username' column should contain 'john.doe'. Your\n",
    "function should extract the username from each email address and store it in the new 'Username'\n",
    "column."
   ]
  },
  {
   "cell_type": "code",
   "execution_count": 6,
   "id": "9d384a45-5ca5-4914-8c4b-b7716b7dcd5a",
   "metadata": {},
   "outputs": [
    {
     "name": "stdout",
     "output_type": "stream",
     "text": [
      "                     Email     Username\n",
      "0     john.doe@example.com     john.doe\n",
      "1   jane.smith@example.com   jane.smith\n",
      "2  bob.johnson@example.com  bob.johnson\n"
     ]
    }
   ],
   "source": [
    "import pandas as pd\n",
    "\n",
    "def extract_username(df):\n",
    "    df['Username'] = df['Email'].str.split('@').str[0]\n",
    "\n",
    "# Example usage:\n",
    "df = pd.DataFrame({'Email': ['john.doe@example.com', 'jane.smith@example.com', 'bob.johnson@example.com']})\n",
    "\n",
    "extract_username(df)\n",
    "print(df)\n"
   ]
  },
  {
   "cell_type": "markdown",
   "id": "8dabaa48-0398-450d-bf50-042f53be9a38",
   "metadata": {},
   "source": [
    "Q8. You have a Pandas DataFrame df with columns 'A', 'B', and 'C'. Write a Python function that selects\n",
    "all rows where the value in column 'A' is greater than 5 and the value in column 'B' is less than 10. The\n",
    "function should return a new DataFrame that contains only the selected rows.\n",
    "For example, if df contains the following values:\n",
    "A B C\n",
    "0 3 5 1\n",
    "1 8 2 7\n",
    "2 6 9 4\n",
    "3 2 3 5\n",
    "4 9 1 2\n",
    "\n",
    "\n",
    "Your function should select the following rows: A B C\n",
    "1 8 2 7\n",
    "4 9 1 2\n",
    "The function should return a new DataFrame that contains only the selected rows."
   ]
  },
  {
   "cell_type": "code",
   "execution_count": 1,
   "id": "381bbe1c-27f9-41d0-9930-e56d60430ad9",
   "metadata": {},
   "outputs": [
    {
     "name": "stdout",
     "output_type": "stream",
     "text": [
      "   A  B  C\n",
      "1  8  2  7\n",
      "2  6  9  4\n",
      "4  9  1  2\n"
     ]
    }
   ],
   "source": [
    "import pandas as pd\n",
    "\n",
    "def select_rows(df):\n",
    "    selected_rows = df[(df['A'] > 5) & (df['B'] < 10)]\n",
    "    return selected_rows\n",
    "\n",
    "# Example usage:\n",
    "# Create the DataFrame\n",
    "data = {'A': [3, 8, 6, 2, 9],\n",
    "        'B': [5, 2, 9, 3, 1],\n",
    "        'C': [1, 7, 4, 5, 2]}\n",
    "df = pd.DataFrame(data)\n",
    "\n",
    "# Call the function to select rows\n",
    "selected_df = select_rows(df)\n",
    "print(selected_df)\n"
   ]
  },
  {
   "cell_type": "markdown",
   "id": "875f3243-290e-44b9-8c6a-f35501a7b870",
   "metadata": {},
   "source": [
    "Q9. Given a Pandas DataFrame df with a column 'Values', write a Python function to calculate the mean,\n",
    "median, and standard deviation of the values in the 'Values' column."
   ]
  },
  {
   "cell_type": "code",
   "execution_count": 2,
   "id": "aae21356-6a0c-4807-b02f-a4cd03d36e0a",
   "metadata": {},
   "outputs": [
    {
     "name": "stdout",
     "output_type": "stream",
     "text": [
      "Mean: 15.0\n",
      "Median: 15.0\n",
      "Standard Deviation: 4.123105625617661\n"
     ]
    }
   ],
   "source": [
    "import pandas as pd\n",
    "\n",
    "def calculate_stats(df):\n",
    "    mean_value = df['Values'].mean()\n",
    "    median_value = df['Values'].median()\n",
    "    std_value = df['Values'].std()\n",
    "    return mean_value, median_value, std_value\n",
    "\n",
    "# Example usage:\n",
    "# Create the DataFrame\n",
    "data = {'Values': [10, 15, 12, 18, 20]}\n",
    "df = pd.DataFrame(data)\n",
    "\n",
    "# Call the function to calculate statistics\n",
    "mean, median, std = calculate_stats(df)\n",
    "print(\"Mean:\", mean)\n",
    "print(\"Median:\", median)\n",
    "print(\"Standard Deviation:\", std)\n"
   ]
  },
  {
   "cell_type": "markdown",
   "id": "dcbf4238-8369-4b28-9912-d73586029b29",
   "metadata": {},
   "source": [
    "Q10. Given a Pandas DataFrame df with a column 'Sales' and a column 'Date', write a Python function to\n",
    "create a new column 'MovingAverage' that contains the moving average of the sales for the past 7 days\n",
    "for each row in the DataFrame. The moving average should be calculated using a window of size 7 and\n",
    "should include the current day."
   ]
  },
  {
   "cell_type": "code",
   "execution_count": 3,
   "id": "55fa1197-0b5e-4edb-b060-65f66e5476c9",
   "metadata": {},
   "outputs": [
    {
     "name": "stdout",
     "output_type": "stream",
     "text": [
      "         Date  Sales  MovingAverage\n",
      "0  2023-06-01     10      10.000000\n",
      "1  2023-06-02     15      12.500000\n",
      "2  2023-06-03     12      12.333333\n",
      "3  2023-06-04     18      13.750000\n",
      "4  2023-06-05     20      15.000000\n",
      "5  2023-06-06     17      15.333333\n",
      "6  2023-06-07     14      15.142857\n",
      "7  2023-06-08     21      16.714286\n"
     ]
    }
   ],
   "source": [
    "import pandas as pd\n",
    "\n",
    "def calculate_moving_average(df):\n",
    "    df['MovingAverage'] = df['Sales'].rolling(window=7, min_periods=1).mean()\n",
    "    return df\n",
    "\n",
    "# Example usage:\n",
    "# Create the DataFrame\n",
    "data = {'Date': ['2023-06-01', '2023-06-02', '2023-06-03', '2023-06-04', '2023-06-05', '2023-06-06', '2023-06-07', '2023-06-08'],\n",
    "        'Sales': [10, 15, 12, 18, 20, 17, 14, 21]}\n",
    "df = pd.DataFrame(data)\n",
    "\n",
    "# Call the function to calculate moving average\n",
    "df = calculate_moving_average(df)\n",
    "print(df)\n"
   ]
  },
  {
   "cell_type": "markdown",
   "id": "2a700dc6-4ac9-4b40-9df1-de10459dcaae",
   "metadata": {},
   "source": [
    "Q11. You have a Pandas DataFrame df with a column 'Date'. Write a Python function that creates a new\n",
    "column 'Weekday' in the DataFrame. The 'Weekday' column should contain the weekday name (e.g.\n",
    "Monday, Tuesday) corresponding to each date in the 'Date' column.\n",
    "For example, if df contains the following values:\n",
    "Date\n",
    "0 2023-01-01\n",
    "1 2023-01-02\n",
    "2 2023-01-03\n",
    "3 2023-01-04\n",
    "4 2023-01-05\n",
    "Your function should create the following DataFrame:\n",
    "\n",
    "Date Weekday\n",
    "0 2023-01-01 Sunday\n",
    "1 2023-01-02 Monday\n",
    "2 2023-01-03 Tuesday\n",
    "3 2023-01-04 Wednesday\n",
    "4 2023-01-05 Thursday"
   ]
  },
  {
   "cell_type": "code",
   "execution_count": 4,
   "id": "1a7544c3-991b-4611-82c0-34f1b1dc8936",
   "metadata": {},
   "outputs": [
    {
     "name": "stdout",
     "output_type": "stream",
     "text": [
      "         Date    Weekday\n",
      "0  2023-01-01     Sunday\n",
      "1  2023-01-02     Monday\n",
      "2  2023-01-03    Tuesday\n",
      "3  2023-01-04  Wednesday\n",
      "4  2023-01-05   Thursday\n"
     ]
    }
   ],
   "source": [
    "import pandas as pd\n",
    "\n",
    "def add_weekday_column(df):\n",
    "    df['Weekday'] = pd.to_datetime(df['Date']).dt.day_name()\n",
    "    return df\n",
    "\n",
    "# Example usage:\n",
    "# Create the DataFrame\n",
    "data = {'Date': ['2023-01-01', '2023-01-02', '2023-01-03', '2023-01-04', '2023-01-05']}\n",
    "df = pd.DataFrame(data)\n",
    "\n",
    "# Call the function to add weekday column\n",
    "df = add_weekday_column(df)\n",
    "print(df)\n"
   ]
  },
  {
   "cell_type": "markdown",
   "id": "f4aac0f1-cfbe-4c4c-b236-bfaa26f6d9a3",
   "metadata": {},
   "source": [
    "Q12. Given a Pandas DataFrame df with a column 'Date' that contains timestamps, write a Python\n",
    "function to select all rows where the date is between '2023-01-01' and '2023-01-31'."
   ]
  },
  {
   "cell_type": "code",
   "execution_count": 5,
   "id": "0675c6a3-2f35-4a21-9338-b9538be42332",
   "metadata": {},
   "outputs": [
    {
     "name": "stdout",
     "output_type": "stream",
     "text": [
      "        Date\n",
      "0 2023-01-01\n",
      "1 2023-01-15\n",
      "2 2023-01-20\n"
     ]
    }
   ],
   "source": [
    "import pandas as pd\n",
    "\n",
    "def select_rows_between_dates(df):\n",
    "    start_date = '2023-01-01'\n",
    "    end_date = '2023-01-31'\n",
    "    mask = (df['Date'] >= start_date) & (df['Date'] <= end_date)\n",
    "    selected_rows = df.loc[mask]\n",
    "    return selected_rows\n",
    "\n",
    "# Example usage:\n",
    "# Create the DataFrame\n",
    "data = {'Date': ['2023-01-01', '2023-01-15', '2023-01-20', '2023-02-01', '2023-02-15']}\n",
    "df = pd.DataFrame(data)\n",
    "\n",
    "# Convert 'Date' column to datetime format\n",
    "df['Date'] = pd.to_datetime(df['Date'])\n",
    "\n",
    "# Call the function to select rows between dates\n",
    "selected_df = select_rows_between_dates(df)\n",
    "print(selected_df)\n"
   ]
  },
  {
   "cell_type": "code",
   "execution_count": null,
   "id": "b054d667-a15e-4bf2-9ecb-40a8a9d7fcd9",
   "metadata": {},
   "outputs": [],
   "source": []
  }
 ],
 "metadata": {
  "kernelspec": {
   "display_name": "Python 3 (ipykernel)",
   "language": "python",
   "name": "python3"
  },
  "language_info": {
   "codemirror_mode": {
    "name": "ipython",
    "version": 3
   },
   "file_extension": ".py",
   "mimetype": "text/x-python",
   "name": "python",
   "nbconvert_exporter": "python",
   "pygments_lexer": "ipython3",
   "version": "3.10.8"
  }
 },
 "nbformat": 4,
 "nbformat_minor": 5
}
