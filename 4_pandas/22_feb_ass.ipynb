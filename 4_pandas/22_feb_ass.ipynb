{
 "cells": [
  {
   "cell_type": "markdown",
   "id": "ed5110ad-0061-4fe4-8495-4cc146a6250d",
   "metadata": {},
   "source": [
    "Q1. Create a Pandas Series that contains the following data: 4, 8, 15, 16, 23, and 42. Then, print the series."
   ]
  },
  {
   "cell_type": "code",
   "execution_count": 1,
   "id": "ce6546c7-3a4c-47ff-a26d-d397d7118610",
   "metadata": {},
   "outputs": [],
   "source": [
    "import pandas as pd"
   ]
  },
  {
   "cell_type": "code",
   "execution_count": 8,
   "id": "c8cae875-baf0-4703-8088-4521bbb28142",
   "metadata": {},
   "outputs": [
    {
     "name": "stdout",
     "output_type": "stream",
     "text": [
      "0     4\n",
      "1     8\n",
      "2    15\n",
      "3    16\n",
      "4    23\n",
      "5    42\n",
      "dtype: int64\n"
     ]
    }
   ],
   "source": [
    "\n",
    "data = [4, 8, 15, 16, 23, 42]\n",
    "series = pd.Series(data)\n",
    "\n",
    "print(series)\n"
   ]
  },
  {
   "cell_type": "markdown",
   "id": "b756d1f4-5afe-4876-a048-19fd70fdcabe",
   "metadata": {},
   "source": [
    "Q2. Create a variable of list type containing 10 elements in it, and apply pandas.Series function on the\n",
    "variable print it."
   ]
  },
  {
   "cell_type": "code",
   "execution_count": 21,
   "id": "2fadf596-28db-407b-ac97-1afca1dc6c7a",
   "metadata": {},
   "outputs": [
    {
     "name": "stdout",
     "output_type": "stream",
     "text": [
      "0     1\n",
      "1     2\n",
      "2     3\n",
      "3     4\n",
      "4     5\n",
      "5     6\n",
      "6     7\n",
      "7     8\n",
      "8     9\n",
      "9    10\n",
      "dtype: int64\n"
     ]
    }
   ],
   "source": [
    "\n",
    "my_l = [1, 2, 3, 4, 5, 6, 7, 8, 9, 10]\n",
    "my_s = pd.Series(my_l)\n",
    "\n",
    "print(my_s)"
   ]
  },
  {
   "cell_type": "markdown",
   "id": "cc36a0f0-f65e-4bab-b8e4-c491559b0503",
   "metadata": {},
   "source": [
    "Q3. Create a Pandas DataFrame that contains the following data:"
   ]
  },
  {
   "cell_type": "code",
   "execution_count": 23,
   "id": "3c883fd6-1a19-4b27-a225-b309dedb15fb",
   "metadata": {},
   "outputs": [
    {
     "name": "stdout",
     "output_type": "stream",
     "text": [
      "     name  age  Gender\n",
      "0   alice   25  Female\n",
      "1     bod   30    male\n",
      "2  Claire   27  Female\n"
     ]
    }
   ],
   "source": [
    "data = {'name':['alice','bod','Claire'],'age':[25,30,27],'Gender':['Female','male','Female']}\n",
    "df= pd.DataFrame(data)\n",
    "print(df)"
   ]
  },
  {
   "cell_type": "markdown",
   "id": "9729d3f3-533b-4641-a2e6-b27d112772d3",
   "metadata": {},
   "source": [
    "Q4. What is ‘DataFrame’ in pandas and how is it different from pandas.series? Explain with an example."
   ]
  },
  {
   "cell_type": "markdown",
   "id": "d98441b1-b429-49d7-8ea3-60b1da6f4330",
   "metadata": {},
   "source": [
    "ANS = Series is a type of list in pandas which can take integer values, string values, double values and more. But in Pandas Series we return an object in the form of list, having index starting from 0 to n, Where n is the length of values in series."
   ]
  },
  {
   "cell_type": "markdown",
   "id": "9991e807-a166-494d-9a4e-ff27da1b6d04",
   "metadata": {},
   "source": [
    "Series can only contain single list with index, whereas dataframe can be made of more than one series or we can say that a dataframe is a collection of series that can be used to analyse the data. "
   ]
  },
  {
   "cell_type": "code",
   "execution_count": 25,
   "id": "9c162dcd-472a-47ac-ad9c-d083ba9f97ec",
   "metadata": {},
   "outputs": [
    {
     "name": "stdout",
     "output_type": "stream",
     "text": [
      "0    lilesh\n",
      "1    vishal\n",
      "2     Arpit\n",
      "3     Jyoti\n",
      "dtype: object\n"
     ]
    }
   ],
   "source": [
    "aut = ['lilesh', 'vishal', 'Arpit', 'Jyoti']\n",
    "#Creating a Series by passing list variable to Series() function\n",
    "auth_series = pd.Series(aut)\n",
    "#Printing Series\n",
    "print(auth_series)"
   ]
  },
  {
   "cell_type": "code",
   "execution_count": 26,
   "id": "5082f65b-4e46-4907-9082-f0a7800790f9",
   "metadata": {},
   "outputs": [
    {
     "name": "stdout",
     "output_type": "stream",
     "text": [
      "<class 'pandas.core.series.Series'>\n"
     ]
    }
   ],
   "source": [
    "print(type(auth_series))"
   ]
  },
  {
   "cell_type": "code",
   "execution_count": 27,
   "id": "f74204f8-2b2b-4d0a-a005-01e8080dc17a",
   "metadata": {},
   "outputs": [
    {
     "name": "stdout",
     "output_type": "stream",
     "text": [
      "     name  age  Gender\n",
      "0   alice   25  Female\n",
      "1     bod   30    male\n",
      "2  Claire   27  Female\n"
     ]
    }
   ],
   "source": [
    "data = {'name':['alice','bod','Claire'],'age':[25,30,27],'Gender':['Female','male','Female']}\n",
    "df= pd.DataFrame(data)\n",
    "print(df)"
   ]
  },
  {
   "cell_type": "code",
   "execution_count": 28,
   "id": "00424fac-2bb5-4d2a-ad67-40ee63ba8eb0",
   "metadata": {},
   "outputs": [
    {
     "name": "stdout",
     "output_type": "stream",
     "text": [
      "<class 'pandas.core.frame.DataFrame'>\n"
     ]
    }
   ],
   "source": [
    "print(type(df))"
   ]
  },
  {
   "cell_type": "markdown",
   "id": "254b0b60-8341-4339-b32c-f3295fe0410b",
   "metadata": {},
   "source": [
    "Q5. What are some common functions you can use to manipulate data in a Pandas DataFrame? Can\n",
    "you give an example of when you might use one of these functions?"
   ]
  },
  {
   "cell_type": "markdown",
   "id": "8c225a50-9a82-48cb-84d9-dbf7d18478ca",
   "metadata": {},
   "source": [
    "ANS = head(): This function returns the first n rows of the DataFrame. It can be useful when you want to quickly view the beginning of the data.\n",
    "\n",
    "tail(): This function returns the last n rows of the DataFrame. It can be useful when you want to quickly view the end of the data.\n",
    "\n",
    "describe(): This function computes various summary statistics of the DataFrame, including count, mean, standard deviation, minimum, maximum, and quartiles. It can be useful for getting a quick overview of the data.\n",
    "\n",
    "groupby(): This function groups the DataFrame by one or more columns and applies a function to each group. It can be useful for analyzing data by groups.\n",
    "\n",
    "sort_values(): This function sorts the DataFrame by one or more columns. It can be useful for sorting the data in ascending or descending order.\n",
    "\n",
    "fillna(): This function fills missing values in the DataFrame with a specified value. It can be useful for cleaning data with missing values."
   ]
  },
  {
   "cell_type": "code",
   "execution_count": 29,
   "id": "0a53707c-ec73-450b-9a1d-49225afe010d",
   "metadata": {},
   "outputs": [
    {
     "name": "stdout",
     "output_type": "stream",
     "text": [
      "Department\n",
      "Engineering    70000.0\n",
      "Marketing      65000.0\n",
      "Sales          52500.0\n",
      "Name: Salary, dtype: float64\n"
     ]
    }
   ],
   "source": [
    "data = {'Name': ['Alice', 'Bob', 'Claire', 'David', 'Eva', 'Frank'],\n",
    "        'Age': [25, 30, 27, 28, 32, 35],\n",
    "        'Salary': [50000, 60000, 55000, 65000, 70000, 75000],\n",
    "        'Department': ['Sales', 'Marketing', 'Sales', 'Engineering', 'Marketing', 'Engineering']}\n",
    "df = pd.DataFrame(data)\n",
    "\n",
    "# group data by department and compute average salary\n",
    "avg_salary = df.groupby('Department')['Salary'].mean()\n",
    "\n",
    "print(avg_salary)"
   ]
  },
  {
   "cell_type": "markdown",
   "id": "144bd806-ae0f-4e62-a4a3-665708cd6912",
   "metadata": {},
   "source": [
    "Q6. Which of the following is mutable in nature Series, DataFrame, Panel?"
   ]
  },
  {
   "cell_type": "markdown",
   "id": "cd60dbc5-24e7-4cd0-a5f6-ce505109cb55",
   "metadata": {},
   "source": [
    "ANS = Both Series and DataFrame are mutable in nature. This means that you can modify their values, add or remove rows and columns, and change their properties in-place"
   ]
  },
  {
   "cell_type": "markdown",
   "id": "c8c4caa7-aa6a-4152-be9c-e1651e998860",
   "metadata": {},
   "source": [
    "panel no longer recommended for use"
   ]
  },
  {
   "cell_type": "markdown",
   "id": "9a1f2cc0-2686-4456-86af-d95db9537bb0",
   "metadata": {},
   "source": [
    "Q7. Create a DataFrame using multiple Series. Explain with an example."
   ]
  },
  {
   "cell_type": "markdown",
   "id": "a5e0d198-51b7-4ef8-ab9e-d14642837f09",
   "metadata": {},
   "source": [
    "ANS =we can pass a dictionary of Series to the pd.DataFrame() function. The keys of the dictionary will become the column names of the DataFrame, and the values will become the columns themselves."
   ]
  },
  {
   "cell_type": "code",
   "execution_count": 30,
   "id": "4245802a-6dfe-462d-b5e6-813fb2102eab",
   "metadata": {},
   "outputs": [
    {
     "name": "stdout",
     "output_type": "stream",
     "text": [
      "     Name  Age  Gender\n",
      "0   Alice   25  Female\n",
      "1     Bob   30    Male\n",
      "2  Claire   27  Female\n"
     ]
    }
   ],
   "source": [
    "name = pd.Series(['Alice', 'Bob', 'Claire'])\n",
    "age = pd.Series([25, 30, 27])\n",
    "gender = pd.Series(['Female', 'Male', 'Female'])\n",
    "data = {'Name': name, 'Age': age, 'Gender': gender}\n",
    "\n",
    "# create a DataFrame from the dictionary of Series\n",
    "df = pd.DataFrame(data)\n",
    "\n",
    "# print the DataFrame\n",
    "print(df)"
   ]
  },
  {
   "cell_type": "code",
   "execution_count": null,
   "id": "5989d726-66ec-4a10-9557-e57c53177b1d",
   "metadata": {},
   "outputs": [],
   "source": []
  }
 ],
 "metadata": {
  "kernelspec": {
   "display_name": "Python 3 (ipykernel)",
   "language": "python",
   "name": "python3"
  },
  "language_info": {
   "codemirror_mode": {
    "name": "ipython",
    "version": 3
   },
   "file_extension": ".py",
   "mimetype": "text/x-python",
   "name": "python",
   "nbconvert_exporter": "python",
   "pygments_lexer": "ipython3",
   "version": "3.10.8"
  }
 },
 "nbformat": 4,
 "nbformat_minor": 5
}
