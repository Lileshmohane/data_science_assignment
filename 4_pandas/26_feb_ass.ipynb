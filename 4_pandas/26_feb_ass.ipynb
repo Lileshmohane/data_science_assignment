{
 "cells": [
  {
   "cell_type": "raw",
   "id": "c7dc0153-9292-42d6-a0b3-5093b5543823",
   "metadata": {},
   "source": [
    "import numpy as np\n",
    "list_ = [ ‘1’ , ’2’ , ‘3’ , ‘4’ , ‘5’ ]\n",
    "array_list = np.array(object = list_)\n",
    "Q1. Is there any difference in the data type of variables list_ and array_list? If there is then write a code\n",
    "to print the data types of both the variables."
   ]
  },
  {
   "cell_type": "code",
   "execution_count": 2,
   "id": "35bfd82b-8e0e-44f3-9b2d-39ec869b3f4c",
   "metadata": {},
   "outputs": [
    {
     "name": "stdout",
     "output_type": "stream",
     "text": [
      "Data type of list_: <class 'list'>\n",
      "Data type of array_list: <class 'numpy.ndarray'>\n"
     ]
    }
   ],
   "source": [
    "import numpy as np\n",
    "\n",
    "list_ = ['1', '2', '3', '4', '5']\n",
    "array_list = np.array(object=list_)\n",
    "print(\"Data type of list_:\", type(list_))\n",
    "print(\"Data type of array_list:\", type(array_list))"
   ]
  },
  {
   "cell_type": "raw",
   "id": "5b12035e-84b8-4f86-a2ca-34ad7d6e62aa",
   "metadata": {},
   "source": [
    "Q2. Write a code to print the data type of each and every element of both the variables list_ and\n",
    "arra_list."
   ]
  },
  {
   "cell_type": "code",
   "execution_count": 4,
   "id": "814572cc-a143-44c1-bc6e-b6b9c323436e",
   "metadata": {},
   "outputs": [
    {
     "name": "stdout",
     "output_type": "stream",
     "text": [
      "Data type of each element in 'list_':\n",
      "<class 'str'>\n",
      "<class 'str'>\n",
      "<class 'str'>\n",
      "<class 'str'>\n",
      "<class 'str'>\n",
      "print a data type of array list\n",
      "<class 'numpy.str_'>\n",
      "<class 'numpy.str_'>\n",
      "<class 'numpy.str_'>\n",
      "<class 'numpy.str_'>\n",
      "<class 'numpy.str_'>\n"
     ]
    }
   ],
   "source": [
    "import numpy as np \n",
    "list_= ['1','2','3','4','5']\n",
    "arry_list = np.array(object=list_)\n",
    "print(\"Data type of each element in 'list_':\")\n",
    "for element in list_:\n",
    "    print(type(element))\n",
    "print(\"print a data type of array list\")\n",
    "for element in arry_list:\n",
    "    print(type(element))"
   ]
  },
  {
   "cell_type": "raw",
   "id": "3d5bb9a0-0803-4766-9a5b-ae530de3d710",
   "metadata": {},
   "source": [
    "Q3. Considering the following changes in the variable, array_list:\n",
    "array_list = np.array(object = list_, dtype = int)\n",
    "Will there be any difference in the data type of the elements present in both the variables, list_ and\n",
    "arra_list? If so then print the data types of each and every element present in both the variables, list_\n",
    "and arra_list.\n",
    "Consider the below code to answer further questions:\n",
    "import numpy as np\n",
    "num_list = [ [ 1 , 2 , 3 ] , [ 4 , 5 , 6 ] ]\n",
    "num_array = np.array(object = num_list)"
   ]
  },
  {
   "cell_type": "markdown",
   "id": "09456982-e939-43b5-a967-274c16a96acb",
   "metadata": {},
   "source": [
    " yes ther is diffrent data type \n"
   ]
  },
  {
   "cell_type": "code",
   "execution_count": 6,
   "id": "d1964ca7-5636-4ef5-8feb-1b853ab0edc9",
   "metadata": {},
   "outputs": [],
   "source": [
    "import numpy as np\n",
    "num_list =[[1,2,3],[4,5,6]]\n",
    "num_arr =np.array(num_list)"
   ]
  },
  {
   "cell_type": "code",
   "execution_count": 10,
   "id": "2bfe78a7-05d1-4d58-866c-6226f005b1ab",
   "metadata": {},
   "outputs": [
    {
     "name": "stdout",
     "output_type": "stream",
     "text": [
      "data type of each  and every  num_list\n",
      "<class 'list'>\n",
      "<class 'list'>\n",
      "<class 'numpy.int64'>\n",
      "<class 'numpy.int64'>\n",
      "<class 'numpy.int64'>\n",
      "<class 'numpy.int64'>\n",
      "<class 'numpy.int64'>\n",
      "<class 'numpy.int64'>\n"
     ]
    }
   ],
   "source": [
    "print(\"data type of each  and every  num_list\")\n",
    "for sublist in  num_list:\n",
    "    print(type(sublist))\n",
    "for row in num_arr:\n",
    "    for element in row:\n",
    "        print(type(element))"
   ]
  },
  {
   "cell_type": "markdown",
   "id": "099de8f9-8426-4ecf-b1bb-7e9de567647b",
   "metadata": {},
   "source": [
    "Q4. Write a code to find the following characteristics of variable, num_array:\n",
    "(i) shape\n",
    "(ii) size"
   ]
  },
  {
   "cell_type": "code",
   "execution_count": 15,
   "id": "633359ca-cd6b-4c0f-9b25-8114a48fdcb7",
   "metadata": {},
   "outputs": [
    {
     "name": "stdout",
     "output_type": "stream",
     "text": [
      "shape of num_arr . (2, 3)\n",
      "size of num_arr 6\n"
     ]
    }
   ],
   "source": [
    "import numpy as np\n",
    "num_list =[[1,2,3],[4,5,6]]\n",
    "num_arr =np.array(num_list)\n",
    "\n",
    "shape = num_arr.shape\n",
    "size=  num_arr.size\n",
    "print(\"shape of num_arr .\" ,shape)\n",
    "print(\"size of num_arr\", size)"
   ]
  },
  {
   "cell_type": "raw",
   "id": "01d7e174-544f-4f32-96e2-22f418d997bd",
   "metadata": {},
   "source": [
    "Q5. Write a code to create numpy array of 3*3 matrix containing zeros only, using a numpy array\n",
    "creation function.\n",
    "[Hint: The size of the array will be 9 and the shape will be (3,3).]"
   ]
  },
  {
   "cell_type": "code",
   "execution_count": 17,
   "id": "2ea2f0be-6189-4e3a-8c14-8a3359502b69",
   "metadata": {},
   "outputs": [
    {
     "name": "stdout",
     "output_type": "stream",
     "text": [
      "[[0. 0. 0.]\n",
      " [0. 0. 0.]\n",
      " [0. 0. 0.]]\n"
     ]
    }
   ],
   "source": [
    "import numpy  as np\n",
    "zero_arr = np.zeros((3,3))\n",
    "print(zero_arr)"
   ]
  },
  {
   "cell_type": "markdown",
   "id": "b8e7771e-c72c-4447-b9ae-ffdf9a5ab175",
   "metadata": {},
   "source": [
    "Q6. Create an identity matrix of shape (5,5) using numpy functions?\n",
    "[Hint: An identity matrix is a matrix containing 1 diagonally and other elements will be 0.]"
   ]
  },
  {
   "cell_type": "code",
   "execution_count": 21,
   "id": "f4443d1a-e68b-41e2-a480-e5e6df78ab33",
   "metadata": {},
   "outputs": [
    {
     "name": "stdout",
     "output_type": "stream",
     "text": [
      "[[1. 0. 0. 0. 0.]\n",
      " [0. 1. 0. 0. 0.]\n",
      " [0. 0. 1. 0. 0.]\n",
      " [0. 0. 0. 1. 0.]\n",
      " [0. 0. 0. 0. 1.]]\n"
     ]
    }
   ],
   "source": [
    "import numpy  as np\n",
    "identity_metrix = np.eye(5)\n",
    "print(identity_metrix)"
   ]
  },
  {
   "cell_type": "code",
   "execution_count": null,
   "id": "0d033ef3-c692-4dae-88af-682fb4ea91bb",
   "metadata": {},
   "outputs": [],
   "source": []
  }
 ],
 "metadata": {
  "kernelspec": {
   "display_name": "Python 3 (ipykernel)",
   "language": "python",
   "name": "python3"
  },
  "language_info": {
   "codemirror_mode": {
    "name": "ipython",
    "version": 3
   },
   "file_extension": ".py",
   "mimetype": "text/x-python",
   "name": "python",
   "nbconvert_exporter": "python",
   "pygments_lexer": "ipython3",
   "version": "3.10.8"
  }
 },
 "nbformat": 4,
 "nbformat_minor": 5
}
