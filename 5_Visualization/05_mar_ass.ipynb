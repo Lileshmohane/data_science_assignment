{
 "cells": [
  {
   "cell_type": "markdown",
   "id": "89a53888-916a-4a7c-b43c-970f898aa52f",
   "metadata": {},
   "source": [
    "Q1. How can you create a Bokeh plot using Python code?"
   ]
  },
  {
   "cell_type": "markdown",
   "id": "dca75489-feb2-44d4-a185-f2b293fbb0fc",
   "metadata": {},
   "source": [
    "Import necessary modules: In your Python script or Jupyter Notebook, import the required modules from Bokeh:"
   ]
  },
  {
   "cell_type": "code",
   "execution_count": 1,
   "id": "990f7bb1-287d-41a5-b6ba-db7e8c117c92",
   "metadata": {},
   "outputs": [],
   "source": [
    "from bokeh.plotting import figure, show\n"
   ]
  },
  {
   "cell_type": "markdown",
   "id": "7696572b-4f8d-4afe-bb33-e7bd6ad08326",
   "metadata": {},
   "source": [
    "Prepare your data: Organize the data you want to plot into lists or NumPy arrays, depending on the type of plot you want to create.\n",
    "\n",
    "Create a figure: Initialize a figure object. This will be the canvas on which you'll build your plot"
   ]
  },
  {
   "cell_type": "code",
   "execution_count": 2,
   "id": "5bcc1865-927f-43ac-8081-c0db02ba1fe5",
   "metadata": {},
   "outputs": [],
   "source": [
    "plot = figure(title=\"My Bokeh Plot\", \n",
    "              x_axis_label=\"X-axis Label\", \n",
    "              y_axis_label=\"Y-axis Label\")\n"
   ]
  },
  {
   "cell_type": "markdown",
   "id": "e5510847-883b-4d43-81b6-4bc25a24df8f",
   "metadata": {},
   "source": [
    "Q2. What are glyphs in Bokeh, and how can you add them to a Bokeh plot? Explain with an example."
   ]
  },
  {
   "cell_type": "markdown",
   "id": "787df745-021c-42b9-8b1f-9712195d6b2b",
   "metadata": {},
   "source": [
    "\n",
    "In Bokeh, glyphs are the visual markers used to represent data points in a plot. They can be thought of as the basic building blocks for creating visualizations. Bokeh provides a variety of glyphs, such as circles, squares, triangles, lines, bars, and more, each serving a specific purpose in different types of plots.\n",
    "\n",
    "To add glyphs to a Bokeh plot, you typically use the appropriate glyph method provided by the figure object. These glyph methods allow you to specify the data to be plotted and additional properties like color, size, and alpha"
   ]
  },
  {
   "cell_type": "code",
   "execution_count": 3,
   "id": "04d981f6-25f4-4b0c-99a0-92eb57afb3b8",
   "metadata": {},
   "outputs": [],
   "source": [
    "from bokeh.plotting import figure ,show"
   ]
  },
  {
   "cell_type": "code",
   "execution_count": 5,
   "id": "0250ae88-5d47-4ab1-9b1a-6fc3da9360bd",
   "metadata": {},
   "outputs": [],
   "source": [
    "x_values = [1, 2, 3, 4, 5]\n",
    "y_values = [3, 1, 4, 6, 2]\n",
    "\n",
    "# Create a figure\n",
    "plot = figure(title=\"Scatter Plot with Circles\", \n",
    "              x_axis_label=\"X-axis\", \n",
    "              y_axis_label=\"Y-axis\")\n",
    "\n",
    "# Add circles as glyphs\n",
    "plot.circle(x=x_values, y=y_values, size=10, fill_color='blue', line_color='black')\n",
    "\n",
    "# Show the plot\n",
    "show(plot)"
   ]
  },
  {
   "cell_type": "markdown",
   "id": "ea322a64-fe4a-49d6-9019-0e466d18e2a4",
   "metadata": {},
   "source": [
    "Q3. How can you customize the appearance of a Bokeh plot, including the axes, title, and legend?"
   ]
  },
  {
   "cell_type": "code",
   "execution_count": 6,
   "id": "1d2d1651-41b0-4c99-9c14-58c87f684108",
   "metadata": {},
   "outputs": [],
   "source": [
    "from bokeh.plotting import figure, show\n",
    "\n",
    "# Sample data\n",
    "x_values = [1, 2, 3, 4, 5]\n",
    "y_values = [3, 1, 4, 6, 2]\n",
    "\n",
    "# Create a figure\n",
    "plot = figure(title=\"Customized Axes\", \n",
    "              x_axis_label=\"X-axis Label\", \n",
    "              y_axis_label=\"Y-axis Label\")\n",
    "\n",
    "# Customize the X and Y axes\n",
    "plot.axis.axis_label_text_color = \"blue\"\n",
    "plot.axis.major_label_text_font = \"helvetica\"\n",
    "plot.xaxis.major_label_text_color = \"green\"\n",
    "plot.yaxis.major_label_text_color = \"red\"\n",
    "\n",
    "# Add circles as glyphs\n",
    "plot.circle(x=x_values, y=y_values, size=10, fill_color='blue', line_color='black')\n",
    "\n",
    "# Show the plot\n",
    "show(plot)\n"
   ]
  },
  {
   "cell_type": "code",
   "execution_count": 7,
   "id": "764ae3f9-3eab-40e8-b6e0-be81e2fcdeb7",
   "metadata": {},
   "outputs": [],
   "source": [
    "from bokeh.plotting import figure, show\n",
    "\n",
    "# Sample data and figure (same as above)\n",
    "# ...\n",
    "\n",
    "# Customize the plot title\n",
    "plot.title.text = \"Customized Title\"\n",
    "plot.title.text_color = \"purple\"\n",
    "plot.title.text_font = \"times\"\n",
    "plot.title.text_font_size = \"20px\"\n",
    "\n",
    "# Show the plot\n",
    "show(plot)\n"
   ]
  },
  {
   "cell_type": "code",
   "execution_count": 8,
   "id": "e6ae46ae-42a1-4589-8301-339e1997dc4f",
   "metadata": {},
   "outputs": [],
   "source": [
    "from bokeh.plotting import figure, show\n",
    "\n",
    "# Sample data and figure (same as above)\n",
    "# ...\n",
    "\n",
    "# Add circles and line glyphs with legends\n",
    "plot.circle(x=x_values, y=y_values, size=10, fill_color='blue', line_color='black', legend_label=\"Scatter Points\")\n",
    "plot.line(x=x_values, y=y_values, line_width=2, line_color='red', legend_label=\"Line\")\n",
    "\n",
    "# Customize the legend\n",
    "plot.legend.title = \"Legend\"\n",
    "plot.legend.label_text_font = \"Arial\"\n",
    "plot.legend.label_text_color = \"navy\"\n",
    "\n",
    "# Show the plot\n",
    "show(plot)\n"
   ]
  },
  {
   "cell_type": "markdown",
   "id": "6acbd9de-5ad6-4e9f-aa74-aec9740f598e",
   "metadata": {},
   "source": [
    "Q4. What is a Bokeh server, and how can you use it to create interactive plots that can be updated in\n",
    "real time?"
   ]
  },
  {
   "cell_type": "markdown",
   "id": "a9b276af-d2cd-41c5-9616-36e5a61a22f9",
   "metadata": {},
   "source": [
    "\n",
    "A Bokeh server is a Python server that allows you to create and deploy interactive Bokeh plots and applications. It enables you to build web applications that can dynamically update and respond to user interactions in real time. With Bokeh server, you can create complex and interactive data visualizations that react to user inputs, such as mouse clicks, sliders, dropdowns, and more."
   ]
  },
  {
   "cell_type": "code",
   "execution_count": 9,
   "id": "1ccfef72-5b43-4485-89de-c13d1485df69",
   "metadata": {},
   "outputs": [],
   "source": [
    "from bokeh.io import curdoc\n",
    "from bokeh.plotting import figure, show\n",
    "from bokeh.models import ColumnDataSource, Slider\n",
    "from bokeh.layouts import row\n"
   ]
  },
  {
   "cell_type": "markdown",
   "id": "43f06358-7f6d-4ca5-abc5-3fc71dce3fcd",
   "metadata": {},
   "source": [
    "Create a function to update the plot: Define a Python function that will be called whenever the plot needs to be updated. This function should update the data source associated with the plot based on user input.\n"
   ]
  },
  {
   "cell_type": "code",
   "execution_count": 10,
   "id": "dc4722b3-95db-469f-8ea8-ecd2ac240084",
   "metadata": {},
   "outputs": [],
   "source": [
    "def update_plot(attr, old, new):\n",
    "    # Get the current slider value\n",
    "    slider_value = slider.value\n",
    "    \n",
    "    # Update the y-values based on the new slider value\n",
    "    new_y_values = [y * slider_value for y in original_y_values]\n",
    "    \n",
    "    # Update the ColumnDataSource with the new y-values\n",
    "    source.data = dict(x=original_x_values, y=new_y_values)\n"
   ]
  },
  {
   "cell_type": "markdown",
   "id": "dd3801aa-c9ec-4670-96a2-76dde61ff16e",
   "metadata": {},
   "source": [
    "Prepare your data: Organize your data into lists or NumPy arrays and create a ColumnDataSource object, which is a Bokeh-specific data structure that allows data to be shared between the server and the plot."
   ]
  },
  {
   "cell_type": "code",
   "execution_count": 12,
   "id": "8d031ea6-3af5-467d-9640-cd47d2fdc48b",
   "metadata": {},
   "outputs": [],
   "source": [
    "# Sample data\n",
    "original_x_values = [1, 2, 3, 4, 5]\n",
    "original_y_values = [3, 1, 4, 6, 2]\n",
    "\n",
    "# Create a ColumnDataSource\n",
    "source = ColumnDataSource(data=dict(x=original_x_values, y=original_y_values))\n"
   ]
  },
  {
   "cell_type": "markdown",
   "id": "8804ce4e-cbcd-471d-9c70-da2939844c12",
   "metadata": {},
   "source": [
    "Create the figure and plot: Set up your initial figure and plot, and add the glyphs based on the ColumnDataSource."
   ]
  },
  {
   "cell_type": "code",
   "execution_count": 14,
   "id": "1d4d3fef-675a-4da1-bd45-896629670326",
   "metadata": {},
   "outputs": [
    {
     "data": {
      "text/html": [
       "<div style=\"display: table;\"><div style=\"display: table-row;\"><div style=\"display: table-cell;\"><b title=\"bokeh.models.renderers.glyph_renderer.GlyphRenderer\">GlyphRenderer</b>(</div><div style=\"display: table-cell;\">id&nbsp;=&nbsp;'p2381', <span id=\"p2385\" style=\"cursor: pointer;\">&hellip;)</span></div></div><div class=\"p2384\" style=\"display: none;\"><div style=\"display: table-cell;\"></div><div style=\"display: table-cell;\">coordinates&nbsp;=&nbsp;None,</div></div><div class=\"p2384\" style=\"display: none;\"><div style=\"display: table-cell;\"></div><div style=\"display: table-cell;\">data_source&nbsp;=&nbsp;ColumnDataSource(id='p2325', ...),</div></div><div class=\"p2384\" style=\"display: none;\"><div style=\"display: table-cell;\"></div><div style=\"display: table-cell;\">glyph&nbsp;=&nbsp;Circle(id='p2378', ...),</div></div><div class=\"p2384\" style=\"display: none;\"><div style=\"display: table-cell;\"></div><div style=\"display: table-cell;\">group&nbsp;=&nbsp;None,</div></div><div class=\"p2384\" style=\"display: none;\"><div style=\"display: table-cell;\"></div><div style=\"display: table-cell;\">hover_glyph&nbsp;=&nbsp;None,</div></div><div class=\"p2384\" style=\"display: none;\"><div style=\"display: table-cell;\"></div><div style=\"display: table-cell;\">js_event_callbacks&nbsp;=&nbsp;{},</div></div><div class=\"p2384\" style=\"display: none;\"><div style=\"display: table-cell;\"></div><div style=\"display: table-cell;\">js_property_callbacks&nbsp;=&nbsp;{},</div></div><div class=\"p2384\" style=\"display: none;\"><div style=\"display: table-cell;\"></div><div style=\"display: table-cell;\">level&nbsp;=&nbsp;'glyph',</div></div><div class=\"p2384\" style=\"display: none;\"><div style=\"display: table-cell;\"></div><div style=\"display: table-cell;\">muted&nbsp;=&nbsp;False,</div></div><div class=\"p2384\" style=\"display: none;\"><div style=\"display: table-cell;\"></div><div style=\"display: table-cell;\">muted_glyph&nbsp;=&nbsp;Circle(id='p2380', ...),</div></div><div class=\"p2384\" style=\"display: none;\"><div style=\"display: table-cell;\"></div><div style=\"display: table-cell;\">name&nbsp;=&nbsp;None,</div></div><div class=\"p2384\" style=\"display: none;\"><div style=\"display: table-cell;\"></div><div style=\"display: table-cell;\">nonselection_glyph&nbsp;=&nbsp;Circle(id='p2379', ...),</div></div><div class=\"p2384\" style=\"display: none;\"><div style=\"display: table-cell;\"></div><div style=\"display: table-cell;\">selection_glyph&nbsp;=&nbsp;'auto',</div></div><div class=\"p2384\" style=\"display: none;\"><div style=\"display: table-cell;\"></div><div style=\"display: table-cell;\">subscribed_events&nbsp;=&nbsp;PropertyValueSet(),</div></div><div class=\"p2384\" style=\"display: none;\"><div style=\"display: table-cell;\"></div><div style=\"display: table-cell;\">syncable&nbsp;=&nbsp;True,</div></div><div class=\"p2384\" style=\"display: none;\"><div style=\"display: table-cell;\"></div><div style=\"display: table-cell;\">tags&nbsp;=&nbsp;[],</div></div><div class=\"p2384\" style=\"display: none;\"><div style=\"display: table-cell;\"></div><div style=\"display: table-cell;\">view&nbsp;=&nbsp;CDSView(id='p2382', ...),</div></div><div class=\"p2384\" style=\"display: none;\"><div style=\"display: table-cell;\"></div><div style=\"display: table-cell;\">visible&nbsp;=&nbsp;True,</div></div><div class=\"p2384\" style=\"display: none;\"><div style=\"display: table-cell;\"></div><div style=\"display: table-cell;\">x_range_name&nbsp;=&nbsp;'default',</div></div><div class=\"p2384\" style=\"display: none;\"><div style=\"display: table-cell;\"></div><div style=\"display: table-cell;\">y_range_name&nbsp;=&nbsp;'default')</div></div></div>\n",
       "<script>\n",
       "(function() {\n",
       "  let expanded = false;\n",
       "  const ellipsis = document.getElementById(\"p2385\");\n",
       "  ellipsis.addEventListener(\"click\", function() {\n",
       "    const rows = document.getElementsByClassName(\"p2384\");\n",
       "    for (let i = 0; i < rows.length; i++) {\n",
       "      const el = rows[i];\n",
       "      el.style.display = expanded ? \"none\" : \"table-row\";\n",
       "    }\n",
       "    ellipsis.innerHTML = expanded ? \"&hellip;)\" : \"&lsaquo;&lsaquo;&lsaquo;\";\n",
       "    expanded = !expanded;\n",
       "  });\n",
       "})();\n",
       "</script>\n"
      ],
      "text/plain": [
       "GlyphRenderer(id='p2381', ...)"
      ]
     },
     "execution_count": 14,
     "metadata": {},
     "output_type": "execute_result"
    }
   ],
   "source": [
    "# Create a figure\n",
    "plot = figure(title=\"Interactive Plot\", \n",
    "              x_axis_label=\"X-axis\", \n",
    "              y_axis_label=\"Y-axis\")\n",
    "\n",
    "# Add circles as glyphs using the ColumnDataSource\n",
    "plot.circle(x='x', y='y', source=source, size=10, fill_color='blue', line_color='black')\n"
   ]
  },
  {
   "cell_type": "code",
   "execution_count": 16,
   "id": "11bccbc7-2972-4e76-8977-69ec96f42749",
   "metadata": {},
   "outputs": [],
   "source": [
    "# Create a slider widget\n",
    "slider = Slider(start=0.1, end=2, step=0.1, value=1, title=\"Multiplier\")\n",
    "\n",
    "# Attach the update_plot function to the slider's 'value' property\n",
    "slider.on_change('value', update_plot)\n"
   ]
  },
  {
   "cell_type": "code",
   "execution_count": 17,
   "id": "9d1db310-ec20-4064-a0d1-d07f049a1fc9",
   "metadata": {},
   "outputs": [],
   "source": [
    "# Create the layout\n",
    "layout = row(plot, slider)\n",
    "\n",
    "# Add the layout to the current document\n",
    "curdoc().add_root(layout)\n"
   ]
  },
  {
   "cell_type": "markdown",
   "id": "9b4ab752-2780-4ab5-bdab-73d3cfd13389",
   "metadata": {},
   "source": [
    "Q5. How can you embed a Bokeh plot into a web page or dashboard using Flask or Django?"
   ]
  },
  {
   "cell_type": "code",
   "execution_count": 19,
   "id": "3c4d4f8e-35b0-4090-9be4-ea608fb879dd",
   "metadata": {},
   "outputs": [
    {
     "name": "stdout",
     "output_type": "stream",
     "text": [
      "Collecting flask\n",
      "  Downloading Flask-2.3.2-py3-none-any.whl (96 kB)\n",
      "\u001b[2K     \u001b[90m━━━━━━━━━━━━━━━━━━━━━━━━━━━━━━━━━━━━━━━━\u001b[0m \u001b[32m96.9/96.9 kB\u001b[0m \u001b[31m3.6 MB/s\u001b[0m eta \u001b[36m0:00:00\u001b[0m\n",
      "\u001b[?25hRequirement already satisfied: click>=8.1.3 in /opt/conda/lib/python3.10/site-packages (from flask) (8.1.3)\n",
      "Collecting itsdangerous>=2.1.2\n",
      "  Downloading itsdangerous-2.1.2-py3-none-any.whl (15 kB)\n",
      "Collecting Werkzeug>=2.3.3\n",
      "  Downloading Werkzeug-2.3.6-py3-none-any.whl (242 kB)\n",
      "\u001b[2K     \u001b[90m━━━━━━━━━━━━━━━━━━━━━━━━━━━━━━━━━━━━━━\u001b[0m \u001b[32m242.5/242.5 kB\u001b[0m \u001b[31m23.3 MB/s\u001b[0m eta \u001b[36m0:00:00\u001b[0m\n",
      "\u001b[?25hRequirement already satisfied: Jinja2>=3.1.2 in /opt/conda/lib/python3.10/site-packages (from flask) (3.1.2)\n",
      "Collecting blinker>=1.6.2\n",
      "  Downloading blinker-1.6.2-py3-none-any.whl (13 kB)\n",
      "Requirement already satisfied: MarkupSafe>=2.0 in /opt/conda/lib/python3.10/site-packages (from Jinja2>=3.1.2->flask) (2.1.1)\n",
      "Installing collected packages: Werkzeug, itsdangerous, blinker, flask\n",
      "  Attempting uninstall: blinker\n",
      "    Found existing installation: blinker 1.5\n",
      "    Uninstalling blinker-1.5:\n",
      "      Successfully uninstalled blinker-1.5\n",
      "Successfully installed Werkzeug-2.3.6 blinker-1.6.2 flask-2.3.2 itsdangerous-2.1.2\n",
      "Note: you may need to restart the kernel to use updated packages.\n"
     ]
    }
   ],
   "source": [
    "pip install flask\n"
   ]
  },
  {
   "cell_type": "code",
   "execution_count": 21,
   "id": "54d3e591-2bf1-43b1-8591-92b85308decc",
   "metadata": {},
   "outputs": [],
   "source": [
    "\n",
    "from bokeh.plotting import figure\n",
    "from bokeh.embed import json_item\n",
    "import json\n",
    "\n",
    "# Sample data\n",
    "x_values = [1, 2, 3, 4, 5]\n",
    "y_values = [3, 1, 4, 6, 2]\n",
    "\n",
    "# Create a figure\n",
    "plot = figure(title=\"Bokeh Plot\", \n",
    "              x_axis_label=\"X-axis\", \n",
    "              y_axis_label=\"Y-axis\")\n",
    "\n",
    "# Add circles as glyphs\n",
    "plot.circle(x=x_values, y=y_values, size=10, fill_color='blue', line_color='black')\n",
    "\n",
    "# Export the plot to JSON format\n",
    "plot_json = json.dumps(json_item(plot, \"my_plot\"))\n"
   ]
  },
  {
   "cell_type": "markdown",
   "id": "1aa70e78-19c3-4bb1-94e0-b8e080691b25",
   "metadata": {},
   "source": [
    "Set up a Flask web application to serve the plot:"
   ]
  },
  {
   "cell_type": "code",
   "execution_count": null,
   "id": "a4393651-79c8-4e3b-a41f-1e2a66d34507",
   "metadata": {},
   "outputs": [],
   "source": [
    "from flask import Flask, render_template\n",
    "\n",
    "app = Flask(__name__)\n",
    "\n",
    "@app.route('/')\n",
    "def index():\n",
    "    return render_template('index.html', plot=plot_json)\n",
    "\n",
    "if __name__ == '__main__':\n",
    "    app.run(debug=True)\n"
   ]
  },
  {
   "cell_type": "markdown",
   "id": "818fb46d-8cfc-453c-9b22-8ebd59d2a14a",
   "metadata": {},
   "source": [
    "Create an index.html template file in the templates folder of your Flask application:"
   ]
  },
  {
   "cell_type": "code",
   "execution_count": null,
   "id": "6e78a7f6-6f42-482c-9483-bbc500017e37",
   "metadata": {},
   "outputs": [],
   "source": [
    "<!DOCTYPE html>\n",
    "<html>\n",
    "<head>\n",
    "    <title>Bokeh Plot Embedded with Flask</title>\n",
    "    <!-- Include Bokeh's JavaScript and CSS files -->\n",
    "    {{ plot.resources }}\n",
    "    {{ plot.script }}\n",
    "</head>\n",
    "<body>\n",
    "    <!-- Render the Bokeh plot using the div element with id 'my_plot' -->\n",
    "    {{ plot.div }}\n",
    "</body>\n",
    "</html>\n"
   ]
  },
  {
   "cell_type": "code",
   "execution_count": null,
   "id": "d75d4b70-48d0-4486-8c39-e5f3904439f6",
   "metadata": {},
   "outputs": [],
   "source": []
  },
  {
   "cell_type": "code",
   "execution_count": null,
   "id": "de55aef7-c270-4567-b356-f16b55b0fa2c",
   "metadata": {},
   "outputs": [],
   "source": []
  }
 ],
 "metadata": {
  "kernelspec": {
   "display_name": "Python 3 (ipykernel)",
   "language": "python",
   "name": "python3"
  },
  "language_info": {
   "codemirror_mode": {
    "name": "ipython",
    "version": 3
   },
   "file_extension": ".py",
   "mimetype": "text/x-python",
   "name": "python",
   "nbconvert_exporter": "python",
   "pygments_lexer": "ipython3",
   "version": "3.10.8"
  }
 },
 "nbformat": 4,
 "nbformat_minor": 5
}
