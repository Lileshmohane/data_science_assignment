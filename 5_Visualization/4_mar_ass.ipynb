{
 "cells": [
  {
   "cell_type": "markdown",
   "id": "a8e8b5bc-2321-4c6d-9c78-52ce3c281fe1",
   "metadata": {},
   "source": [
    "Q1. Load the \"titanic\" dataset using the load_dataset function of seaborn. Use Plotly express to plot a\n",
    "scatter plot for age and fare columns in the titanic dataset."
   ]
  },
  {
   "cell_type": "code",
   "execution_count": null,
   "id": "f7125053-8e48-42c8-878f-b378613d8a89",
   "metadata": {},
   "outputs": [],
   "source": [
    "import pandas as pd\n",
    "import plotly.express as px\n",
    "\n",
    "# Load the Titanic dataset using pandas\n",
    "titanic_df = pd.read_csv('titanic.csv')  # Replace 'titanic.csv' with the actual path to your dataset file.\n",
    "\n",
    "# Create a scatter plot for Age and Fare using plotly express\n",
    "fig = px.scatter(titanic_df, x='age', y='fare', title='Scatter Plot: Age vs Fare',\n",
    "                 labels={'age': 'Age', 'fare': 'Fare'})\n",
    "\n",
    "# Show the plot\n",
    "fig.show()\n",
    "\n"
   ]
  },
  {
   "cell_type": "markdown",
   "id": "3792dcce-0c7f-4f08-99c1-7f9cf3e2fdbb",
   "metadata": {},
   "source": [
    "Q2. Using the tips dataset in the Plotly library, plot a box plot using Plotly express."
   ]
  },
  {
   "cell_type": "code",
   "execution_count": null,
   "id": "1027f579-3fcb-446b-8edf-bc13d19b85c0",
   "metadata": {},
   "outputs": [],
   "source": [
    "import plotly.express as px\n",
    "\n",
    "# Load the tips dataset from Plotly\n",
    "tips_df = px.data.tips\n",
    "\n",
    "# Create a box plot for the total_bill column\n",
    "fig = px.box(tips_df, y='total_bill', title='Box Plot: Total Bill')\n",
    "fig.show()\n"
   ]
  },
  {
   "cell_type": "markdown",
   "id": "4300ac7c-a419-4f38-b20b-327a25d5cc2b",
   "metadata": {},
   "source": [
    "Q3. Using the tips dataset in the Plotly library, Plot a histogram for x= \"sex\" and y=\"total_bill\" column in\n",
    "the tips dataset. Also, use the \"smoker\" column with the pattern_shape parameter and the \"day\"\n",
    "column with the color parameter."
   ]
  },
  {
   "cell_type": "code",
   "execution_count": null,
   "id": "8e87e381-ac72-440d-98c8-84a902962879",
   "metadata": {},
   "outputs": [],
   "source": [
    "\n",
    "import plotly.express as px\n",
    "\n",
    "# Load the tips dataset from Plotly\n",
    "tips_df = px.data.tips\n",
    "\n",
    "# Create a histogram with x=\"sex\", y=\"total_bill\", pattern_shape=\"smoker\", and color=\"day\"\n",
    "fig = px.histogram(tips_df, x='sex', y='total_bill', \n",
    "                   pattern_shape='smoker', color='day', \n",
    "                   title='Histogram: Total Bill by Sex with Smoker and Day',\n",
    "                   labels={'sex': 'Sex', 'total_bill': 'Total Bill', 'smoker': 'Smoker', 'day': 'Day'})\n",
    "\n",
    "# Show the plot\n",
    "fig.show()\n"
   ]
  },
  {
   "cell_type": "markdown",
   "id": "bde723aa-6950-4afa-9e01-8bbba6c0dbd8",
   "metadata": {},
   "source": [
    "Q4. Using the iris dataset in the Plotly library, Plot a scatter matrix plot, using the \"species\" column for\n",
    "the color parameter.\n",
    "Note: Use \"sepal_length\", \"sepal_width\", \"petal_length\", \"petal_width\" columns only with the\n",
    "dimensions parameter."
   ]
  },
  {
   "cell_type": "code",
   "execution_count": null,
   "id": "3cbd3ad3-e888-48d0-bc12-dfcc1df6a7a8",
   "metadata": {},
   "outputs": [],
   "source": [
    "import plotly.express as px\n",
    "\n",
    "# Load the iris dataset from Plotly\n",
    "iris_df = px.data.iris()\n",
    "\n",
    "# Create a scatter matrix plot\n",
    "fig = px.scatter_matrix(iris_df, dimensions=[\"sepal_length\", \"sepal_width\", \"petal_length\", \"petal_width\"],\n",
    "                        color=\"species\", title=\"Scatter Matrix Plot: Iris Dataset\",\n",
    "                        labels={\"sepal_length\": \"Sepal Length\", \"sepal_width\": \"Sepal Width\",\n",
    "                                \"petal_length\": \"Petal Length\", \"petal_width\": \"Petal Width\",\n",
    "                                \"species\": \"Species\"})\n",
    "\n",
    "# Show the plot\n",
    "fig.show()\n"
   ]
  },
  {
   "cell_type": "markdown",
   "id": "8b5a0dd5-0016-461d-99c2-2759666140f3",
   "metadata": {},
   "source": [
    "Q5. What is Distplot? Using Plotly express, plot a distplot."
   ]
  },
  {
   "cell_type": "markdown",
   "id": "09cc22d8-b559-4050-adb0-797f2921988e",
   "metadata": {},
   "source": [
    "A distribution plot, also known as a Distplot, displays the variation in data distribution. The total distribution of continuous data variables is shown by the Seaborn Distplot."
   ]
  },
  {
   "cell_type": "code",
   "execution_count": null,
   "id": "359f9705-3eb0-4724-b4a4-e3830629e790",
   "metadata": {},
   "outputs": [],
   "source": [
    "import seaborn as sns\n",
    "import matplotlib.pyplot as plt\n",
    "\n",
    "# Assuming you have a dataset called 'data' with a single column 'value'\n",
    "sns.distplot(data['value'])\n",
    "plt.title('Distribution Plot')\n",
    "plt.xlabel('Value')\n",
    "plt.show()\n"
   ]
  },
  {
   "cell_type": "code",
   "execution_count": null,
   "id": "a56d8149-c8f0-4a81-ab44-de5c106b82b6",
   "metadata": {},
   "outputs": [],
   "source": [
    "import plotly.express as px\n",
    "\n",
    "# Assuming you have a dataset called 'data' with a single column 'value'\n",
    "fig = px.histogram(data, x='value', nbins=30, title='Distribution Plot', labels={'value': 'Value'})\n",
    "\n",
    "# Show the plot\n",
    "fig.show()\n"
   ]
  }
 ],
 "metadata": {
  "kernelspec": {
   "display_name": "Python 3 (ipykernel)",
   "language": "python",
   "name": "python3"
  },
  "language_info": {
   "codemirror_mode": {
    "name": "ipython",
    "version": 3
   },
   "file_extension": ".py",
   "mimetype": "text/x-python",
   "name": "python",
   "nbconvert_exporter": "python",
   "pygments_lexer": "ipython3",
   "version": "3.10.8"
  }
 },
 "nbformat": 4,
 "nbformat_minor": 5
}
