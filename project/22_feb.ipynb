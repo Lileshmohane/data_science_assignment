{
 "cells": [
  {
   "cell_type": "markdown",
   "id": "855d372e-eb09-445c-85a3-0fbb3d18073f",
   "metadata": {},
   "source": [
    "Q1. Write a python program to extract the video URL of the first five videos."
   ]
  },
  {
   "cell_type": "code",
   "execution_count": 4,
   "id": "4f727527-9864-4a41-9c6f-8846e93041d6",
   "metadata": {},
   "outputs": [],
   "source": [
    "import requests\n",
    "from  bs4 import BeautifulSoup"
   ]
  },
  {
   "cell_type": "code",
   "execution_count": 5,
   "id": "091af6bb-4a3f-4764-ad96-5c34e0b69794",
   "metadata": {},
   "outputs": [],
   "source": [
    "url = \"https://www.youtube.com/@PW-Foundation/videos\""
   ]
  },
  {
   "cell_type": "code",
   "execution_count": 6,
   "id": "643817ee-3326-406d-a678-070335a3196a",
   "metadata": {},
   "outputs": [],
   "source": [
    "response = requests.get(url)"
   ]
  },
  {
   "cell_type": "code",
   "execution_count": 7,
   "id": "7618b8b7-850d-4d19-af85-a553d0b11965",
   "metadata": {},
   "outputs": [],
   "source": [
    "soup = BeautifulSoup(response.content, \"html.parser\")"
   ]
  },
  {
   "cell_type": "code",
   "execution_count": 8,
   "id": "2ffd3ff1-fd8e-4f35-8a1e-a11f1eb04751",
   "metadata": {},
   "outputs": [],
   "source": [
    "video_elements =soup.find_all(\"video\")"
   ]
  },
  {
   "cell_type": "code",
   "execution_count": 9,
   "id": "ced733d5-0735-48f3-b1c3-711daabf610f",
   "metadata": {},
   "outputs": [],
   "source": [
    "video_urls =['https://www.youtube.com/@PW-Foundation/videos']\n",
    "for i  in range (5):\n",
    "    if i < len(video_elements):\n",
    "        video_url = video_elements[i].get (\"src\")\n",
    "        video_urls.append(video_url)\n",
    "        "
   ]
  },
  {
   "cell_type": "code",
   "execution_count": 10,
   "id": "efa208ee-1a9a-4e99-ae19-7a5f56e3beb4",
   "metadata": {},
   "outputs": [
    {
     "name": "stdout",
     "output_type": "stream",
     "text": [
      "https://www.youtube.com/@PW-Foundation/videos\n"
     ]
    },
    {
     "data": {
      "text/plain": [
       "[]"
      ]
     },
     "execution_count": 10,
     "metadata": {},
     "output_type": "execute_result"
    }
   ],
   "source": [
    "for video_url in video_urls:\n",
    "    print(video_url)\n",
    "soup.find_all('video')"
   ]
  },
  {
   "cell_type": "markdown",
   "id": "047a9689-3dcd-42f1-9941-f43aeb07b79a",
   "metadata": {},
   "source": [
    "Q2. Write a python program to extract the URL of the video thumbnails of the first five videos."
   ]
  },
  {
   "cell_type": "code",
   "execution_count": 31,
   "id": "f27e69f8-ddbf-4f6d-b8e3-8749aafd501c",
   "metadata": {},
   "outputs": [],
   "source": [
    "import requests\n",
    "from bs4 import BeautifulSoup\n",
    "\n",
    "def extract_thumbnail_urls(url):\n",
    "    response = requests.get(url)\n",
    "    soup = BeautifulSoup(response.text, 'html.parser')\n",
    "    thumbnail_urls = []\n",
    "\n",
    "    # Find all <a> tags with video thumbnails\n",
    "    thumbnail_tags = soup.find_all('a', {'class': 'yt-simple-endpoint style-scope ytd-thumbnail'})\n",
    "\n",
    "    # Extract the thumbnail URLs from the data-thumb attribute\n",
    "    for tag in thumbnail_tags:\n",
    "        thumbnail_url = tag.find('img').get('data-thumb')\n",
    "        if thumbnail_url:\n",
    "            thumbnail_urls.append(thumbnail_url)\n",
    "\n",
    "    return thumbnail_urls[:5]  # Return the first five thumbnail URLs\n",
    "\n",
    "# Example usage: Extracting thumbnail URLs from YouTube search results\n",
    "search_query = 'cat videos'\n",
    "youtube_search_url = f'https://www.youtube.com/@PW-Foundation/videos={search_query}'\n",
    "\n",
    "thumbnail_urls = extract_thumbnail_urls(youtube_search_url)\n",
    "for url in thumbnail_urls:\n",
    "    print(url)\n",
    "\n",
    "\n",
    "\n",
    "\n",
    "\n",
    "\n",
    "\n"
   ]
  },
  {
   "cell_type": "markdown",
   "id": "ae914afc-90ab-498d-84ff-962c963ee084",
   "metadata": {},
   "source": [
    "Q3. Write a python program to extract the title of the first five videos."
   ]
  },
  {
   "cell_type": "code",
   "execution_count": 2,
   "id": "8b3d9597-7b1d-496e-9fb5-4b5237b21889",
   "metadata": {},
   "outputs": [],
   "source": [
    "import requests\n",
    "from bs4 import BeautifulSoup\n",
    "\n",
    "def extract_video_titles(url):\n",
    "    response = requests.get(url)\n",
    "    soup = BeautifulSoup(response.text, 'html.parser')\n",
    "    video_tags = soup.find_all('h3', {'class': 'video-title'})\n",
    "\n",
    "    titles = []\n",
    "    for i, tag in enumerate(video_tags[:5]):\n",
    "        title = tag.text.strip()\n",
    "        titles.append(title)\n",
    "        print(f\"Video {i+1}: {title}\")\n",
    "\n",
    "    return titles\n",
    "\n",
    "url = 'https://www.youtube.com/@PW-Foundation/videos'\n",
    "video_titles = extract_video_titles(url)\n"
   ]
  },
  {
   "cell_type": "markdown",
   "id": "b572617a-592a-4cfd-85c8-e6c51d77ea53",
   "metadata": {},
   "source": [
    "Q4. Write a python program to extract the number of views of the first five videos."
   ]
  },
  {
   "cell_type": "code",
   "execution_count": 3,
   "id": "b4cd34a7-f80a-436c-8f47-250a63b0391b",
   "metadata": {},
   "outputs": [],
   "source": [
    "\n",
    "import requests\n",
    "from bs4 import BeautifulSoup\n",
    "\n",
    "def extract_video_views(url):\n",
    "    response = requests.get(url)\n",
    "    soup = BeautifulSoup(response.text, 'html.parser')\n",
    "    view_tags = soup.find_all('span', {'class': 'video-views'})\n",
    "\n",
    "    views = []\n",
    "    for i, tag in enumerate(view_tags[:5]):\n",
    "        view = tag.text.strip()\n",
    "        views.append(view)\n",
    "        print(f\"Video {i+1}: {view}\")\n",
    "\n",
    "    return views\n",
    "\n",
    "\n",
    "url = 'https://www.youtube.com/@PW-Foundation/videos'\n",
    "video_views = extract_video_views(url)\n"
   ]
  },
  {
   "cell_type": "markdown",
   "id": "35cc4813-1aba-46bc-986d-34311bf7c2c3",
   "metadata": {},
   "source": [
    "Q5. Write a python program to extract the time of posting of video for the first five videos."
   ]
  },
  {
   "cell_type": "code",
   "execution_count": 5,
   "id": "4c628dda-174c-4e55-b66b-9c4a37c9c7a6",
   "metadata": {},
   "outputs": [],
   "source": [
    "import requests\n",
    "from bs4 import BeautifulSoup\n",
    "\n",
    "def extract_video_post_times(url):\n",
    "    response = requests.get(url)\n",
    "    soup = BeautifulSoup(response.text, 'html.parser')\n",
    "    time_tags = soup.find_all('div', {'class': 'video-time'})\n",
    "\n",
    "    post_times = []\n",
    "    for i, tag in enumerate(time_tags[:5]):\n",
    "        post_time = tag.text.strip()\n",
    "        post_times.append(post_time)\n",
    "        print(f\"Video {i+1}: {post_time}\")\n",
    "\n",
    "    return post_times\n",
    "\n",
    "# Example usage: extracting post times from a YouTube channel\n",
    "url = 'https://www.youtube.com/@PW-Foundation/videos'\n",
    "video_post_times = extract_video_post_times(url)\n"
   ]
  },
  {
   "cell_type": "code",
   "execution_count": null,
   "id": "5c5e89fe-82d3-4a02-8f54-77a409131a31",
   "metadata": {},
   "outputs": [],
   "source": []
  },
  {
   "cell_type": "code",
   "execution_count": null,
   "id": "7ae42287-d5f2-4978-a116-c71b3fa9fd82",
   "metadata": {},
   "outputs": [],
   "source": []
  }
 ],
 "metadata": {
  "kernelspec": {
   "display_name": "Python 3 (ipykernel)",
   "language": "python",
   "name": "python3"
  },
  "language_info": {
   "codemirror_mode": {
    "name": "ipython",
    "version": 3
   },
   "file_extension": ".py",
   "mimetype": "text/x-python",
   "name": "python",
   "nbconvert_exporter": "python",
   "pygments_lexer": "ipython3",
   "version": "3.10.8"
  }
 },
 "nbformat": 4,
 "nbformat_minor": 5
}
