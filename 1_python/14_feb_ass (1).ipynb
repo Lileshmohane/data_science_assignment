{
 "cells": [
  {
   "cell_type": "markdown",
   "id": "ec2c6a26-f72b-42cf-8c16-d39d9fe34039",
   "metadata": {},
   "source": [
    "1 que. what is multithreading in python? why is it used? Name the module used to handle threads in python"
   ]
  },
  {
   "cell_type": "markdown",
   "id": "41a0ee96-3c68-41bb-a744-e9d02e2fb960",
   "metadata": {},
   "source": [
    "ANS = Multithreading in Python is a programming technique that allows multiple threads of execution to run concurrently within the same program. Threads are lightweight subprocesses that can be used to perform multiple tasks simultaneously, improving the overall performance of the program.\n",
    "\n",
    "Multithreading is used in Python to improve the performance of programs that need to perform multiple tasks simultaneously. For example, a program that needs to read data from a file while also performing some calculations on that data can use multithreading to perform these tasks concurrently, making the program run faster.\n",
    "\n",
    "In Python, the threading module is used to handle threads. This module provides a high-level interface for creating and managing threads, and it allows developers to create new threads, start and stop existing threads, and communicate between threads. The threading module is included in the Python standard library, making it easy to use and widely available."
   ]
  },
  {
   "cell_type": "markdown",
   "id": "df78283f-7b5e-412a-ab21-d164879c7ca2",
   "metadata": {},
   "source": [
    "2. why threading module used? write the use of the following functions"
   ]
  },
  {
   "cell_type": "markdown",
   "id": "29196292-2ac3-4bcd-939f-e8ffc5ae33ad",
   "metadata": {},
   "source": [
    "ANS = The threading module is used in Python to create and manage threads in a program. It provides a simple and efficient way to run multiple threads of execution concurrently, which can help to improve the performance and responsiveness of a program.\n",
    "Thread: This function is used to create a new thread of execution in a program. It takes a callable object (usually a function) as an argument and returns a new Thread object.\n",
    "activeCount: This function returns the number of currently active threads in the program, including the main thread.\n",
    "\n",
    "currentThread: This function returns the current thread object, which can be used to access information about the thread, such as its name or thread ID.\n",
    "\n",
    "enumerate: This function returns a list of all the currently active thread objects in the program, including the main thread."
   ]
  },
  {
   "cell_type": "markdown",
   "id": "48b8624e-cb9a-4d32-be16-0efb42bd6deb",
   "metadata": {},
   "source": [
    "3. Explain the following functions\n",
    "1 run()\n",
    "2 start()\n",
    "3 join()\n",
    "4 isAlive()"
   ]
  },
  {
   "cell_type": "markdown",
   "id": "43166236-3d13-4286-a415-4d09a1dc7f9d",
   "metadata": {},
   "source": [
    "run(): This method defines the code to be executed in a thread. When a new thread is created using the Thread class, the run() method is the code that will be executed in that thread. Developers can override this method to define their own custom code for the thread to execute."
   ]
  },
  {
   "cell_type": "code",
   "execution_count": 4,
   "id": "0a5fedad-d3cf-43d4-a1a2-8a696ff57969",
   "metadata": {},
   "outputs": [
    {
     "name": "stdout",
     "output_type": "stream",
     "text": [
      "Thread starting...\n"
     ]
    }
   ],
   "source": [
    "import threading\n",
    "\n",
    "# Define a new thread class\n",
    "class MyThread(threading.Thread):\n",
    "    def run(self):\n",
    "        print(\"Thread starting...\")\n",
    "\n",
    "# Create a new thread object\n",
    "my_thread = MyThread()\n",
    "\n",
    "# Start the thread\n",
    "my_thread.start()\n"
   ]
  },
  {
   "cell_type": "markdown",
   "id": "d1f991ce-a667-49d7-a407-57c9f1f263d3",
   "metadata": {},
   "source": [
    "start(): This method is used to start a new thread of execution. When called, it creates a new thread and starts executing the run() method in that thread. This method returns immediately, allowing the program to continue executing while the new thread runs concurrently."
   ]
  },
  {
   "cell_type": "code",
   "execution_count": 5,
   "id": "acbb61f4-2598-4468-828a-3ecaf8303967",
   "metadata": {},
   "outputs": [
    {
     "name": "stdout",
     "output_type": "stream",
     "text": [
      "Thread starting...\n",
      "Main thread continuing...\n"
     ]
    }
   ],
   "source": [
    "import threading\n",
    "\n",
    "# Define a function for the new thread to run\n",
    "def my_function():\n",
    "    print(\"Thread starting...\")\n",
    "\n",
    "# Create a new thread object\n",
    "my_thread = threading.Thread(target=my_function)\n",
    "\n",
    "# Start the thread\n",
    "my_thread.start()\n",
    "\n",
    "# Continue with the main thread\n",
    "print(\"Main thread continuing...\")\n"
   ]
  },
  {
   "cell_type": "markdown",
   "id": "cfefedf6-4a4a-476e-bd8f-0ac53b417f20",
   "metadata": {},
   "source": [
    "join(): This method is used to wait for a thread to complete its execution. When called, the main thread of the program will block until the specified thread has finished running."
   ]
  },
  {
   "cell_type": "code",
   "execution_count": 7,
   "id": "bb0a170b-5a71-44cb-a0af-de5478a5ee7e",
   "metadata": {},
   "outputs": [
    {
     "name": "stderr",
     "output_type": "stream",
     "text": [
      "Exception in thread Thread-8 (my_function):\n",
      "Traceback (most recent call last):\n",
      "  File \"/opt/conda/lib/python3.10/threading.py\", line 1016, in _bootstrap_inner\n",
      "    self.run()\n",
      "  File \"/opt/conda/lib/python3.10/threading.py\", line 953, in run\n",
      "    self._target(*self._args, **self._kwargs)\n",
      "  File \"/tmp/ipykernel_105/1559745250.py\", line 6, in my_function\n",
      "NameError: name 'time' is not defined\n"
     ]
    },
    {
     "name": "stdout",
     "output_type": "stream",
     "text": [
      "Thread starting...\n",
      "Main thread continuing...\n"
     ]
    }
   ],
   "source": [
    "import threading\n",
    "\n",
    "# Define a function for the new thread to run\n",
    "def my_function():\n",
    "    print(\"Thread starting...\")\n",
    "    time.sleep(2)\n",
    "    print(\"Thread ending...\")\n",
    "\n",
    "# Create a new thread object\n",
    "my_thread = threading.Thread(target=my_function)\n",
    "\n",
    "# Start the thread\n",
    "my_thread.start()\n",
    "\n",
    "# Wait for the thread to finish\n",
    "my_thread.join()\n",
    "\n",
    "# Continue with the main thread\n",
    "print(\"Main thread continuing...\")\n"
   ]
  },
  {
   "cell_type": "markdown",
   "id": "1c3d4734-e6b2-4377-91c4-9379dead4e06",
   "metadata": {},
   "source": [
    "isAlive(): This method is used to check whether a thread is currently running. When called, it returns True if the specified thread is currently running, and False otherwise."
   ]
  },
  {
   "cell_type": "code",
   "execution_count": 8,
   "id": "23357e89-8293-4b74-873c-a57a4552b910",
   "metadata": {},
   "outputs": [
    {
     "name": "stdout",
     "output_type": "stream",
     "text": [
      "Thread starting...\n"
     ]
    },
    {
     "name": "stderr",
     "output_type": "stream",
     "text": [
      "Exception in thread Thread-9 (my_function):\n",
      "Traceback (most recent call last):\n",
      "  File \"/opt/conda/lib/python3.10/threading.py\", line 1016, in _bootstrap_inner\n",
      "    self.run()\n",
      "  File \"/opt/conda/lib/python3.10/threading.py\", line 953, in run\n",
      "    self._target(*self._args, **self._kwargs)\n",
      "  File \"/tmp/ipykernel_105/663412237.py\", line 6, in my_function\n",
      "NameError: name 'time' is not defined\n"
     ]
    },
    {
     "ename": "AttributeError",
     "evalue": "'Thread' object has no attribute 'isAlive'",
     "output_type": "error",
     "traceback": [
      "\u001b[0;31m---------------------------------------------------------------------------\u001b[0m",
      "\u001b[0;31mAttributeError\u001b[0m                            Traceback (most recent call last)",
      "Cell \u001b[0;32mIn[8], line 16\u001b[0m\n\u001b[1;32m     13\u001b[0m my_thread\u001b[38;5;241m.\u001b[39mstart()\n\u001b[1;32m     15\u001b[0m \u001b[38;5;66;03m# Check if the thread is still running\u001b[39;00m\n\u001b[0;32m---> 16\u001b[0m \u001b[38;5;28;01mif\u001b[39;00m \u001b[43mmy_thread\u001b[49m\u001b[38;5;241;43m.\u001b[39;49m\u001b[43misAlive\u001b[49m():\n\u001b[1;32m     17\u001b[0m     \u001b[38;5;28mprint\u001b[39m(\u001b[38;5;124m\"\u001b[39m\u001b[38;5;124mThread is still running...\u001b[39m\u001b[38;5;124m\"\u001b[39m)\n\u001b[1;32m     18\u001b[0m \u001b[38;5;28;01melse\u001b[39;00m:\n",
      "\u001b[0;31mAttributeError\u001b[0m: 'Thread' object has no attribute 'isAlive'"
     ]
    }
   ],
   "source": [
    "import threading\n",
    "\n",
    "# Define a function for the new thread to run\n",
    "def my_function():\n",
    "    print(\"Thread starting...\")\n",
    "    time.sleep(2)\n",
    "    print(\"Thread ending...\")\n",
    "\n",
    "# Create a new thread object\n",
    "my_thread = threading.Thread(target=my_function)\n",
    "\n",
    "# Start the thread\n",
    "my_thread.start()\n",
    "\n",
    "# Check if the thread is still running\n",
    "if my_thread.isAlive():\n",
    "    print(\"Thread is still running...\")\n",
    "else:\n",
    "    print(\"Thread has finished...\")\n"
   ]
  },
  {
   "cell_type": "markdown",
   "id": "75f8684b-6f03-4776-8744-1fd0d8ac2e02",
   "metadata": {},
   "source": [
    "4. write a python program to create two threads. Thread one must print the list of squares and thread\n",
    "two must print the list of cubes"
   ]
  },
  {
   "cell_type": "code",
   "execution_count": 9,
   "id": "d53eb956-8eef-4c5d-9ba0-d3ccf90155c7",
   "metadata": {},
   "outputs": [
    {
     "name": "stdout",
     "output_type": "stream",
     "text": [
      "Squares: [1, 4, 9, 16, 25, 36, 49, 64, 81, 100]\n",
      "Cubes: [1, 8, 27, 64, 125, 216, 343, 512, 729, 1000]\n",
      "Done!\n"
     ]
    }
   ],
   "source": [
    "import threading\n",
    "\n",
    "# Define a function to print the list of squares\n",
    "def print_squares():\n",
    "    squares = [x ** 2 for x in range(1, 11)]\n",
    "    print(\"Squares:\", squares)\n",
    "\n",
    "# Define a function to print the list of cubes\n",
    "def print_cubes():\n",
    "    cubes = [x ** 3 for x in range(1, 11)]\n",
    "    print(\"Cubes:\", cubes)\n",
    "\n",
    "# Create two new thread objects\n",
    "thread1 = threading.Thread(target=print_squares)\n",
    "thread2 = threading.Thread(target=print_cubes)\n",
    "\n",
    "# Start both threads\n",
    "thread1.start()\n",
    "thread2.start()\n",
    "\n",
    "# Wait for both threads to finish\n",
    "thread1.join()\n",
    "thread2.join()\n",
    "\n",
    "# Continue with the main thread\n",
    "print(\"Done!\")\n"
   ]
  },
  {
   "cell_type": "markdown",
   "id": "17a45f53-ec53-4625-9944-7b9f8fce09b9",
   "metadata": {},
   "source": [
    "5. State advantages and disadvantages of multithreading"
   ]
  },
  {
   "cell_type": "markdown",
   "id": "0a844585-2e86-4cc4-aede-7d2d6cbddd19",
   "metadata": {},
   "source": [
    "Advantages:\n",
    "\n",
    "Improved performance: Multithreading can improve performance by allowing a program to execute multiple threads simultaneously. This can make better use of available CPU resources and reduce the overall time needed to complete a task.\n",
    "\n",
    "Responsiveness: Multithreading can help ensure that a program remains responsive to user input, even when it is performing time-consuming operations in the background. For example, a word processor may use a separate thread to perform spell-checking while the user continues to type.\n",
    "\n",
    "Simplified programming: Multithreading can make it easier to write complex programs by breaking them down into smaller, more manageable pieces. This can make the code easier to understand and debug."
   ]
  },
  {
   "cell_type": "markdown",
   "id": "ff570bcc-8eb1-4d9b-bf49-f8733ba252e4",
   "metadata": {},
   "source": [
    "Disadvantages:\n",
    "\n",
    "Complexity: Multithreading can add significant complexity to a program, making it more difficult to understand and debug. Issues such as race conditions, deadlocks, and thread synchronization can be difficult to detect and resolve.\n",
    "\n",
    "Resource consumption: Multithreading can consume more system resources, such as memory and CPU cycles, than a single-threaded program. This can lead to slower overall performance and reduced system stability.\n",
    "\n",
    "Debugging: Debugging multithreaded programs can be challenging, as issues may be difficult to reproduce and diagnose. This can make it more difficult to identify and fix bugs in the code.\n",
    "\n",
    "Platform dependence: Multithreading is highly dependent on the underlying hardware and operating system. Differences in hardware and software can lead to inconsistent behavior and may require changes to the code to work correctly."
   ]
  },
  {
   "cell_type": "markdown",
   "id": "de11b941-0440-47e9-a3b6-47080475f734",
   "metadata": {},
   "source": [
    "6. Explain deadlocks and race conditions."
   ]
  },
  {
   "cell_type": "code",
   "execution_count": null,
   "id": "0cf0189f-d788-4000-b6dd-fd52abe1b557",
   "metadata": {},
   "outputs": [],
   "source": []
  }
 ],
 "metadata": {
  "kernelspec": {
   "display_name": "Python 3 (ipykernel)",
   "language": "python",
   "name": "python3"
  },
  "language_info": {
   "codemirror_mode": {
    "name": "ipython",
    "version": 3
   },
   "file_extension": ".py",
   "mimetype": "text/x-python",
   "name": "python",
   "nbconvert_exporter": "python",
   "pygments_lexer": "ipython3",
   "version": "3.10.8"
  }
 },
 "nbformat": 4,
 "nbformat_minor": 5
}
