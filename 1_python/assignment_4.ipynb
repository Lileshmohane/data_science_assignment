{
 "cells": [
  {
   "cell_type": "markdown",
   "id": "3bc35dab-2d5a-4ea8-aea3-487609cc3b10",
   "metadata": {},
   "source": [
    "Assignment\n"
   ]
  },
  {
   "cell_type": "markdown",
   "id": "ab84e612-ccf1-4f96-9432-550d9153a668",
   "metadata": {},
   "source": [
    "Q1. Which keyword is used to create a function? Create a function to return a list of odd numbers in the\n",
    "range of 1 to 25."
   ]
  },
  {
   "cell_type": "code",
   "execution_count": 1,
   "id": "d6d7d19c-0dfb-464e-afac-26003a0e51f8",
   "metadata": {},
   "outputs": [],
   "source": [
    "# we are use a keyword  to create a function is def "
   ]
  },
  {
   "cell_type": "code",
   "execution_count": 3,
   "id": "49e32a1c-bc7d-4367-ae14-b8f6e2e2cbff",
   "metadata": {},
   "outputs": [
    {
     "name": "stdout",
     "output_type": "stream",
     "text": [
      "[1, 3, 5, 7, 9, 11, 13, 15, 17, 19, 21, 23, 25]\n"
     ]
    }
   ],
   "source": [
    "def odd():\n",
    "    # we are append a odd number in odd_list\n",
    "    odd_list= []\n",
    "    #  now create a for loop\n",
    "    for i in range(1,26):\n",
    "        if i%2 != 0: # agar  i% 2 not equla to 0 hota hay  to  vaha odd number hay  use odd_list me dal  do \n",
    "            odd_list.append(i)\n",
    "        # fir odd_list ko return kara do \n",
    "    return odd_list\n",
    "# then we coll a function  \n",
    "print(odd())\n",
    "            \n",
    "        \n",
    "    "
   ]
  },
  {
   "cell_type": "markdown",
   "id": "ce963c28-3204-4a5a-b5ea-3c5b10255194",
   "metadata": {},
   "source": [
    "Q2. Why *args and **kwargs is used in some functions? Create a function each for *args and **kwargs\n",
    "to demonstrate their use."
   ]
  },
  {
   "cell_type": "code",
   "execution_count": 4,
   "id": "01f98db9-5e47-4563-b6c4-fa173acd5ac4",
   "metadata": {},
   "outputs": [],
   "source": [
    " #  *args and **kwargs are used to pass a variable number of arguments to a function.\n",
    "#   *args is used to pass a non-keyworded, variable-length argument list to a function and\n",
    "#   **kwargs is used to pass keyworded, variable-length arguments to a function."
   ]
  },
  {
   "cell_type": "code",
   "execution_count": 5,
   "id": "938c77b8-404d-46f1-9c4e-778103b446cc",
   "metadata": {},
   "outputs": [
    {
     "name": "stdout",
     "output_type": "stream",
     "text": [
      "1\n",
      "2\n",
      "3\n",
      "4\n"
     ]
    }
   ],
   "source": [
    "def print_args(*args):\n",
    "    for arg in args:\n",
    "        print(arg)\n",
    "\n",
    "print_args(1, 2, 3, 4)\n"
   ]
  },
  {
   "cell_type": "code",
   "execution_count": 6,
   "id": "3968cf33-e0f4-4ad0-9395-0125a0a9303b",
   "metadata": {},
   "outputs": [
    {
     "name": "stdout",
     "output_type": "stream",
     "text": [
      "name: lilesh\n",
      "age: 21\n",
      "city: betul\n"
     ]
    }
   ],
   "source": [
    "def print_kwargs(**kwargs):\n",
    "    for key, value in kwargs.items():\n",
    "        print(f\"{key}: {value}\")\n",
    "\n",
    "print_kwargs(name=\"lilesh\", age=21, city=\"betul\")\n"
   ]
  },
  {
   "cell_type": "markdown",
   "id": "a79f1203-e0f4-4d52-b1b5-d11d75f72905",
   "metadata": {},
   "source": [
    "Q3. What is an iterator in python? Name the method used to initialise the iterator object and the method\n",
    "used for iteration. Use these methods to print the first five elements of the given list [2, 4, 6, 8, 10, 12, 14,\n",
    "16, 18, 20].\n"
   ]
  },
  {
   "cell_type": "code",
   "execution_count": null,
   "id": "90b74539-9f6f-4532-bd86-f7a84a3ba954",
   "metadata": {},
   "outputs": [],
   "source": [
    "# In Python, an iterator is an object that implements the iter method, \n",
    "# which is used to iterate through a collection of items.\n",
    "# The next method is used to retrieve the next item from the iterator."
   ]
  },
  {
   "cell_type": "code",
   "execution_count": 8,
   "id": "ba13272b-224e-4e45-a34b-44ce2e06da5d",
   "metadata": {},
   "outputs": [
    {
     "name": "stdout",
     "output_type": "stream",
     "text": [
      "2\n",
      "4\n",
      "6\n",
      "8\n",
      "10\n"
     ]
    }
   ],
   "source": [
    "numbers = [2, 4, 6, 8, 10, 12, 14, 16, 18, 20]\n",
    "\n",
    "# Initializing iterator object\n",
    "numbers_iter = iter(numbers)\n",
    "\n",
    "# Iterating through the iterator\n",
    "for i in range(5):\n",
    "    print(next(numbers_iter))\n"
   ]
  },
  {
   "cell_type": "markdown",
   "id": "f40af3bd-e0e4-41b8-b43c-cf9a562ff3df",
   "metadata": {},
   "source": [
    "Q4. What is a generator function in python? Why yield keyword is used? Give an example of a generator\n",
    "function."
   ]
  },
  {
   "cell_type": "markdown",
   "id": "5f8a07b1-5f48-4430-8f3f-2404dd4ca912",
   "metadata": {},
   "source": [
    "a generator function is a special type of function that can be used to create an iterator. The yield keyword is used in a generator function to return a value and pause the function's execution"
   ]
  },
  {
   "cell_type": "code",
   "execution_count": 12,
   "id": "bfc62ea7-d22c-4f11-8ffd-3532133db36b",
   "metadata": {},
   "outputs": [
    {
     "name": "stdout",
     "output_type": "stream",
     "text": [
      "0\n",
      "1\n",
      "2\n",
      "3\n",
      "4\n"
     ]
    }
   ],
   "source": [
    "def generate_numbers(n):\n",
    "    for i in range(n):\n",
    "        yield i\n",
    "\n",
    "# Using the generator function\n",
    "for num in generate_numbers(5):\n",
    "    print(num)\n"
   ]
  },
  {
   "cell_type": "markdown",
   "id": "af24d43f-f450-4d24-ae88-23bb12bc5d1e",
   "metadata": {},
   "source": [
    "Q5. Create a generator function for prime numbers less than 1000. Use the next() method to print the\n",
    "first 20 prime numbers."
   ]
  },
  {
   "cell_type": "code",
   "execution_count": 13,
   "id": "68bccf82-4fcf-46b6-b8da-113f014de718",
   "metadata": {},
   "outputs": [
    {
     "name": "stdout",
     "output_type": "stream",
     "text": [
      "2\n",
      "3\n",
      "5\n",
      "7\n",
      "11\n",
      "13\n",
      "17\n",
      "19\n",
      "23\n",
      "29\n",
      "31\n",
      "37\n",
      "41\n",
      "43\n",
      "47\n",
      "53\n",
      "59\n",
      "61\n",
      "67\n",
      "71\n"
     ]
    }
   ],
   "source": [
    "def prime_num():\n",
    "    yield 2\n",
    "    primes = [2]\n",
    "    i = 3\n",
    "    while i < 1000:\n",
    "        is_prime = True\n",
    "        for prime in primes:\n",
    "            if i % prime == 0:\n",
    "                is_prime = False\n",
    "                break\n",
    "        if is_prime:\n",
    "            primes.append(i)\n",
    "            yield i\n",
    "        i += 2\n",
    "\n",
    "# Using the generator function\n",
    "prime_gen = prime_num()\n",
    "for i in range(20):\n",
    "    print(next(prime_gen))\n"
   ]
  },
  {
   "cell_type": "markdown",
   "id": "a5f36b82-d5a8-4340-9037-0898b43ed4a5",
   "metadata": {},
   "source": [
    "Q6. Write a python program to print the first 10 Fibonacci numbers using a while loop."
   ]
  },
  {
   "cell_type": "code",
   "execution_count": 16,
   "id": "44bbcd4d-e95a-4291-9c78-a893b554b080",
   "metadata": {},
   "outputs": [
    {
     "name": "stdout",
     "output_type": "stream",
     "text": [
      "0\n",
      "1\n",
      "1\n",
      "2\n",
      "3\n",
      "5\n",
      "8\n",
      "13\n",
      "21\n",
      "34\n"
     ]
    }
   ],
   "source": [
    "def fibonacci():\n",
    "    a,b =0,1\n",
    "    while True:\n",
    "        yield a\n",
    "        a, b = b, a + b\n",
    "\n",
    "# Using the generator function\n",
    "fib_gen = fibonacci()\n",
    "for i in range(10):\n",
    "    print(next(fib_gen))\n",
    "    "
   ]
  },
  {
   "cell_type": "markdown",
   "id": "11a82eff-3370-41c4-9282-2d8e977e5e6a",
   "metadata": {},
   "source": [
    "Q7. Write a List Comprehension to iterate through the given string: ‘pwskills’.\n",
    "Expected output: ['p', 'w', 's', 'k', 'i', 'l', 'l', 's']"
   ]
  },
  {
   "cell_type": "code",
   "execution_count": 17,
   "id": "9e700073-9cba-400c-8543-b1ebcf91ea3e",
   "metadata": {},
   "outputs": [
    {
     "name": "stdout",
     "output_type": "stream",
     "text": [
      "['p', 'w', 's', 'k', 'i', 'l', 'l', 's']\n"
     ]
    }
   ],
   "source": [
    "string = 'pwskills'\n",
    "character = [char for char in string]\n",
    "print(character)\n"
   ]
  },
  {
   "cell_type": "markdown",
   "id": "ceb1ef3b-2402-4779-ba7f-5aa785541571",
   "metadata": {},
   "source": [
    "Q8. Write a python program to check whether a given number is Palindrome or not using a while loop."
   ]
  },
  {
   "cell_type": "code",
   "execution_count": 19,
   "id": "3af4c280-57c5-43c9-825d-cfe7deffa47c",
   "metadata": {},
   "outputs": [
    {
     "name": "stdout",
     "output_type": "stream",
     "text": [
      "True\n",
      "False\n"
     ]
    }
   ],
   "source": [
    "def is_palindrome(number):\n",
    "    original = number\n",
    "    reverse = 0\n",
    "    while number > 0:\n",
    "        reverse = reverse * 10 + number % 10\n",
    "        number = number // 10\n",
    "    return original == reverse\n",
    "\n",
    "# Check if 121 is a palindrome\n",
    "print(is_palindrome(21212))\n",
    "# Check if 123 is a palindrome\n",
    "print(is_palindrome(123))\n"
   ]
  },
  {
   "cell_type": "markdown",
   "id": "612634b4-5b57-4ab7-a1e6-658d064ee5b3",
   "metadata": {},
   "source": [
    "Q9. Write a code to print odd numbers from 1 to 100 using list comprehension."
   ]
  },
  {
   "cell_type": "code",
   "execution_count": 20,
   "id": "14014528-6297-49f9-88a5-44d40994c23e",
   "metadata": {},
   "outputs": [
    {
     "name": "stdout",
     "output_type": "stream",
     "text": [
      "[1, 3, 5, 7, 9, 11, 13, 15, 17, 19, 21, 23, 25, 27, 29, 31, 33, 35, 37, 39, 41, 43, 45, 47, 49, 51, 53, 55, 57, 59, 61, 63, 65, 67, 69, 71, 73, 75, 77, 79, 81, 83, 85, 87, 89, 91, 93, 95, 97, 99]\n"
     ]
    }
   ],
   "source": [
    "odd_numbers = [num for num in range(1,101) if num % 2 != 0]\n",
    "print(odd_numbers)"
   ]
  },
  {
   "cell_type": "code",
   "execution_count": null,
   "id": "7c15ef4d-f433-4cfc-8ba3-7b452945a4e8",
   "metadata": {},
   "outputs": [],
   "source": []
  }
 ],
 "metadata": {
  "kernelspec": {
   "display_name": "Python 3 (ipykernel)",
   "language": "python",
   "name": "python3"
  },
  "language_info": {
   "codemirror_mode": {
    "name": "ipython",
    "version": 3
   },
   "file_extension": ".py",
   "mimetype": "text/x-python",
   "name": "python",
   "nbconvert_exporter": "python",
   "pygments_lexer": "ipython3",
   "version": "3.10.8"
  }
 },
 "nbformat": 4,
 "nbformat_minor": 5
}
