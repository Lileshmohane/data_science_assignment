{
 "cells": [
  {
   "cell_type": "markdown",
   "id": "e072037e-c682-4af5-8737-2ec09342f479",
   "metadata": {},
   "source": [
    "Q1. Create a python program to sort the given list of tuples based on integer value using a\n",
    "lambda function.\n"
   ]
  },
  {
   "cell_type": "code",
   "execution_count": 4,
   "id": "b12cf064-2d89-448e-8ef6-8614cfb09762",
   "metadata": {},
   "outputs": [
    {
     "name": "stdout",
     "output_type": "stream",
     "text": [
      "[('Virat Kohli', 24936), ('Jack Kallis', 25534), ('Ricky Ponting', 27483), ('Sachin Tendulkar', 34357)]\n"
     ]
    }
   ],
   "source": [
    "def sort_tuples(tuple_list):\n",
    "  return sorted(tuple_list, key=lambda x: x[1])\n",
    "\n",
    "# Example list of tuples\n",
    "tuple_list = [('Sachin Tendulkar', 34357), ('Ricky Ponting', 27483), ('Jack Kallis', 25534), ('Virat Kohli', 24936)]\n",
    "\n",
    "# Sorting the list of tuples\n",
    "sorted_list = sort_tuples(tuple_list)\n",
    "\n",
    "# Printing the sorted list\n",
    "print(sorted_list)\n"
   ]
  },
  {
   "cell_type": "markdown",
   "id": "d39ca9ce-f973-4883-8a9c-1d8e4a43d59a",
   "metadata": {},
   "source": [
    "Q2. Write a Python Program to find the squares of all the numbers in the given list of integers using\n",
    "lambda and map functions.\n",
    "[1, 2, 3, 4, 5, 6, 7, 8, 9, 10]"
   ]
  },
  {
   "cell_type": "code",
   "execution_count": 6,
   "id": "1b1cf329-95fd-4540-8090-bbcf14b04e65",
   "metadata": {},
   "outputs": [
    {
     "name": "stdout",
     "output_type": "stream",
     "text": [
      "[1, 4, 9, 16, 25, 36, 49, 64, 81, 100]\n"
     ]
    }
   ],
   "source": [
    "l1 = [1, 2, 3, 4, 5, 6, 7, 8, 9, 10]\n",
    "l= list(map(lambda x: x**2,l1))\n",
    "print(l)"
   ]
  },
  {
   "cell_type": "markdown",
   "id": "5c1086a0-8fd9-4aa1-bb7e-0222d695b7f6",
   "metadata": {},
   "source": [
    "Q3. Write a python program to convert the given list of integers into a tuple of strings. Use map and\n",
    "lambda functions\n",
    "Given String: [1, 2, 3, 4, 5, 6, 7, 8, 9, 10]\n",
    "Expected output: ('1', '2', '3', '4', '5', '6', '7', '8', '9', '10')"
   ]
  },
  {
   "cell_type": "code",
   "execution_count": 7,
   "id": "30cec7e5-5b12-4fd0-a7f9-c4482a4d1655",
   "metadata": {},
   "outputs": [
    {
     "name": "stdout",
     "output_type": "stream",
     "text": [
      "('1', '2', '3', '4', '5', '6', '7', '8', '9', '10')\n"
     ]
    }
   ],
   "source": [
    "l=[1, 2, 3, 4, 5, 6, 7, 8, 9, 10] \n",
    "string_tuple = tuple(map(lambda x: str(x), l))\n",
    "\n",
    "# Printing the tuple of strings\n",
    "print(string_tuple)"
   ]
  },
  {
   "cell_type": "markdown",
   "id": "fa653ed9-c59f-4ed8-a844-dc5eeb30ba78",
   "metadata": {},
   "source": [
    "Q4. Write a python program using reduce function to compute the product of a list containing numbers\n",
    "from 1 to 25."
   ]
  },
  {
   "cell_type": "code",
   "execution_count": 8,
   "id": "bd1c19a0-9c7b-48e8-87f2-2d4cf0b77932",
   "metadata": {},
   "outputs": [
    {
     "name": "stdout",
     "output_type": "stream",
     "text": [
      "15511210043330985984000000\n"
     ]
    }
   ],
   "source": [
    "from functools import reduce\n",
    "\n",
    "# List of numbers from 1 to 25\n",
    "num = range(1, 26)\n",
    "\n",
    "# Calculating the product of the numbers in the list\n",
    "product = reduce(lambda x, y: x*y, num)\n",
    "\n",
    "# Printing the product\n",
    "print(product)"
   ]
  },
  {
   "cell_type": "markdown",
   "id": "9b23d59b-16c9-4131-8741-565f15c59999",
   "metadata": {},
   "source": [
    "Q5. Write a python program to filter the numbers in a given list that are divisible by 2 and 3 using the\n",
    "filter function.\n",
    "[2, 3, 6, 9, 27, 60, 90, 120, 55, 46]"
   ]
  },
  {
   "cell_type": "code",
   "execution_count": 15,
   "id": "6bcade11-f1bc-49cf-acdf-45d8e4c1a91e",
   "metadata": {},
   "outputs": [
    {
     "name": "stdout",
     "output_type": "stream",
     "text": [
      "[6, 60, 90, 120]\n"
     ]
    }
   ],
   "source": [
    "l1 =[2, 3, 6, 9, 27, 60, 90, 120, 55, 46]\n",
    "l= list(filter(lambda x :   x%2==0 and x%3==0 ,l1))\n",
    "print(l)"
   ]
  },
  {
   "cell_type": "markdown",
   "id": "8584eb16-d0cd-43a4-8823-629c58f721d0",
   "metadata": {},
   "source": [
    "Q6. Write a python program to find palindromes in the given list of strings using lambda and filter\n",
    "function.\n",
    "['python', 'php', 'aba', 'radar', 'level']"
   ]
  },
  {
   "cell_type": "code",
   "execution_count": 19,
   "id": "a236f326-3872-4a8b-b3b7-bc39a0210cb4",
   "metadata": {},
   "outputs": [
    {
     "name": "stdout",
     "output_type": "stream",
     "text": [
      "['php', 'aba', 'radar', 'level']\n"
     ]
    }
   ],
   "source": [
    "s=  ['python', 'php', 'aba', 'radar', 'level']\n",
    "s1= list(filter(lambda x: x==x[::-1],s))\n",
    "print(s1)"
   ]
  },
  {
   "cell_type": "code",
   "execution_count": null,
   "id": "a8511785-a132-404b-9206-7663a3e370d7",
   "metadata": {},
   "outputs": [],
   "source": []
  }
 ],
 "metadata": {
  "kernelspec": {
   "display_name": "Python 3 (ipykernel)",
   "language": "python",
   "name": "python3"
  },
  "language_info": {
   "codemirror_mode": {
    "name": "ipython",
    "version": 3
   },
   "file_extension": ".py",
   "mimetype": "text/x-python",
   "name": "python",
   "nbconvert_exporter": "python",
   "pygments_lexer": "ipython3",
   "version": "3.10.8"
  }
 },
 "nbformat": 4,
 "nbformat_minor": 5
}
