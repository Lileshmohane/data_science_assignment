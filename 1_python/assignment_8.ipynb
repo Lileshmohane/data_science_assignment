{
 "cells": [
  {
   "cell_type": "markdown",
   "id": "f31960a7-c815-4fae-800b-1285e666de6b",
   "metadata": {},
   "source": [
    "Q1. You are writing code for a company. The requirement of the company is that you create a python\n",
    "function that will check whether the password entered by the user is correct or not. The function should\n",
    "take the password as input and return the string “Valid Password” if the entered password follows the\n",
    "below-given password guidelines else it should return “Invalid Password”.\n",
    "Note: 1. The Password should contain at least two uppercase letters and at least two lowercase letters.\n",
    "2. The Password should contain at least a number and three special characters.\n",
    "3. The length of the password should be 10 characters long."
   ]
  },
  {
   "cell_type": "code",
   "execution_count": 7,
   "id": "865e0089-1501-4bd9-bdb7-1a7cbe41632f",
   "metadata": {},
   "outputs": [],
   "source": [
    "def validate_password(password):\n",
    "    # Check if the length of the password is 10 characters long\n",
    "    if len(password) != 10:\n",
    "        return \"Invalid Password\"\n",
    "\n",
    "    # Check if the password contains at least two uppercase letters\n",
    "    upper_count = 0\n",
    "    for char in password:\n",
    "        if char.isupper():\n",
    "            upper_count += 1\n",
    "    if upper_count < 2:\n",
    "        return \"Invalid Password\"\n",
    "\n",
    "    # Check if the password contains at least two lowercase letters\n",
    "    lower_count = 0\n",
    "    for char in password:\n",
    "        if char.islower():\n",
    "            lower_count += 1\n",
    "    if lower_count < 2:\n",
    "        return \"Invalid Password\"\n",
    "\n",
    "    # Check if the password contains at least a number\n",
    "    num_count = 0\n",
    "    for char in password:\n",
    "        if char.isdigit():\n",
    "            num_count += 1\n",
    "    if num_count == 0:\n",
    "        return \"Invalid Password\"\n",
    "\n",
    "    # Check if the password contains at least three special characters\n",
    "    special_char_count = 0\n",
    "    special_chars = \"!@#$%^&*()?\"\n",
    "    for char in password:\n",
    "        if char in special_chars:\n",
    "            special_char_count += 1\n",
    "    if special_char_count < 3:\n",
    "        return \"Invalid Password\"\n",
    "\n",
    "    # If all validation checks are passed, return \"Valid Password\"\n",
    "    return \"Valid Password\"\n"
   ]
  },
  {
   "cell_type": "markdown",
   "id": "22c3f858-9085-4eb6-a30f-5548565359a7",
   "metadata": {},
   "source": [
    "Q2. Solve the below-given questions using at least one of the following:\n",
    "1. Lambda functioJ\n",
    "2. Filter functioJ\n",
    "3. Zap functioJ\n",
    "4. List ComprehensioI\n",
    "B Check if the string starts with a particular letterY\n",
    "B Check if the string is numericY\n",
    "B Sort a list of tuples having fruit names and their quantity. [(\"mango\",99),(\"orange\",80), (\"grapes\", 1000)-\n",
    "B Find the squares of numbers from 1 to 10Y\n",
    "B Find the cube root of numbers from 1 to 10Y\n",
    "B Check if a given number is evenY\n",
    "B Filter odd numbers from the given list.\n",
    "[1,2,3,4,5,6,7,8,9,10-\n",
    "B Sort a list of integers into positive and negative integers lists.\n",
    "[1,2,3,4,5,6,-1,-2,-3,-4,-5,0]"
   ]
  },
  {
   "cell_type": "markdown",
   "id": "aa45a697-8e64-4a62-95a8-b277e4331e3c",
   "metadata": {},
   "source": [
    "Check if the string starts with a particular letter:\n"
   ]
  },
  {
   "cell_type": "code",
   "execution_count": 9,
   "id": "f8b0be49-1b87-41cd-9d38-4a601c1c1734",
   "metadata": {},
   "outputs": [],
   "source": [
    "def starts_with_letter(string, letter):\n",
    "    return string.startswith(letter)\n",
    "\n",
    "# Using a Lambda function\n",
    "starts_with_letter_lambda = lambda s, l: s.startswith(l)\n"
   ]
  },
  {
   "cell_type": "markdown",
   "id": "aebe21f0-d290-40be-99e0-9a96491f17ab",
   "metadata": {},
   "source": [
    "Check if the string is numeric:"
   ]
  },
  {
   "cell_type": "code",
   "execution_count": 10,
   "id": "a64638c5-7e31-42a3-a5b4-b5ef30391545",
   "metadata": {},
   "outputs": [],
   "source": [
    "def is_numeric(string):\n",
    "    return string.isnumeric()\n",
    "\n",
    "# Using a Lambda function\n",
    "is_numeric_lambda = lambda s: s.isnumeric()\n"
   ]
  },
  {
   "cell_type": "markdown",
   "id": "1aa78ea9-44a9-4e79-a917-68022da392ca",
   "metadata": {},
   "source": [
    "Sort a list of tuples having fruit names and their quantity:"
   ]
  },
  {
   "cell_type": "code",
   "execution_count": 11,
   "id": "a50c7c33-35b3-4d40-8eed-c673fcce94b4",
   "metadata": {},
   "outputs": [],
   "source": [
    "fruits = [(\"mango\", 99), (\"orange\", 80), (\"grapes\", 1000)]\n",
    "\n",
    "# Using the sorted function with a key\n",
    "sorted_fruits = sorted(fruits, key=lambda x: x[1])\n"
   ]
  },
  {
   "cell_type": "markdown",
   "id": "4d2d84bf-db95-4453-a8b2-24cdaa97060f",
   "metadata": {},
   "source": [
    "Find the squares of numbers from 1 to 10:"
   ]
  },
  {
   "cell_type": "code",
   "execution_count": 14,
   "id": "5db38c85-0f9a-4290-abe3-1df5f62e5f43",
   "metadata": {},
   "outputs": [],
   "source": [
    "# Using a List Comprehension\n",
    "squares = [x**2 for x in range(1, 11)]\n"
   ]
  },
  {
   "cell_type": "markdown",
   "id": "bb676c00-fb11-49bc-8d88-798edbd09692",
   "metadata": {},
   "source": [
    "Find the cube root of numbers from 1 to 10:"
   ]
  },
  {
   "cell_type": "code",
   "execution_count": 15,
   "id": "822932d0-471f-497b-957a-681c70f3a1dc",
   "metadata": {},
   "outputs": [],
   "source": [
    "import math\n",
    "\n",
    "# Using a List Comprehension\n",
    "cube_roots = [math.pow(x, 1/3) for x in range(1, 11)]\n"
   ]
  },
  {
   "cell_type": "markdown",
   "id": "8b974986-7f21-4f34-9c04-33f7ff8b63f8",
   "metadata": {},
   "source": [
    "Check if a given number is even:"
   ]
  },
  {
   "cell_type": "code",
   "execution_count": 16,
   "id": "b146e628-bf77-429d-8802-e9810ec91ea2",
   "metadata": {},
   "outputs": [],
   "source": [
    "def is_even(number):\n",
    "    return number % 2 == 0\n",
    "\n",
    "# Using a Lambda function\n",
    "is_even_lambda = lambda n: n % 2 == 0\n"
   ]
  },
  {
   "cell_type": "markdown",
   "id": "51eca73f-2a89-4593-88bc-e2e89b1f1c62",
   "metadata": {},
   "source": [
    "Filter odd numbers from the given list:"
   ]
  },
  {
   "cell_type": "code",
   "execution_count": 17,
   "id": "9217e8f4-3c59-4316-937a-613771c89d20",
   "metadata": {},
   "outputs": [],
   "source": [
    "numbers = [1, 2, 3, 4, 5, 6, 7, 8, 9, 10]\n",
    "\n",
    "# Using the filter function\n",
    "odd_numbers = list(filter(lambda x: x % 2 != 0, numbers))\n",
    "\n",
    "# Using a List Comprehension\n",
    "odd_numbers_comprehension = [x for x in numbers if x % 2 != 0]\n"
   ]
  },
  {
   "cell_type": "markdown",
   "id": "99338612-0083-4c7e-9332-23ed70810956",
   "metadata": {},
   "source": [
    "Sort a list of integers into positive and negative integers lists:"
   ]
  },
  {
   "cell_type": "code",
   "execution_count": 18,
   "id": "586ea5c4-ea52-4edb-89b3-4ee3b8205377",
   "metadata": {},
   "outputs": [],
   "source": [
    "numbers = [1, 2, 3, 4, 5, 6, -1, -2, -3, -4, -5, 0]\n",
    "\n",
    "# Using a List Comprehension\n",
    "positive_numbers = [x for x in numbers if x > 0]\n",
    "negative_numbers = [x for x in numbers if x < 0]\n"
   ]
  },
  {
   "cell_type": "code",
   "execution_count": null,
   "id": "fdaf3db0-1e45-4917-9d19-9550fe493c70",
   "metadata": {},
   "outputs": [],
   "source": []
  }
 ],
 "metadata": {
  "kernelspec": {
   "display_name": "Python 3 (ipykernel)",
   "language": "python",
   "name": "python3"
  },
  "language_info": {
   "codemirror_mode": {
    "name": "ipython",
    "version": 3
   },
   "file_extension": ".py",
   "mimetype": "text/x-python",
   "name": "python",
   "nbconvert_exporter": "python",
   "pygments_lexer": "ipython3",
   "version": "3.10.8"
  }
 },
 "nbformat": 4,
 "nbformat_minor": 5
}
