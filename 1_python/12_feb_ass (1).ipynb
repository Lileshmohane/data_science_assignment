{
 "cells": [
  {
   "cell_type": "markdown",
   "id": "6d518db5-7430-4ae3-ae25-0632bfa9b579",
   "metadata": {},
   "source": []
  },
  {
   "cell_type": "markdown",
   "id": "2447d08c-ebb2-43b7-9d60-c027f0d7ed4f",
   "metadata": {},
   "source": [
    "Q1. What is an Exception in python? Write the difference between Exceptions and syntax errors"
   ]
  },
  {
   "cell_type": "markdown",
   "id": "a524b79b-fb70-4d50-8dd5-a44c3d3c2dee",
   "metadata": {},
   "source": [
    "In Python, an exception is an error that occurs during the execution of a program. When a statement or expression causes an error, Python raises an exception. These exceptions can be handled in the code, allowing the program to continue running, or they can be left unhandled, causing the program to terminate."
   ]
  },
  {
   "cell_type": "markdown",
   "id": "dfed9330-cee5-48af-9381-6619c10afaa3",
   "metadata": {},
   "source": [
    "The main differences between exceptions and syntax errors in Python are:\n",
    "\n",
    "Time of detection: Syntax errors are detected by the Python interpreter during the parsing stage, before the program is executed, while exceptions are raised during the execution of the program.\n",
    "\n",
    "Cause: Syntax errors are caused by mistakes in the code's syntax, such as incorrect indentation or incorrect use of keywords, while exceptions are caused by errors that occur during the program's execution, such as invalid user input or file not found.\n",
    "\n",
    "Handling: Syntax errors cannot be handled in the program, as they prevent the program from being executed, while exceptions can be handled with try-except blocks, allowing the program to continue running even if an exception is raised."
   ]
  },
  {
   "cell_type": "markdown",
   "id": "eca86942-a8ff-46b6-8448-59c6fe8a6456",
   "metadata": {},
   "source": [
    " syntax errors are caused by mistakes in the code's syntax and occur before the program is executed, while exceptions are raised during the execution of the program and can be handled with try-except blocks."
   ]
  },
  {
   "cell_type": "markdown",
   "id": "39e0b510-68df-4cff-bb64-9d54bc07097a",
   "metadata": {},
   "source": [
    "Q2. What happens when exception is not handled? Explain with an exmple"
   ]
  },
  {
   "cell_type": "markdown",
   "id": "3d0b225a-9ddc-4f6d-86c6-a7c6f6e0d1c5",
   "metadata": {},
   "source": [
    "When an exception is not handled in a program, it can lead to unexpected behavior, program crashes, and potentially even data loss or corruption.\n",
    "\n",
    "Let's consider an example to illustrate this. Suppose we have a program that reads a file and performs some operations on its contents. If the file is not found, the program will raise a FileNotFoundError exception. If the exception is not handled, the program will simply terminate with an error message, leaving the user wondering what went wrong."
   ]
  },
  {
   "cell_type": "code",
   "execution_count": 9,
   "id": "7da1de83-0b04-4123-9ccb-a0d94fc01ee3",
   "metadata": {},
   "outputs": [
    {
     "ename": "IndentationError",
     "evalue": "expected an indented block after 'with' statement on line 2 (4017449028.py, line 4)",
     "output_type": "error",
     "traceback": [
      "\u001b[0;36m  Cell \u001b[0;32mIn[9], line 4\u001b[0;36m\u001b[0m\n\u001b[0;31m    except FileNotFoundError:\u001b[0m\n\u001b[0m                             ^\u001b[0m\n\u001b[0;31mIndentationError\u001b[0m\u001b[0;31m:\u001b[0m expected an indented block after 'with' statement on line 2\n"
     ]
    }
   ],
   "source": [
    "try:\n",
    "    with open('myfile.txt', 'r') as f:\n",
    "        # Perform operations on the file contents\n",
    "except FileNotFoundError:\n",
    "    print(\"File not found!\")"
   ]
  },
  {
   "cell_type": "markdown",
   "id": "fa5af022-cc72-4e36-883c-8ad2ae6f4d7c",
   "metadata": {},
   "source": [
    "Q3. Which Python statements are used to catch and handle exceptions? Explin with an exmple"
   ]
  },
  {
   "cell_type": "markdown",
   "id": "0b29b8ff-3f82-4052-ac5b-ed31a2e70d01",
   "metadata": {},
   "source": [
    "In Python, try and except statements are used to catch and handle exceptions. The try block contains the code that may raise an exception, while the except block contains the code that handles the exception if it occurs.\n",
    "\n"
   ]
  },
  {
   "cell_type": "code",
   "execution_count": 11,
   "id": "568695aa-89b4-47d6-91bb-381c6a166238",
   "metadata": {},
   "outputs": [
    {
     "name": "stdin",
     "output_type": "stream",
     "text": [
      "Enter a number:  4\n",
      "Enter another number:  5\n"
     ]
    },
    {
     "name": "stdout",
     "output_type": "stream",
     "text": [
      "Result: 0.8\n"
     ]
    }
   ],
   "source": [
    "try:\n",
    "    x = int(input(\"Enter a number: \"))\n",
    "    y = int(input(\"Enter another number: \"))\n",
    "    result = x / y\n",
    "    print(\"Result:\", result)\n",
    "except ValueError:\n",
    "    print(\"Please enter valid numbers.\")\n",
    "except ZeroDivisionError:\n",
    "    print(\"Cannot divide by zero.\")\n"
   ]
  },
  {
   "cell_type": "markdown",
   "id": "b67093d7-459e-48ce-9c39-390777a464bf",
   "metadata": {},
   "source": [
    "Q4. Explain with an example:\n",
    "1.try and else\n",
    "2.finally\n",
    "3. raise"
   ]
  },
  {
   "cell_type": "markdown",
   "id": "594de267-17b7-4509-9e22-d44a02bd088a",
   "metadata": {},
   "source": [
    "try and else\n",
    "In Python, the else block can be used in conjunction with the try block to execute code only if no exception is raised"
   ]
  },
  {
   "cell_type": "code",
   "execution_count": 20,
   "id": "7758220b-51a0-4483-b616-1053c181b981",
   "metadata": {},
   "outputs": [
    {
     "name": "stdin",
     "output_type": "stream",
     "text": [
      "Enter a number:  3\n",
      "Enter another number:  5\n"
     ]
    },
    {
     "name": "stdout",
     "output_type": "stream",
     "text": [
      "Result: 8\n"
     ]
    }
   ],
   "source": [
    "try:\n",
    "    x = int(input(\"Enter a number: \"))\n",
    "    y = int(input(\"Enter another number: \"))\n",
    "    result = x +y\n",
    "except ValueError:\n",
    "    print(\"Please enter valid numbers.\")\n",
    "except ZeroDivisionError:\n",
    "    print(\"Cannot divide by zero.\")\n",
    "else:\n",
    "    print(\"Result:\", result)\n"
   ]
  },
  {
   "cell_type": "markdown",
   "id": "1ad55f22-83bd-4deb-85b2-62a3a649c1a7",
   "metadata": {},
   "source": [
    "The finally block is used to execute code that should always be run, regardless of whether an exception is raised"
   ]
  },
  {
   "cell_type": "code",
   "execution_count": 26,
   "id": "2f8f5009-a627-4e84-8a65-e2628bb10aa6",
   "metadata": {},
   "outputs": [
    {
     "ename": "IndentationError",
     "evalue": "expected an indented block after 'try' statement on line 3 (2018480281.py, line 5)",
     "output_type": "error",
     "traceback": [
      "\u001b[0;36m  Cell \u001b[0;32mIn[26], line 5\u001b[0;36m\u001b[0m\n\u001b[0;31m    finally:\u001b[0m\n\u001b[0m    ^\u001b[0m\n\u001b[0;31mIndentationError\u001b[0m\u001b[0;31m:\u001b[0m expected an indented block after 'try' statement on line 3\n"
     ]
    }
   ],
   "source": [
    "try:\n",
    "    file = open(\"example.txt\", \"r\")\n",
    "    try:\n",
    "        # Perform operations on the file\n",
    "    finally:\n",
    "        file.close()\n",
    "except IOError:\n",
    "    print(\"Error opening or processing file.\")\n"
   ]
  },
  {
   "cell_type": "markdown",
   "id": "e08bcb2e-4cef-42b2-b41f-25a273fad826",
   "metadata": {},
   "source": [
    "The raise statement is used to explicitly raise an exception in Python. "
   ]
  },
  {
   "cell_type": "code",
   "execution_count": 30,
   "id": "c5363ef9-48f2-442e-b283-0ced7afdb9ec",
   "metadata": {},
   "outputs": [
    {
     "name": "stdout",
     "output_type": "stream",
     "text": [
      "Cannot divide by zero.\n"
     ]
    }
   ],
   "source": [
    "def divide(x, y):\n",
    "    if y == 0:\n",
    "        raise ZeroDivisionError(\"Cannot divide by zero.\")\n",
    "    else:\n",
    "        return x / y\n",
    "\n",
    "try:\n",
    "    result = divide(10, 0)\n",
    "except ZeroDivisionError as e:\n",
    "    print(e)\n"
   ]
  },
  {
   "cell_type": "markdown",
   "id": "063b73a6-02ae-4f38-b3a5-033f90a7b24b",
   "metadata": {},
   "source": [
    "Q5. What are Custom Exceptions in python? Who do we need Custom Exceptions? Explain with an example"
   ]
  },
  {
   "cell_type": "markdown",
   "id": "8a3259e7-391d-40e7-9305-a243b29be9c0",
   "metadata": {},
   "source": [
    "In Python, custom exceptions are user-defined exceptions that allow us to create our own exception types. We might need custom exceptions when the built-in exceptions provided by Python are not specific enough to describe the errors that can occur in our program."
   ]
  },
  {
   "cell_type": "code",
   "execution_count": 32,
   "id": "4194f5c8-c7a3-4201-ad24-82cc61f9044b",
   "metadata": {},
   "outputs": [],
   "source": [
    "class MyCustomException(Exception):\n",
    "    pass\n"
   ]
  },
  {
   "cell_type": "code",
   "execution_count": 34,
   "id": "7e44dd6a-4fc1-4015-acd5-0baf8606236f",
   "metadata": {},
   "outputs": [],
   "source": [
    "def my_function(arg):\n",
    "    if arg < 0:\n",
    "        raise MyCustomException(\"Argument must be non-negative.\")\n",
    "    else:\n",
    "        # Perform some operations on arg\n",
    "        print(\"ex\")"
   ]
  },
  {
   "cell_type": "markdown",
   "id": "fc7de8d1-7865-4b5b-9648-6eab182239a3",
   "metadata": {},
   "source": [
    "Q6. Create custom exception class. Use this class to handlen exception."
   ]
  },
  {
   "cell_type": "code",
   "execution_count": 35,
   "id": "bc234410-3e48-4bf9-9764-5f2ecd77209b",
   "metadata": {},
   "outputs": [
    {
     "name": "stdout",
     "output_type": "stream",
     "text": [
      "Error: -2 is a negative number.\n"
     ]
    }
   ],
   "source": [
    "class NegativeNumberError(Exception):\n",
    "    def __init__(self, value):\n",
    "        self.value = value\n",
    "\n",
    "    def __str__(self):\n",
    "        return f\"Error: {self.value} is a negative number.\"\n",
    "\n",
    "\n",
    "def divide(x, y):\n",
    "    if y < 0:\n",
    "        raise NegativeNumberError(y)\n",
    "    return x / y\n",
    "\n",
    "\n",
    "try:\n",
    "    result = divide(10, -2)\n",
    "    print(\"Result:\", result)\n",
    "except NegativeNumberError as e:\n",
    "    print(e)\n"
   ]
  },
  {
   "cell_type": "code",
   "execution_count": null,
   "id": "4a7bfc85-ed50-4c1a-b712-1905a4565388",
   "metadata": {},
   "outputs": [],
   "source": []
  }
 ],
 "metadata": {
  "kernelspec": {
   "display_name": "Python 3 (ipykernel)",
   "language": "python",
   "name": "python3"
  },
  "language_info": {
   "codemirror_mode": {
    "name": "ipython",
    "version": 3
   },
   "file_extension": ".py",
   "mimetype": "text/x-python",
   "name": "python",
   "nbconvert_exporter": "python",
   "pygments_lexer": "ipython3",
   "version": "3.10.8"
  }
 },
 "nbformat": 4,
 "nbformat_minor": 5
}
