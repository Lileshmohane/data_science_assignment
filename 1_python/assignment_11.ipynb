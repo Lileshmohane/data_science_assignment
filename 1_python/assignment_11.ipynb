{
 "cells": [
  {
   "cell_type": "markdown",
   "id": "05594584-998f-4d20-b240-88aa4c567da4",
   "metadata": {},
   "source": [
    "Q1. Which function is used to open a file? What are the different modes of opening a file? Explain each mode\n",
    "of file opening."
   ]
  },
  {
   "cell_type": "markdown",
   "id": "bf4fec3e-3bdb-49ee-98bb-d60b7e353dd5",
   "metadata": {},
   "source": [
    "In Python, the function used to open a file is open().\n",
    "\n",
    "The different modes of opening a file in Python are:\n",
    "\n",
    "r: This mode opens a file for reading (default mode). If the file does not exist, it will raise a FileNotFoundError.\n",
    "\n",
    "w: This mode opens a file for writing. If the file exists, it will be truncated (emptied). If the file does not exist, it will be created.\n",
    "\n",
    "x: This mode opens a file for exclusive creation. If the file already exists, it will raise a FileExistsError.\n",
    "\n",
    "a: This mode opens a file for writing in append mode. If the file exists, the data will be written at the end of the file. If the file does not exist, it will be created.\n",
    "\n",
    "b: This mode is used for opening binary files. It is added to other modes, such as \"rb\" (read binary) or \"wb\" (write binary).\n",
    "\n",
    "t: This mode is used for opening text files (default mode). It is added to other modes, such as \"rt\" (read text) or \"wt\" (write text).\n",
    "\n",
    "+: This mode is used for updating (reading and writing) a file. It is added to other modes, such as \"r+\" (read and write) or \"w+\" (write and read)."
   ]
  },
  {
   "cell_type": "code",
   "execution_count": 3,
   "id": "38e6ffb3-ea32-42ec-a8b2-368a5decaecd",
   "metadata": {},
   "outputs": [],
   "source": [
    "f = open(\"example.txt\", \"w\")\n"
   ]
  },
  {
   "cell_type": "code",
   "execution_count": 4,
   "id": "266f6890-7286-4053-a071-70858a894d99",
   "metadata": {},
   "outputs": [],
   "source": [
    "f.write(\"Hello, world!\")\n",
    "f.close()\n"
   ]
  },
  {
   "cell_type": "markdown",
   "id": "77e3f454-f690-41a7-9c03-2d8ab7180475",
   "metadata": {},
   "source": [
    "Q2. Why close() function is used? Why is it important to close a file?"
   ]
  },
  {
   "cell_type": "markdown",
   "id": "6e16cbc5-1526-466b-a89c-2d88e31efb77",
   "metadata": {},
   "source": [
    "In Python, the close() function is used to close a file that has been opened with the open() function. It is important to close a file after reading from or writing to it, because it releases the system resources (e.g., file descriptor) associated with the file.\n",
    "\n",
    "If a file is not closed properly, it can lead to unexpected behavior or errors. For example, if you try to open a file that is already open, you may get a \"File in use\" error. In addition, not closing a file can lead to data loss or corruption, particularly if you are writing to the file.\n",
    "\n",
    "Closing a file is also important for performance reasons. If you keep a file open for a long time, it can tie up system resources and slow down your program. By closing a file as soon as you are done with it, you free up those resources for other parts of your program or other programs running on the system.\n"
   ]
  },
  {
   "cell_type": "code",
   "execution_count": 10,
   "id": "6c54e636-7dda-43b4-b39e-d8e5443ca233",
   "metadata": {},
   "outputs": [],
   "source": [
    "f = open(\"example.txt\", \"r\")\n",
    "data = f.read()\n",
    "f.close()\n"
   ]
  },
  {
   "cell_type": "markdown",
   "id": "dc6bbadb-a19f-4606-b2ad-9f84f2c6bbfe",
   "metadata": {},
   "source": [
    "Q3. Write a python program to create a text file. Write ‘I want to become a Data Scientist’ in that file. Then\n",
    "close the file. Open this file and read the content of the file."
   ]
  },
  {
   "cell_type": "code",
   "execution_count": 11,
   "id": "6674790d-91b4-44df-a8d1-3430b88e8ddb",
   "metadata": {},
   "outputs": [
    {
     "name": "stdout",
     "output_type": "stream",
     "text": [
      "I want to become a Data Scientist\n"
     ]
    }
   ],
   "source": [
    "# Open the file for writing\n",
    "file = open(\"my_file.txt\", \"w\")\n",
    "\n",
    "# Write to the file\n",
    "file.write(\"I want to become a Data Scientist\")\n",
    "\n",
    "# Close the file\n",
    "file.close()\n",
    "\n",
    "# Open the file for reading\n",
    "file = open(\"my_file.txt\", \"r\")\n",
    "\n",
    "# Read the contents of the file\n",
    "content = file.read()\n",
    "\n",
    "# Print the contents of the file\n",
    "print(content)\n",
    "\n",
    "# Close the file\n",
    "file.close()\n"
   ]
  },
  {
   "cell_type": "markdown",
   "id": "82f2e1e3-517c-4b7b-9b89-4ab364aed6fb",
   "metadata": {},
   "source": [
    "Q4. Explain the following with python code: read(), readline() and readlines()."
   ]
  },
  {
   "cell_type": "markdown",
   "id": "ed7a4157-1285-4f7c-88c7-56ddf8cc9fc7",
   "metadata": {},
   "source": [
    "In Python, there are three main methods for reading data from a file: read(), readline(), and readlines().  "
   ]
  },
  {
   "cell_type": "code",
   "execution_count": 13,
   "id": "34d0379a-7c76-4ede-83b9-b0585ebb3928",
   "metadata": {},
   "outputs": [
    {
     "name": "stdout",
     "output_type": "stream",
     "text": [
      "I want to become a Data Scientist\n"
     ]
    }
   ],
   "source": [
    "# Open the file for reading\n",
    "file = open(\"my_file.txt\", \"r\")\n",
    "\n",
    "# Read the entire file\n",
    "content = file.read()\n",
    "\n",
    "# Print the content of the file\n",
    "print(content)\n",
    "\n",
    "# Close the file\n",
    "file.close()\n"
   ]
  },
  {
   "cell_type": "code",
   "execution_count": 14,
   "id": "9b4f8c41-2be6-47cd-aa4e-30f885f2995f",
   "metadata": {},
   "outputs": [
    {
     "name": "stdout",
     "output_type": "stream",
     "text": [
      "I want to become a Data Scientist\n"
     ]
    }
   ],
   "source": [
    "# Open the file for reading\n",
    "file = open(\"my_file.txt\", \"r\")\n",
    "\n",
    "# Read the first line of the file\n",
    "line = file.readline()\n",
    "\n",
    "# Print the first line of the file\n",
    "print(line)\n",
    "\n",
    "# Close the file\n",
    "file.close()\n"
   ]
  },
  {
   "cell_type": "code",
   "execution_count": 15,
   "id": "a32bfb55-e373-4f92-be40-2e0ca9c59ea8",
   "metadata": {},
   "outputs": [
    {
     "name": "stdout",
     "output_type": "stream",
     "text": [
      "I want to become a Data Scientist\n"
     ]
    }
   ],
   "source": [
    "# Open the file for reading\n",
    "file = open(\"my_file.txt\", \"r\")\n",
    "\n",
    "# Read all the lines of the file into a list\n",
    "lines = file.readlines()\n",
    "\n",
    "# Print the lines of the file\n",
    "for line in lines:\n",
    "    print(line)\n",
    "\n",
    "# Close the file\n",
    "file.close()\n"
   ]
  },
  {
   "cell_type": "markdown",
   "id": "93936d28-b45d-4f79-bffd-94f7d50584dc",
   "metadata": {},
   "source": [
    "Q5. Explain why with statement is used with open(). What is the advantage of using with statement and\n",
    "open() together?"
   ]
  },
  {
   "cell_type": "markdown",
   "id": "e56400fd-181d-4cd1-817a-0297d3eaa13b",
   "metadata": {},
   "source": [
    "In Python, the with statement is used in combination with the open() function to automatically manage the opening and closing of a file. When using the with statement, you don't need to explicitly call the close() method for the file object, "
   ]
  },
  {
   "cell_type": "code",
   "execution_count": 16,
   "id": "488bb2d9-daa1-44b1-ad09-1df0e02d7645",
   "metadata": {},
   "outputs": [
    {
     "name": "stdout",
     "output_type": "stream",
     "text": [
      "I want to become a Data Scientist\n"
     ]
    }
   ],
   "source": [
    "# Open the file using with statement\n",
    "with open(\"my_file.txt\", \"r\") as file:\n",
    "    # Read the contents of the file\n",
    "    content = file.read()\n",
    "    # Print the contents of the file\n",
    "    print(content)\n"
   ]
  },
  {
   "cell_type": "markdown",
   "id": "5b3824b1-eb62-4e2f-aa8a-e416cc8f266a",
   "metadata": {},
   "source": [
    "Q6. Explain the write() and writelines() functions. Give a suitable example."
   ]
  },
  {
   "cell_type": "markdown",
   "id": "37186258-54b4-43f2-a262-42803bb17216",
   "metadata": {},
   "source": [
    "he write() and writelines() functions are used to write data to a file.\n",
    "\n",
    "The write() function is used to write a single string to a file. If the file already exists, the write() function will overwrite the existing contents of the file. If the file doesn't exist, a new file will be created."
   ]
  },
  {
   "cell_type": "code",
   "execution_count": 17,
   "id": "9f7f6ac2-47c6-4bf6-9d4a-0ab0acc360c9",
   "metadata": {},
   "outputs": [],
   "source": [
    "# Open the file for writing\n",
    "file = open(\"my_file.txt\", \"w\")\n",
    "\n",
    "# Write a string to the file\n",
    "file.write(\"Hello, world!\")\n",
    "\n",
    "# Close the file\n",
    "file.close()\n"
   ]
  },
  {
   "cell_type": "markdown",
   "id": "4e3a1f6f-f720-4604-81f1-ba8d66bd6c82",
   "metadata": {},
   "source": [
    "The writelines() function, on the other hand, is used to write a list of strings to a file. Each string in the list is written to the file as a separate line. Like the write() function, if the file already exists, the writelines() function will overwrite the existing contents of the file. If the file doesn't exist, a new file will be created."
   ]
  },
  {
   "cell_type": "code",
   "execution_count": null,
   "id": "d4c84b23-aed0-4476-9c13-eaa68f41ef78",
   "metadata": {},
   "outputs": [],
   "source": [
    "# Open the file for writing\n",
    "file = open(\"my_file.txt\", \"w\")\n",
    "\n",
    "# Write a list of strings to the file\n",
    "lines = [\"Line 1\\n\", \"Line 2\\n\", \"Line 3\\n\"]\n",
    "file.writelines(lines)\n",
    "\n",
    "# Close the file\n",
    "file.close()\n"
   ]
  }
 ],
 "metadata": {
  "kernelspec": {
   "display_name": "Python 3 (ipykernel)",
   "language": "python",
   "name": "python3"
  },
  "language_info": {
   "codemirror_mode": {
    "name": "ipython",
    "version": 3
   },
   "file_extension": ".py",
   "mimetype": "text/x-python",
   "name": "python",
   "nbconvert_exporter": "python",
   "pygments_lexer": "ipython3",
   "version": "3.10.8"
  }
 },
 "nbformat": 4,
 "nbformat_minor": 5
}
