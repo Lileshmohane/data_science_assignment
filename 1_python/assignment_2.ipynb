{
 "cells": [
  {
   "cell_type": "code",
   "execution_count": 1,
   "id": "8397e6d5-df51-460c-b331-d60a26bedc86",
   "metadata": {},
   "outputs": [],
   "source": [
    "# 1. write a program to accept percentage  from the user  and  grade "
   ]
  },
  {
   "cell_type": "code",
   "execution_count": 40,
   "id": "7c7e4dc0-f573-4f86-9298-8c5ad80ea638",
   "metadata": {},
   "outputs": [
    {
     "name": "stdin",
     "output_type": "stream",
     "text": [
      "enter your percentage 95\n"
     ]
    },
    {
     "name": "stdout",
     "output_type": "stream",
     "text": [
      "A\n"
     ]
    }
   ],
   "source": [
    "    percentage =  int(input(\"enter your percentage\"))\n",
    "    if percentage >90:\n",
    "        print(\"A\")\n",
    "    elif percentage >80 and percentage<=90:\n",
    "        print(\"B\")\n",
    "    elif percentage >= 60 and percentage <=80:\n",
    "        print(\"C\")\n",
    "    elif percentage > 60:\n",
    "        print(\"D\")\n",
    "    \n",
    "    "
   ]
  },
  {
   "cell_type": "code",
   "execution_count": 41,
   "id": "6e551554-4970-425d-8900-b2d3a93996fb",
   "metadata": {},
   "outputs": [],
   "source": [
    "# 2. write a program to accept  the cost  price of a bike and display the road tax to be paid  "
   ]
  },
  {
   "cell_type": "code",
   "execution_count": 42,
   "id": "e82d8b54-17e7-4884-b82b-6832e7ca61e0",
   "metadata": {},
   "outputs": [
    {
     "name": "stdin",
     "output_type": "stream",
     "text": [
      "enter a price of bike  50000\n"
     ]
    },
    {
     "name": "stdout",
     "output_type": "stream",
     "text": [
      "tex to be paid 7500.0\n"
     ]
    }
   ],
   "source": [
    "tax = 0\n",
    "price= int(input(\"enter a price of bike \"))\n",
    "if price >100000:\n",
    "    tax= 15/100*price  \n",
    "elif price >50000 and price <= 100000:\n",
    "    tax= 10/100*price\n",
    "elif price <= 50000:\n",
    "    tax= 15/100*price \n",
    "print(\"tex to be paid\",tax)"
   ]
  },
  {
   "cell_type": "code",
   "execution_count": 19,
   "id": "03afede6-a458-4f71-ae42-5473220398d4",
   "metadata": {},
   "outputs": [],
   "source": [
    "# 3. accept any  city from  the user and display monuments of that  city\n"
   ]
  },
  {
   "cell_type": "code",
   "execution_count": 47,
   "id": "22d21a92-67e7-4e1c-bf9d-90b69c338054",
   "metadata": {},
   "outputs": [
    {
     "name": "stdin",
     "output_type": "stream",
     "text": [
      "Enter the name of the city:  delhi\n"
     ]
    },
    {
     "name": "stdout",
     "output_type": "stream",
     "text": [
      "delhi ['Red Fort']\n"
     ]
    }
   ],
   "source": [
    "def get_monuments(city):\n",
    "    if city.lower() == \"delhi\":\n",
    "        return [ \"Red Fort\"]\n",
    "    elif city.lower() == \"Agra\":\n",
    "        return [ \"Taj Mahal\"]\n",
    "    elif city.lower() == \"Jaipur\":\n",
    "        return [\"Jal Mahal\"]\n",
    "\n",
    "city = input(\"Enter the name of the city: \")\n",
    "monuments = get_monuments(city)\n",
    "print( city, monuments)\n"
   ]
  },
  {
   "cell_type": "code",
   "execution_count": 22,
   "id": "84856ced-5b5b-46e6-a1e2-616a0b437378",
   "metadata": {},
   "outputs": [],
   "source": [
    "# 4. check how many times a given number can  be divided by 3 before it is less than or equal to 10"
   ]
  },
  {
   "cell_type": "code",
   "execution_count": 48,
   "id": "44f61075-7fca-4f9c-8f20-aa95f5e3b852",
   "metadata": {},
   "outputs": [
    {
     "name": "stdin",
     "output_type": "stream",
     "text": [
      "Enter a number:  45\n"
     ]
    },
    {
     "name": "stdout",
     "output_type": "stream",
     "text": [
      "The number can be divided by 3 2 times before it is less than or equal to 10.\n"
     ]
    }
   ],
   "source": [
    "def count_divisions(num):\n",
    "    count = 0\n",
    "    while num > 10:\n",
    "        num = num / 3\n",
    "        count += 1\n",
    "    return count\n",
    "\n",
    "num = int(input(\"Enter a number: \"))\n",
    "count = count_divisions(num)\n",
    "print(\"The number can be divided by 3\", count, \"times before it is less than or equal to 10.\")\n",
    "\n"
   ]
  },
  {
   "cell_type": "code",
   "execution_count": 31,
   "id": "eeee304f-ed26-4eb8-95c5-3c8de6bca33f",
   "metadata": {},
   "outputs": [],
   "source": [
    "# 5.why  and when we use while in python give a detailed description with example"
   ]
  },
  {
   "cell_type": "code",
   "execution_count": 32,
   "id": "0716ed80-af9c-4a9e-a079-82ca9b28e63f",
   "metadata": {},
   "outputs": [],
   "source": [
    "# ANS=  while loop is used when you want to repeatedly execute a block of code as long as a condition is true.It is often used when the number of iterations is not known beforehand"
   ]
  },
  {
   "cell_type": "code",
   "execution_count": 49,
   "id": "730f6513-913a-4539-b2a2-901fa4484bfc",
   "metadata": {},
   "outputs": [
    {
     "name": "stdout",
     "output_type": "stream",
     "text": [
      "Count is 1\n",
      "Count is 2\n",
      "Count is 3\n",
      "Count is 4\n",
      "Count is 5\n",
      "Count is 6\n",
      "Count is 7\n",
      "Count is 8\n",
      "Count is 9\n",
      "Count is 10\n"
     ]
    }
   ],
   "source": [
    "count = 1\n",
    "while count <= 10:\n",
    "    print(\"Count is\", count)\n",
    "    count = count + 1\n"
   ]
  },
  {
   "cell_type": "code",
   "execution_count": 34,
   "id": "5797f1a8-91ae-45ef-b8ce-9693f4819dfc",
   "metadata": {},
   "outputs": [],
   "source": [
    "#  6. use nested while loop to print 3 different patterns "
   ]
  },
  {
   "cell_type": "code",
   "execution_count": 50,
   "id": "4c8cbb5e-95b4-44a9-8be6-2a81ecd2c040",
   "metadata": {},
   "outputs": [
    {
     "name": "stdout",
     "output_type": "stream",
     "text": [
      "*\n",
      "**\n",
      "***\n",
      "****\n",
      "*****\n"
     ]
    }
   ],
   "source": [
    "# Pattern 1: Right Triangle\n",
    "\n",
    "i = 1\n",
    "while i <= 5:\n",
    "    j = 1\n",
    "    while j <= i:\n",
    "        print(\"*\", end=\"\")\n",
    "        j = j + 1\n",
    "    print(\"\")\n",
    "    i = i + 1\n"
   ]
  },
  {
   "cell_type": "code",
   "execution_count": 51,
   "id": "a8767540-b1be-4ebf-8659-92eb798d9022",
   "metadata": {},
   "outputs": [
    {
     "name": "stdout",
     "output_type": "stream",
     "text": [
      "*****\n",
      "****\n",
      "***\n",
      "**\n",
      "*\n"
     ]
    }
   ],
   "source": [
    "# Pattern 2: Inverted Right Triangle\n",
    "\n",
    "i = 5\n",
    "while i >= 1:\n",
    "    j = 1\n",
    "    while j <= i:\n",
    "        print(\"*\", end=\"\")\n",
    "        j = j + 1\n",
    "    print(\"\")\n",
    "    i = i - 1\n"
   ]
  },
  {
   "cell_type": "code",
   "execution_count": 52,
   "id": "2fd7a2db-a897-46c7-86bc-bf70659bca3c",
   "metadata": {},
   "outputs": [
    {
     "name": "stdout",
     "output_type": "stream",
     "text": [
      "    *\n",
      "   ***\n",
      "  *****\n",
      " *******\n",
      "*********\n",
      " *******\n",
      "  *****\n",
      "   ***\n",
      "    *\n"
     ]
    }
   ],
   "source": [
    "\n",
    "# Pattern 3: Diamond\n",
    "\n",
    "i = 1\n",
    "while i <= 5:\n",
    "    j = 1\n",
    "    while j <= 5 - i:\n",
    "        print(\" \", end=\"\")\n",
    "        j = j + 1\n",
    "    k = 1\n",
    "    while k <= 2 * i - 1:\n",
    "        print(\"*\", end=\"\")\n",
    "        k = k + 1\n",
    "    print(\"\")\n",
    "    i = i + 1\n",
    "\n",
    "i = 4\n",
    "while i >= 1:\n",
    "    j = 1\n",
    "    while j <= 5 - i:\n",
    "        print(\" \", end=\"\")\n",
    "        j = j + 1\n",
    "    k = 1\n",
    "    while k <= 2 * i - 1:\n",
    "        print(\"*\", end=\"\")\n",
    "        k = k + 1\n",
    "    print(\"\")\n",
    "    i = i - 1\n"
   ]
  },
  {
   "cell_type": "code",
   "execution_count": null,
   "id": "b03187bf-031a-4e74-a607-2528515aa94d",
   "metadata": {},
   "outputs": [],
   "source": [
    "# 7 .  reverse  a while  loop to displays numbers from 10 to 1 "
   ]
  },
  {
   "cell_type": "code",
   "execution_count": null,
   "id": "66454546-0e02-4e17-a4af-5e54f31a7eed",
   "metadata": {},
   "outputs": [],
   "source": [
    "num  = int(input(\"enter a number\")\n",
    "    while "
   ]
  },
  {
   "cell_type": "code",
   "execution_count": null,
   "id": "a0d4e512-9611-48b0-bf40-c6d1e7a52f2d",
   "metadata": {},
   "outputs": [],
   "source": []
  },
  {
   "cell_type": "code",
   "execution_count": null,
   "id": "bae4b4b7-c9ff-497e-ade2-772fbe949909",
   "metadata": {},
   "outputs": [],
   "source": []
  },
  {
   "cell_type": "code",
   "execution_count": null,
   "id": "bdafc57e-9e38-4910-a298-b170b040e8f0",
   "metadata": {},
   "outputs": [],
   "source": []
  },
  {
   "cell_type": "code",
   "execution_count": null,
   "id": "bed481be-4603-4d0a-9132-07166201109f",
   "metadata": {},
   "outputs": [],
   "source": []
  }
 ],
 "metadata": {
  "kernelspec": {
   "display_name": "Python 3 (ipykernel)",
   "language": "python",
   "name": "python3"
  },
  "language_info": {
   "codemirror_mode": {
    "name": "ipython",
    "version": 3
   },
   "file_extension": ".py",
   "mimetype": "text/x-python",
   "name": "python",
   "nbconvert_exporter": "python",
   "pygments_lexer": "ipython3",
   "version": "3.10.8"
  }
 },
 "nbformat": 4,
 "nbformat_minor": 5
}
