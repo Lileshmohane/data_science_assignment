{
 "cells": [
  {
   "cell_type": "markdown",
   "id": "f0694507-b3cc-4b34-8f73-8f8514480b48",
   "metadata": {},
   "source": [
    "Q1, Create a vehicle class with an init method having instance variables as name_of_vehicle, max_speed\n",
    "and average_of_vehicle."
   ]
  },
  {
   "cell_type": "code",
   "execution_count": 1,
   "id": "6cbda435-de91-40fe-ac94-c50f36ffd7b3",
   "metadata": {},
   "outputs": [],
   "source": [
    "class Vehicle:\n",
    "    def __init__(self, name_of_vehicle, max_speed, average_of_vehicle):\n",
    "        self.name_of_vehicle = name_of_vehicle\n",
    "        self.max_speed = max_speed\n",
    "        self.average_of_vehicle = average_of_vehicle\n"
   ]
  },
  {
   "cell_type": "code",
   "execution_count": 3,
   "id": "afd2caba-c780-4ad7-ab35-f94436f03668",
   "metadata": {},
   "outputs": [],
   "source": [
    "lilesh = Vehicle(\"Car\", 120, 15)\n"
   ]
  },
  {
   "cell_type": "code",
   "execution_count": 4,
   "id": "479cd9b7-d511-4087-9ecb-306be80e25ea",
   "metadata": {},
   "outputs": [
    {
     "data": {
      "text/plain": [
       "<__main__.Vehicle at 0x7feabb077ca0>"
      ]
     },
     "execution_count": 4,
     "metadata": {},
     "output_type": "execute_result"
    }
   ],
   "source": [
    "lilesh"
   ]
  },
  {
   "cell_type": "markdown",
   "id": "897c5740-153b-45cf-a54f-47f1ed6d96e0",
   "metadata": {},
   "source": [
    "Q2. Create a child class car from the vehicle class created in Que 1, which will inherit the vehicle class.\n",
    "Create a method named seating_capacity which takes capacity as an argument and returns the name of\n",
    "the vehicle and its seating capacity."
   ]
  },
  {
   "cell_type": "code",
   "execution_count": 12,
   "id": "daf3b80d-ec84-4893-81fe-2ab87841a4ce",
   "metadata": {},
   "outputs": [],
   "source": [
    "class Car(Vehicle):\n",
    "    def seating_capacity(self, capacity):\n",
    "        return f\"{self.name_of_vehicle} has a seating capacity of {capacity}\"\n"
   ]
  },
  {
   "cell_type": "code",
   "execution_count": 13,
   "id": "ae278be5-5476-4794-8d9b-f0da6048b498",
   "metadata": {},
   "outputs": [
    {
     "name": "stdout",
     "output_type": "stream",
     "text": [
      "Sedan has a seating capacity of 5\n"
     ]
    }
   ],
   "source": [
    "car = Car(\"Sedan\", 140, 20)\n",
    "print(car.seating_capacity(5))\n"
   ]
  },
  {
   "cell_type": "markdown",
   "id": "4a20ca65-6f1c-4312-8467-c37c697e9052",
   "metadata": {},
   "source": [
    "\n",
    "Q3. What is multiple inheritance? Write a python code to demonstrate multiple inheritance."
   ]
  },
  {
   "cell_type": "markdown",
   "id": "a3473147-4460-4abb-a523-2c50d046519b",
   "metadata": {},
   "source": [
    "Multiple inheritance is a feature in object-oriented programming that allows a class to inherit attributes and methods from multiple parent classes. This means that a single class can have multiple base classes, each contributing its own attributes and methods to the derived class."
   ]
  },
  {
   "cell_type": "code",
   "execution_count": 15,
   "id": "d0d46149-b16e-4b51-87f2-a481c2a67c47",
   "metadata": {},
   "outputs": [],
   "source": [
    "class Person:\n",
    "    def __init__(self, name, age):\n",
    "        self.name = name\n",
    "        self.age = age\n",
    "\n",
    "    def get_person_info(self):\n",
    "        return f\"Name: {self.name}, Age: {self.age}\"\n",
    "\n",
    "class Address:\n",
    "    def __init__(self, street, city):\n",
    "        self.street = street\n",
    "        self.city = city\n",
    "\n",
    "    def get_address_info(self):\n",
    "        return f\"Street: {self.street}, City: {self.city}\"\n",
    "\n",
    "class Contact(Person, Address):\n",
    "    def __init__(self, name, age, street, city, phone):\n",
    "        Person.__init__(self, name, age)\n",
    "        Address.__init__(self, street, city)\n",
    "        self.phone = phone\n",
    "\n",
    "    def get_contact_info(self):\n",
    "        return f\"{Person.get_person_info(self)}, {Address.get_address_info(self)}, Phone: {self.phone}\"\n"
   ]
  },
  {
   "cell_type": "code",
   "execution_count": 16,
   "id": "f6f83662-7c86-48f5-9343-07377772145b",
   "metadata": {},
   "outputs": [
    {
     "name": "stdout",
     "output_type": "stream",
     "text": [
      "Name: lilesh mohane, Age: 21, Street: amla, City: india, Phone: 55512234247\n"
     ]
    }
   ],
   "source": [
    "contact = Contact(\"lilesh mohane\", 21, \"amla\", \"india\", \"55512234247\")\n",
    "print(contact.get_contact_info())\n"
   ]
  },
  {
   "cell_type": "markdown",
   "id": "c401aeca-304e-4a9d-8998-b30aca464d6a",
   "metadata": {},
   "source": [
    "Q4. What are getter and setter in python? Create a class and create a getter and a setter method in this\n",
    "class."
   ]
  },
  {
   "cell_type": "markdown",
   "id": "218e8b20-e7c0-4e56-91ab-92d746403049",
   "metadata": {},
   "source": [
    "Getters and setters are methods in Python classes that allow you to retrieve (get) and set the values of instance variables, respectively. By using getters and setters, you can control access to the instance variables and enforce certain rules or constraints on their values."
   ]
  },
  {
   "cell_type": "code",
   "execution_count": 19,
   "id": "c0da27fd-3e1e-414a-a5e9-1cd98514e83e",
   "metadata": {},
   "outputs": [],
   "source": [
    "class Circle:\n",
    "    def __init__(self, radius):\n",
    "        self.__radius = radius\n",
    "\n",
    "    def get_radius(self):\n",
    "        return self.__radius\n",
    "\n",
    "    def set_radius(self, radius):\n",
    "        if radius >= 0:\n",
    "            self.__radius = radius\n",
    "        else:\n",
    "            raise ValueError(\"Radius cannot negative\")\n"
   ]
  },
  {
   "cell_type": "code",
   "execution_count": 20,
   "id": "7bb4915d-a541-4484-b961-dc37c184e88a",
   "metadata": {},
   "outputs": [
    {
     "name": "stdout",
     "output_type": "stream",
     "text": [
      "Radius: 10\n",
      "Radius: 20\n",
      "Radius cannot negative\n"
     ]
    }
   ],
   "source": [
    "circle = Circle(10)\n",
    "print(\"Radius:\", circle.get_radius())\n",
    "\n",
    "circle.set_radius(20)\n",
    "print(\"Radius:\", circle.get_radius())\n",
    "\n",
    "try:\n",
    "    circle.set_radius(-10)\n",
    "except ValueError as e:\n",
    "    print(e)\n"
   ]
  },
  {
   "cell_type": "markdown",
   "id": "7ee4d68c-e228-4aed-a7f6-53d22577548f",
   "metadata": {},
   "source": [
    "Q5.What is method overriding in python? Write a python code to demonstrate method overriding."
   ]
  },
  {
   "cell_type": "markdown",
   "id": "b2ba7da7-954b-4396-ab7e-699b86832e7f",
   "metadata": {},
   "source": [
    "Method overriding in Python is a feature that allows you to redefine a method in a child class that has already been defined in its parent class. This allows you to provide a different implementation for a method in the child class, while still maintaining the same method signature as the parent class. The new implementation in the child class \"overrides\" the original implementation in the parent class."
   ]
  },
  {
   "cell_type": "code",
   "execution_count": null,
   "id": "fe5f5a32-4035-48ac-8461-0be794f4989b",
   "metadata": {},
   "outputs": [],
   "source": []
  }
 ],
 "metadata": {
  "kernelspec": {
   "display_name": "Python 3 (ipykernel)",
   "language": "python",
   "name": "python3"
  },
  "language_info": {
   "codemirror_mode": {
    "name": "ipython",
    "version": 3
   },
   "file_extension": ".py",
   "mimetype": "text/x-python",
   "name": "python",
   "nbconvert_exporter": "python",
   "pygments_lexer": "ipython3",
   "version": "3.10.8"
  }
 },
 "nbformat": 4,
 "nbformat_minor": 5
}
