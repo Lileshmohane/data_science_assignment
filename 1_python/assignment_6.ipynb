{
 "cells": [
  {
   "cell_type": "markdown",
   "id": "020b1af3-de50-4e7d-b638-1ce84aecb173",
   "metadata": {},
   "source": [
    "Q1. Explain Class and Object with respect to Object-Oriented Programming. Give a suitable example."
   ]
  },
  {
   "cell_type": "markdown",
   "id": "be23dcfe-69a0-4eca-ba81-bead09f54a49",
   "metadata": {},
   "source": [
    "ANS = Class is a blueprint or template for creating objects in Object-Oriented Programming (OOP). It defines a set of attributes (variables) and methods (functions) that are common to all objects of a certain type.\n",
    "\n",
    "An object is an instance of a class, created at runtime. Objects have their own attributes (data) and can perform actions (methods).\n",
    "\n",
    "For example, consider a class \"Car\". A Car class could have attributes such as model, color, and horsepower. It could also have methods such as start, stop, and drive. Each object created from this class, such as a Honda Civic or a Tesla Model S, would have its own unique values for these attributes but would be able to perform the same actions.\n",
    "\n",
    "\n",
    "\n"
   ]
  },
  {
   "cell_type": "markdown",
   "id": "38a6a1dd-f763-4f05-93c4-d4365e17163c",
   "metadata": {},
   "source": [
    "Q2. Name the four pillars of OOPs."
   ]
  },
  {
   "cell_type": "markdown",
   "id": "860421fd-afe4-4259-9dcb-31a68b6dc153",
   "metadata": {},
   "source": [
    "ANS= 1. abstraction\n",
    "     2.encapsulation\n",
    "     3.inharitance\n",
    "     4.polymorphism "
   ]
  },
  {
   "cell_type": "markdown",
   "id": "63d08d93-7c97-4047-937e-0942b78cbc2f",
   "metadata": {},
   "source": [
    "Q3. Explain why the __init__() function is used. Give a suitable example."
   ]
  },
  {
   "cell_type": "markdown",
   "id": "1792bf8e-c550-4d76-8556-abe21a67a3a2",
   "metadata": {},
   "source": [
    "ANS = The __init__ method is used as a constructor in Python classes. It is run automatically when an object of the class is created, and it sets the attributes of the object to their initial values.\n",
    "\n"
   ]
  },
  {
   "cell_type": "code",
   "execution_count": 10,
   "id": "2caf7e77-2813-40c0-96ba-7b8c56b6f1ec",
   "metadata": {},
   "outputs": [],
   "source": [
    "class Car:\n",
    "    def __init__(self, model, color, year):\n",
    "        self.model = model\n",
    "        self.color = color\n",
    "        self.year = year\n",
    "    def return_car(self):\n",
    "        return self.model,self.color,self.year\n",
    "    \n",
    "\n",
    "\n"
   ]
  },
  {
   "cell_type": "markdown",
   "id": "e8e7605b-f89e-4ae0-ab2f-e389f3dcc7e2",
   "metadata": {},
   "source": []
  },
  {
   "cell_type": "code",
   "execution_count": 11,
   "id": "2339315a-9bbc-4e4d-9d33-e05a2804a1c9",
   "metadata": {},
   "outputs": [],
   "source": [
    "my_car =Car(\"sedan\",\"red\",2023)"
   ]
  },
  {
   "cell_type": "code",
   "execution_count": 12,
   "id": "b6be2003-bad6-47d3-9abe-0419b0eb5ddf",
   "metadata": {},
   "outputs": [
    {
     "data": {
      "text/plain": [
       "('sedan', 'red', 2023)"
      ]
     },
     "execution_count": 12,
     "metadata": {},
     "output_type": "execute_result"
    }
   ],
   "source": [
    "my_car.return_car()"
   ]
  },
  {
   "cell_type": "markdown",
   "id": "9aab4f31-af8c-4499-a91a-600ea68f6e65",
   "metadata": {},
   "source": [
    "Q4. Why self is used in OOPs?"
   ]
  },
  {
   "cell_type": "markdown",
   "id": "36d329b0-7572-45f7-92c9-bd6640b124a1",
   "metadata": {},
   "source": [
    "ANS= In object-oriented programming, self is a reference to the instance of the object on which a method is called. It is used to access the attributes and methods of the class within the class definition."
   ]
  },
  {
   "cell_type": "markdown",
   "id": "8af22d0f-3074-4f8b-baf2-9e312e946560",
   "metadata": {},
   "source": [
    "Q5. What is inheritance? Give an example for each type of inheritance."
   ]
  },
  {
   "cell_type": "markdown",
   "id": "81db5385-ea44-439b-8372-18ed7c6e6c00",
   "metadata": {},
   "source": [
    "ANS = Inheritance is a mechanism in object-oriented programming (OOP) where one class inherits properties and behavior from another class. The class that is inherited from is called the parent or superclass, and the class that inherits is called the child or subclass."
   ]
  },
  {
   "cell_type": "markdown",
   "id": "763e2c7d-c50f-4d2f-8484-3f0b5f07d21e",
   "metadata": {},
   "source": [
    " Single inheritance: A subclass inherits from a single superclass."
   ]
  },
  {
   "cell_type": "code",
   "execution_count": 14,
   "id": "6e4f71d0-c7be-4f51-8d92-1b9596ea5bcf",
   "metadata": {},
   "outputs": [
    {
     "name": "stdout",
     "output_type": "stream",
     "text": [
      "Bark\n"
     ]
    }
   ],
   "source": [
    "class Animal:\n",
    "    def __init__(self, name, species):\n",
    "        self.name = name\n",
    "        self.species = species\n",
    "        \n",
    "    def make_sound(self):\n",
    "        print(\"Some generic animal sound\")\n",
    "\n",
    "class Dog(Animal):\n",
    "    def __init__(self, name, breed):\n",
    "        Animal.__init__(self, name, species=\"Dog\")\n",
    "        self.breed = breed\n",
    "        \n",
    "    def make_sound(self):\n",
    "        print(\"Bark\")\n",
    "\n",
    "dog = Dog(\"Max\", \"Labrador\")\n",
    "dog.make_sound()\n"
   ]
  },
  {
   "cell_type": "markdown",
   "id": "41ced69d-0dee-4e88-8b69-d2edd20c67bb",
   "metadata": {},
   "source": [
    "Multiple inheritance: A subclass inherits from multiple superclasses."
   ]
  },
  {
   "cell_type": "code",
   "execution_count": 15,
   "id": "de06f75e-c5aa-42cf-96ca-0f4ba4310893",
   "metadata": {},
   "outputs": [
    {
     "name": "stdout",
     "output_type": "stream",
     "text": [
      "Engine started\n"
     ]
    }
   ],
   "source": [
    "class Engine:\n",
    "    def __init__(self, horse_power):\n",
    "        self.horse_power = horse_power\n",
    "        \n",
    "    def start_engine(self):\n",
    "        print(\"Engine started\")\n",
    "\n",
    "class Body:\n",
    "    def __init__(self, color):\n",
    "        self.color = color\n",
    "        \n",
    "    def change_color(self, new_color):\n",
    "        self.color = new_color\n",
    "\n",
    "class Car(Engine, Body):\n",
    "    def __init__(self, model, horse_power, color):\n",
    "        Engine.__init__(self, horse_power)\n",
    "        Body.__init__(self, color)\n",
    "        self.model = model\n",
    "\n",
    "car = Car(\"Sedan\", 200, \"Red\")\n",
    "car.start_engine()\n",
    "car.change_color(\"Blue\")\n"
   ]
  },
  {
   "cell_type": "markdown",
   "id": "d6dfae7f-f39b-46d0-87bf-9e47dd3ecb47",
   "metadata": {},
   "source": [
    "Multi-level inheritance: A subclass inherits from a superclass, which in turn inherits from another superclass."
   ]
  },
  {
   "cell_type": "code",
   "execution_count": 18,
   "id": "423869d2-c0d8-490f-973f-210ae22ae608",
   "metadata": {},
   "outputs": [],
   "source": [
    "class Engine:\n",
    "    def __init__(self, horse_power):\n",
    "        self.horse_power = horse_power\n",
    "        \n",
    "    def start_engine(self):\n",
    "        print(\"Engine started\")\n",
    "\n",
    "class Body:\n",
    "    def __init__(self, color):\n",
    "        self.color = color\n",
    "        \n",
    "    def change_color(self, new_color):\n",
    "        self.color = new_color\n",
    "\n",
    "class Car(Engine, Body):\n",
    "    def __init__(self, model, horse_power, color):\n",
    "        Engine.__init__(self, horse_power)\n",
    "        Body.__init__(self, color)\n",
    "        self.model = model\n",
    "\n",
    "\n"
   ]
  },
  {
   "cell_type": "code",
   "execution_count": null,
   "id": "24cf0985-8c2f-40d1-8dd4-60c3bd2aa865",
   "metadata": {},
   "outputs": [],
   "source": []
  },
  {
   "cell_type": "code",
   "execution_count": null,
   "id": "55b3562b-94ed-4661-8e99-37693e92f78e",
   "metadata": {},
   "outputs": [],
   "source": []
  }
 ],
 "metadata": {
  "kernelspec": {
   "display_name": "Python 3 (ipykernel)",
   "language": "python",
   "name": "python3"
  },
  "language_info": {
   "codemirror_mode": {
    "name": "ipython",
    "version": 3
   },
   "file_extension": ".py",
   "mimetype": "text/x-python",
   "name": "python",
   "nbconvert_exporter": "python",
   "pygments_lexer": "ipython3",
   "version": "3.10.8"
  }
 },
 "nbformat": 4,
 "nbformat_minor": 5
}
