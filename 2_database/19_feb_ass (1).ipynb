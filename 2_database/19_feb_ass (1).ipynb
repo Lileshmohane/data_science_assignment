{
 "cells": [
  {
   "cell_type": "markdown",
   "id": "dfaf03dc-ecfb-49b5-851c-6f4da07c5411",
   "metadata": {},
   "source": [
    "Q1. What is Flask Framework? What are the advantages of Flask Framework?"
   ]
  },
  {
   "cell_type": "markdown",
   "id": "f19ee11d-883b-4c08-9ddd-58425b9863d0",
   "metadata": {},
   "source": [
    "Flask is a micro web framework written in Python. It is called a micro framework because it does not require particular tools or libraries, allowing developers to choose the components they want to use. Flask is also very lightweight and easy to use, making it a popular choice for building small to medium-sized web applications.\n",
    "\n",
    "\n",
    "\n",
    "Lightweight: Flask is a lightweight framework, making it easy to set up and use. It doesn't have many built-in features, but it can easily integrate with other libraries and tools to add the required functionality.\n",
    "\n",
    "Flexibility: Flask is a flexible framework that allows developers to choose the components they want to use. This makes it easy to customize the application to meet specific requirements.\n",
    "\n",
    "Easy to learn: Flask is very easy to learn and use, even for beginners. Its simple API and documentation make it easy for developers to get started with Flask.\n",
    "\n",
    "Extensible: Flask can be easily extended to add new features or integrate with other tools and libraries. This makes it easy to scale the application as needed.\n",
    "\n",
    "Large community: Flask has a large community of developers who contribute to its development and provide support to other developers. This means that developers can find help and resources easily."
   ]
  },
  {
   "cell_type": "markdown",
   "id": "7b294643-7997-4517-8a0c-99ab26bccf07",
   "metadata": {},
   "source": [
    "Q2. Create a simple Flask application to display ‘Hello World!!’. Attach the screenshot of the output in\n",
    "Jupyter Notebook."
   ]
  },
  {
   "cell_type": "code",
   "execution_count": null,
   "id": "f81bc931-2577-4f6f-a4bf-161858992e19",
   "metadata": {},
   "outputs": [],
   "source": [
    "from flask import Flask\n",
    "\n",
    "app = Flask(__name__)\n",
    "\n",
    "@app.route(\"/\")\n",
    "def hello_world():\n",
    "    return \"<h1>Hello, World!</h1>\"\n",
    "\n",
    "@app.route(\"/test\")\n",
    "def test():\n",
    "    return \"this is my  function to run app\"\n",
    "\n",
    "\n",
    "if __name__==\"__main__\":\n",
    "    app.run(host=\"0.0.0.0\")\n"
   ]
  },
  {
   "cell_type": "markdown",
   "id": "fa883b6d-23cf-4d6e-9852-a29f2dd79835",
   "metadata": {},
   "source": [
    "<img src=\"https://black-intern-cyszx.pwskills.app/lab/tree/work/Screenshot%20(145).png\"/>\n"
   ]
  },
  {
   "cell_type": "markdown",
   "id": "2e4edb2f-c0a7-4a3b-b62b-a6fccb95aba6",
   "metadata": {},
   "source": [
    "Q3. What is App routing in Flask? Why do we use app routes?"
   ]
  },
  {
   "cell_type": "markdown",
   "id": "16f3c4ba-0c38-4645-a7f1-98944a441ec4",
   "metadata": {},
   "source": [
    "In Flask, routing refers to the process of mapping URLs to functions that handle HTTP requests. App routing is the process of defining these URL routes in the Flask application.\n",
    "\n",
    "App routes are used to determine what code should be executed when a user requests a specific URL. In other words, app routes define the behavior of the Flask application for different URLs."
   ]
  },
  {
   "cell_type": "code",
   "execution_count": null,
   "id": "ce98e1a4-d547-4299-bb15-193b53eeaf28",
   "metadata": {},
   "outputs": [],
   "source": [
    "from flask import Flask\n",
    "\n",
    "app = Flask(__name__)\n",
    "\n",
    "@app.route('/')\n",
    "def index():\n",
    "    return 'This is the homepage'\n",
    "\n",
    "@app.route('/about')\n",
    "def about():\n",
    "    return 'This is the about page'\n",
    "\n",
    "if __name__ == '__main__':\n",
    "    app.run()\n"
   ]
  },
  {
   "cell_type": "markdown",
   "id": "41aa6118-721e-41f3-a6d7-56bc3f39ba52",
   "metadata": {},
   "source": [
    "Q4. Create a “/welcome” route to display the welcome message “Welcome to ABC Corporation” and a “/”\n",
    "route to show the following details:\n",
    "Company Name: ABC Corporation\n",
    "Location: India\n",
    "Contact Detail: 999-999-9999"
   ]
  },
  {
   "cell_type": "code",
   "execution_count": null,
   "id": "790d35c2-7291-4a6b-8939-cd1112e7580b",
   "metadata": {},
   "outputs": [],
   "source": [
    "from flask import Flask\n",
    "\n",
    "app = Flask(__name__)\n",
    "\n",
    "@app.route('/')\n",
    "def welcome():\n",
    "     return \"<h1>Welcome to ABC Corporation</h1>\"\n",
    "\n",
    "@app.route('/')\n",
    "def company_details():\n",
    "    return 'Company Name: ABC Corporation<br>Location: India<br>Contact Detail: 999-999-9999'\n",
    "\n",
    "if __name__ == '__main__':\n",
    "    app.run()\n"
   ]
  },
  {
   "cell_type": "markdown",
   "id": "2d4ce5c3-1ef5-4bbf-8d30-66bacc721d19",
   "metadata": {},
   "source": [
    "<img src=\"https://black-intern-cyszx.pwskills.app/lab/tree/work/Screenshot%20(144).png\">"
   ]
  },
  {
   "cell_type": "markdown",
   "id": "770f21b0-2a52-42fd-96fd-f65d871966be",
   "metadata": {},
   "source": []
  },
  {
   "cell_type": "markdown",
   "id": "18988290-e978-49c3-a957-135bfb7c7f35",
   "metadata": {},
   "source": [
    "Q5. What function is used in Flask for URL Building? Write a Python code to demonstrate the working of the\n",
    "url_for() function."
   ]
  },
  {
   "cell_type": "markdown",
   "id": "67721e08-2b78-466c-9379-b1104006c057",
   "metadata": {},
   "source": [
    "In Flask, the url_for() function is used for URL building. It is a built-in Flask function that generates a URL to a specified endpoint"
   ]
  },
  {
   "cell_type": "code",
   "execution_count": null,
   "id": "80fe68c2-41a8-4010-afee-5a0efa1006a9",
   "metadata": {},
   "outputs": [],
   "source": [
    "from flask import Flask, url_for\n",
    "\n",
    "app = Flask(__name__)\n",
    "\n",
    "@app.route('/')\n",
    "def index():\n",
    "    return f'This is the index page. <br><a href=\"{url_for(\"about\")}\">About</a>'\n",
    "\n",
    "@app.route('/about')\n",
    "def about():\n",
    "    return 'This is the about page.'\n",
    "\n",
    "if __name__ == '__main__':\n",
    "    app.run()\n"
   ]
  },
  {
   "cell_type": "code",
   "execution_count": null,
   "id": "ac4b6993-cdde-499c-b84a-c7e7b9ad5135",
   "metadata": {},
   "outputs": [],
   "source": []
  }
 ],
 "metadata": {
  "kernelspec": {
   "display_name": "Python 3 (ipykernel)",
   "language": "python",
   "name": "python3"
  },
  "language_info": {
   "codemirror_mode": {
    "name": "ipython",
    "version": 3
   },
   "file_extension": ".py",
   "mimetype": "text/x-python",
   "name": "python",
   "nbconvert_exporter": "python",
   "pygments_lexer": "ipython3",
   "version": "3.10.8"
  }
 },
 "nbformat": 4,
 "nbformat_minor": 5
}
