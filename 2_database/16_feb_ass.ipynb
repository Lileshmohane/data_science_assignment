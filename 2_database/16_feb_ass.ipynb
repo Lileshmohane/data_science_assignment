{
 "cells": [
  {
   "cell_type": "markdown",
   "id": "8e982030-93ef-493f-be42-01c69298c24a",
   "metadata": {},
   "source": [
    "Q1. What is a database? Differentiate between SQL and NoSQL databases."
   ]
  },
  {
   "cell_type": "markdown",
   "id": "35165973-9a5d-4df5-b83d-2f0e1e10caf6",
   "metadata": {},
   "source": [
    "A database is a collection of data that is organized in a structured way to allow efficient retrieval, storage, and management of data. Databases can be used to store a variety of data, such as customer information, financial transactions, inventory, and more. They are used in various industries and applications, including e-commerce, healthcare, finance, and education.\n",
    "\n",
    "SQL (Structured Query Language) and NoSQL (Not Only SQL) are two main types of databases, and they differ in how they store and retrieve data.\n",
    "\n",
    "SQL databases are relational databases that use tables to store data. They follow a strict schema, meaning that the structure of the data must be defined before it can be stored. SQL databases use a standardized language, SQL, to manipulate and retrieve data. SQL databases are known for their ACID (Atomicity, Consistency, Isolation, Durability) compliance, which ensures data consistency and reliability. Popular examples of SQL databases include MySQL, Oracle, and PostgreSQL.\n",
    "\n",
    "On the other hand, NoSQL databases are non-relational databases that store data in a flexible, non-tabular format. They can store unstructured and semi-structured data, such as JSON documents or key-value pairs. NoSQL databases are designed to handle large volumes of data, and they are highly scalable and can handle rapid changes to data structure. NoSQL databases are often used in big data and real-time web applications. Examples of NoSQL databases include MongoDB, Cassandra, and Couchbase."
   ]
  },
  {
   "cell_type": "markdown",
   "id": "86c4dada-d91f-435c-849f-4280e8a36f20",
   "metadata": {},
   "source": [
    "Q2. What is DDL? Explain why CREATE, DROP, ALTER, and TRUNCATE are used with an example."
   ]
  },
  {
   "cell_type": "markdown",
   "id": "a66e0956-5a0a-4c06-a947-80ca37c08574",
   "metadata": {},
   "source": [
    "DDL stands for Data Definition Language, and it is a set of SQL commands used to define and modify the structure of a database. DDL commands are used to create, alter, and delete database objects such as tables, indexes, and views."
   ]
  },
  {
   "cell_type": "markdown",
   "id": "759226e2-ab36-4ecd-b588-251d1b61fed5",
   "metadata": {},
   "source": [
    "1.CREATE: The CREATE command is used to create new database objects such as tables, indexes, and views. For example, the following SQL statement creates a new table called \"customers\" with columns for customer ID, name, and email address:"
   ]
  },
  {
   "cell_type": "markdown",
   "id": "39d390e9-f3fc-4fe9-93f7-d14ccb3fa3ee",
   "metadata": {},
   "source": [
    "CREATE TABLE customers (\n",
    "    customer_id INT PRIMARY KEY,\n",
    "    name VARCHAR(50) NOT NULL,\n",
    "    email VARCHAR(50) UNIQUE\n",
    ");\n"
   ]
  },
  {
   "cell_type": "markdown",
   "id": "75273902-4842-46b1-9a76-fd21afac4a28",
   "metadata": {},
   "source": [
    "2.DROP: The DROP command is used to delete an existing database object, such as a table or an index. For example, the following SQL statement drops the \"customers\" table:"
   ]
  },
  {
   "cell_type": "markdown",
   "id": "6a734b89-ae90-4458-a30f-bc33d37bc360",
   "metadata": {},
   "source": [
    "DROP TABLE customers;\n"
   ]
  },
  {
   "cell_type": "markdown",
   "id": "ef48e52c-c31e-4e47-bfb5-7bdf686de370",
   "metadata": {},
   "source": [
    "ALTER: The ALTER command is used to modify the structure of an existing database object. It can be used to add or remove columns, change data types, and modify constraints. For example, the following SQL statement adds a new column called \"phone_number\" to the \"customers\" table:"
   ]
  },
  {
   "cell_type": "markdown",
   "id": "d49e6286-ac5f-4a02-8164-90dfbf45e40e",
   "metadata": {},
   "source": [
    "ALTER TABLE customers\n",
    "ADD phone_number VARCHAR(20);\n"
   ]
  },
  {
   "cell_type": "markdown",
   "id": "2f438b47-d1b7-432c-8d45-9916c3d3a85b",
   "metadata": {},
   "source": [
    "3 TRUNCATE: The TRUNCATE command is used to delete all the data in a table, while keeping the structure of the table intact. It is a faster way to delete data from a table compared to the DELETE command, which deletes data row by row. For example, the following SQL statement truncates the \"customers\" table:"
   ]
  },
  {
   "cell_type": "markdown",
   "id": "2e257dc4-797f-4f4a-bd15-2343a590255c",
   "metadata": {},
   "source": [
    "TRUNCATE TABLE customers;\n"
   ]
  },
  {
   "cell_type": "markdown",
   "id": "9f475a74-ab4e-409b-b4d3-47e05930d16e",
   "metadata": {},
   "source": [
    "Q3. What is DML? Explain INSERT, UPDATE, and DELETE with an example."
   ]
  },
  {
   "cell_type": "markdown",
   "id": "47b373cc-7ed0-479e-b462-669c9fb6e235",
   "metadata": {},
   "source": [
    "DML stands for Data Manipulation Language, and it is a set of SQL commands used to manage the data within a database. DML commands are used to insert, update, and delete data in tables."
   ]
  },
  {
   "cell_type": "markdown",
   "id": "4f5f3ab0-28e7-498b-a2e8-3428eee5710e",
   "metadata": {},
   "source": [
    "INSERT: The INSERT command is used to add new rows of data to a table. For example, the following SQL statement inserts a new row into the \"customers\" table:"
   ]
  },
  {
   "cell_type": "markdown",
   "id": "acb323a8-4504-421f-b49d-cf53b13e80fc",
   "metadata": {},
   "source": [
    "INSERT INTO customers (customer_id, name, email)\n",
    "VALUES (1, 'John Smith', 'john.smith@example.com');\n"
   ]
  },
  {
   "cell_type": "markdown",
   "id": "0954965f-c39f-431a-a9d7-335381d28d23",
   "metadata": {},
   "source": [
    "UPDATE: The UPDATE command is used to modify existing data in a table. For example, the following SQL statement updates the email address of the customer with a customer ID of 1:"
   ]
  },
  {
   "cell_type": "markdown",
   "id": "390b612d-9b36-449a-a494-49257f001475",
   "metadata": {},
   "source": [
    "UPDATE customers\n",
    "SET email = 'new.email@example.com'\n",
    "WHERE customer_id = 1;\n"
   ]
  },
  {
   "cell_type": "markdown",
   "id": "0e81cd5d-1fa7-4dc4-a4b4-b6a3d5685085",
   "metadata": {},
   "source": [
    "DELETE: The DELETE command is used to remove one or more rows from a table. For example, the following SQL statement deletes the customer with a customer ID of 1:"
   ]
  },
  {
   "cell_type": "markdown",
   "id": "132adb1d-dee3-470f-b328-b43ac6cde2e0",
   "metadata": {},
   "source": [
    "DELETE FROM customers\n",
    "WHERE customer_id = 1;\n"
   ]
  },
  {
   "cell_type": "markdown",
   "id": "e2f779b0-52de-432a-9f4f-06fd8d109f77",
   "metadata": {},
   "source": [
    "Q4. What is DQL? Explain SELECT with an example."
   ]
  },
  {
   "cell_type": "markdown",
   "id": "90d2cc4f-2979-4ff5-b1b8-bd9e6f5be2f7",
   "metadata": {},
   "source": [
    "DQL stands for Data Query Language, and it is a set of SQL commands used to retrieve and manipulate data stored in a database. DQL commands are used to retrieve data from one or more tables, and the most commonly used DQL command is SELECT."
   ]
  },
  {
   "cell_type": "markdown",
   "id": "973b127e-bc91-4d4b-98b1-9c1b745900c3",
   "metadata": {},
   "source": [
    "SELECT command is used to retrieve data from one or more tables in a database. Here is an example of a SELECT statement:"
   ]
  },
  {
   "cell_type": "markdown",
   "id": "7422c7e7-af44-4dce-8a57-d511dd370620",
   "metadata": {},
   "source": [
    "SELECT customer_id, name, email\n",
    "FROM customers\n",
    "WHERE email LIKE '%@example.com';\n"
   ]
  },
  {
   "cell_type": "markdown",
   "id": "08b106db-a93c-4fc6-9d62-99eae68f231d",
   "metadata": {},
   "source": [
    "This statement retrieves the customer ID, name, and email address from the \"customers\" table where the email address ends with \"@example.com\"."
   ]
  },
  {
   "cell_type": "markdown",
   "id": "2c6d53bb-b091-488c-8bc6-77dc8283bf43",
   "metadata": {},
   "source": [
    "SELECT specifies the columns that we want to retrieve. In this case, we want to retrieve the customer ID, name, and email columns.\n",
    "FROM specifies the table from which we want to retrieve the data. In this case, we want to retrieve the data from the \"customers\" table.\n",
    "WHERE specifies the conditions that must be met for a row to be retrieved. In this case, we want to retrieve only the rows where the email address ends with \"@example.com\""
   ]
  },
  {
   "cell_type": "markdown",
   "id": "1b70af22-af16-4cf1-bd14-473c8eaf8171",
   "metadata": {},
   "source": [
    "Q5. Explain Primary Key and Foreign Key."
   ]
  },
  {
   "cell_type": "markdown",
   "id": "ceefaa32-9166-4916-837e-51923a7779db",
   "metadata": {},
   "source": [
    "Primary key and foreign key are two important concepts in relational database design. They are used to establish relationships between tables and ensure data integrity.\n",
    "\n",
    "A primary key is a column or a set of columns in a table that uniquely identifies each row in the table. It is used to enforce data uniqueness and ensure that each row can be identified and accessed efficiently. Primary keys can be composed of one or more columns, and they must be unique, non-null, and immutable.\n",
    "\n",
    "For example, in a table of customers, the customer ID column could be designated as the primary key, as each customer has a unique ID number that can be used to identify them.\n",
    "\n",
    "A foreign key is a column in a table that refers to the primary key of another table. It is used to establish a relationship between two tables, where the foreign key in one table refers to the primary key in another table.\n",
    "\n",
    "For example, in a table of orders, there may be a foreign key that refers to the customer ID in the customers table. This foreign key would ensure that each order is associated with a valid customer, and it would allow us to retrieve data from both tables in a single query.\n",
    "\n",
    "Foreign keys can be used to enforce referential integrity, which means that they ensure that the values in the foreign key column always refer to valid primary keys in the referenced table. If a foreign key references a non-existent primary key, the database will prevent the operation from occurring."
   ]
  },
  {
   "cell_type": "markdown",
   "id": "b6021b9e-04b4-459a-90c3-e3330664d2d3",
   "metadata": {},
   "source": [
    "Q6. Write a python code to connect MySQL to python. Explain the cursor() and execute() method."
   ]
  },
  {
   "cell_type": "code",
   "execution_count": null,
   "id": "da2e23da-06e8-4558-b584-cd890443b1af",
   "metadata": {},
   "outputs": [],
   "source": [
    "import mysql.connector\n",
    "\n",
    "# establish a connection to the MySQL server\n",
    "mydb = mysql.connector.connect(\n",
    "  host=\"localhost\",\n",
    "  user=\"abc\",\n",
    "  password=\"yourpassword\",\n",
    "  database=\"yourdatabase\"\n",
    ")\n",
    "\n",
    "# create a cursor object to interact with the database\n",
    "mycursor = mydb.cursor()\n",
    "\n",
    "# execute a query\n",
    "mycursor.execute(\"SELECT * FROM customers\")\n",
    "\n",
    "# retrieve the results\n",
    "myresult = mycursor.fetchall()\n",
    "\n",
    "# display the results\n",
    "for row in myresult:\n",
    "  print(row)\n"
   ]
  },
  {
   "cell_type": "markdown",
   "id": "afe17c9e-8142-44b8-bb43-7d336d40e9f7",
   "metadata": {},
   "source": [
    "In the code above, we first import the mysql.connector library to establish a connection to a MySQL server. We then use the connect() method to connect to the server by specifying the host, user, password, and database parameters.\n",
    "\n",
    "Once the connection is established, we create a cursor object using the cursor() method. The cursor object is used to execute SQL statements and interact with the database.\n",
    "\n",
    "We then execute a query using the execute() method of the cursor object. In this case, we execute a simple SELECT statement to retrieve all rows from the customers table.\n",
    "\n",
    "Finally, we retrieve the results using the fetchall() method, which returns all rows as a list of tuples. We then display the results using a for loop."
   ]
  },
  {
   "cell_type": "markdown",
   "id": "9c0b853e-a362-45e0-947f-07cc3e396f97",
   "metadata": {},
   "source": [
    "Q7. Give the order of execution of SQL clauses in an SQL query."
   ]
  },
  {
   "cell_type": "code",
   "execution_count": null,
   "id": "0e2b1032-0496-44cd-a7c9-200fc40cb7f3",
   "metadata": {},
   "outputs": [],
   "source": []
  }
 ],
 "metadata": {
  "kernelspec": {
   "display_name": "Python 3 (ipykernel)",
   "language": "python",
   "name": "python3"
  },
  "language_info": {
   "codemirror_mode": {
    "name": "ipython",
    "version": 3
   },
   "file_extension": ".py",
   "mimetype": "text/x-python",
   "name": "python",
   "nbconvert_exporter": "python",
   "pygments_lexer": "ipython3",
   "version": "3.10.8"
  }
 },
 "nbformat": 4,
 "nbformat_minor": 5
}
