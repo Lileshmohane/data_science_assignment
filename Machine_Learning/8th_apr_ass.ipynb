{
 "cells": [
  {
   "cell_type": "markdown",
   "id": "cca3d1cf-aa1a-4dbb-b6a4-f341f4d1b0eb",
   "metadata": {},
   "source": [
    "Q1. In order to predict house price based on several characteristics, such as location, square footage,\n",
    "number of bedrooms, etc., you are developing an SVM regression model. Which regression metric in this\n",
    "situation would be the best to employ?"
   ]
  },
  {
   "cell_type": "markdown",
   "id": "311f2e15-5d3d-4a23-a2a8-c1b56f87a8d2",
   "metadata": {},
   "source": [
    "Mean Absolute Error (MAE):\n",
    "\n",
    "Measures the average absolute differences between predicted and actual values.\n",
    "Suitable when the absolute errors are more important than the squared errors.\n",
    "Mean Squared Error (MSE):\n",
    "\n",
    "Measures the average squared differences between predicted and actual values.\n",
    "Emphasizes larger errors more than MAE.\n",
    "Root Mean Squared Error (RMSE):\n",
    "\n",
    "Similar to MSE but takes the square root, providing an interpretable scale.\n",
    "Like MSE, it penalizes larger errors more.\n",
    "R-squared (R²):\n",
    "\n",
    "Represents the proportion of the variance in the dependent variable that is predictable from the independent variables.\n",
    "Ranges from 0 to 1; higher values indicate a better fit."
   ]
  },
  {
   "cell_type": "markdown",
   "id": "b15ae655-36f3-4f65-8d2b-ea8fe8083e46",
   "metadata": {},
   "source": [
    "Q2. You have built an SVM regression model and are trying to decide between using MSE or R-squared as\n",
    "your evaluation metric. Which metric would be more appropriate if your goal is to predict the actual price\n",
    "of a house as accurately as possible?"
   ]
  },
  {
   "cell_type": "markdown",
   "id": "7b14ea36-9250-424f-9bb1-790cd1e20c71",
   "metadata": {},
   "source": [
    "MSE directly measures the average squared differences between predicted and actual values. It penalizes larger errors more heavily than smaller ones, providing a more sensitive measure of the model's accuracy in terms of predicting the actual numerical values. Minimizing MSE implies minimizing the overall squared differences between predicted and actual prices."
   ]
  },
  {
   "cell_type": "markdown",
   "id": "790779b7-2fed-4cd8-a65d-c5d58ac63c75",
   "metadata": {},
   "source": [
    "Q3. You have a dataset with a significant number of outliers and are trying to select an appropriate\n",
    "regression metric to use with your SVM model. Which metric would be the most appropriate in this\n",
    "scenario?"
   ]
  },
  {
   "cell_type": "markdown",
   "id": "cff0c18b-0210-4f3f-9f14-a451618d365e",
   "metadata": {},
   "source": [
    "Robustness to Outliers: MAE is less sensitive to extreme values (outliers) compared to MSE. Since MAE computes the average absolute differences, it does not square the errors, and thus, the impact of large errors is not amplified.\n",
    "\n",
    "Interpretability: MAE provides a more interpretable measure of the average absolute prediction error. This can be beneficial when explaining the model's performance, especially in the presence of outliers."
   ]
  },
  {
   "cell_type": "markdown",
   "id": "af7eb082-d053-450b-9940-d949cd3e03e3",
   "metadata": {},
   "source": [
    "Q4. You have built an SVM regression model using a polynomial kernel and are trying to select the best\n",
    "metric to evaluate its performance. You have calculated both MSE and RMSE and found that both values\n",
    "are very close. Which metric should you choose to use in this case?"
   ]
  },
  {
   "cell_type": "markdown",
   "id": "5607b615-e66d-4ba3-b8bc-b43f055eb8e2",
   "metadata": {},
   "source": [
    "Scale Interpretability:\n",
    "\n",
    "If you want the evaluation metric to be on the same scale as the target variable, you might prefer MSE, as it gives the average squared error.\n",
    "If you want the metric to be on the original scale of the target variable, you might prefer RMSE, as it takes the square root of MSE and provides an interpretation in the same units as the target variable.\n",
    "Sensitivity to Large Errors:\n",
    "\n",
    "If you want the metric to be more sensitive to large errors, you might prefer RMSE, as it penalizes larger errors more heavily than MSE.\n",
    "Preference for Squared Errors:\n",
    "\n",
    "If you have a preference for metrics that explicitly consider the magnitude of errors (squared errors in this case), you might prefer MSE."
   ]
  },
  {
   "cell_type": "markdown",
   "id": "73b4129e-c865-4966-9b98-003fe9284c1c",
   "metadata": {},
   "source": [
    "Q5. You are comparing the performance of different SVM regression models using different kernels (linear,\n",
    "polynomial, and RBF) and are trying to select the best evaluation metric. Which metric would be most\n",
    "appropriate if your goal is to measure how well the model explains the variance in the target variable?"
   ]
  },
  {
   "cell_type": "markdown",
   "id": "2283e24f-5b49-41c6-86a1-fc926297ba93",
   "metadata": {},
   "source": [
    "R-squared is a measure of the proportion of the variance in the dependent variable (target) that is explained by the independent variables (features) in the model. It ranges from 0 to 1, where:\n",
    "\n",
    "R-squared close to 1 indicates that a large proportion of the variance is explained by the model.\n",
    "R-squared close to 0 indicates that the model does not explain much of the variance, and its predictions are close to the mean of the target variable."
   ]
  },
  {
   "cell_type": "code",
   "execution_count": null,
   "id": "e2600d84-4449-4949-bfce-0714c3666885",
   "metadata": {},
   "outputs": [],
   "source": []
  }
 ],
 "metadata": {
  "kernelspec": {
   "display_name": "Python 3 (ipykernel)",
   "language": "python",
   "name": "python3"
  },
  "language_info": {
   "codemirror_mode": {
    "name": "ipython",
    "version": 3
   },
   "file_extension": ".py",
   "mimetype": "text/x-python",
   "name": "python",
   "nbconvert_exporter": "python",
   "pygments_lexer": "ipython3",
   "version": "3.10.8"
  }
 },
 "nbformat": 4,
 "nbformat_minor": 5
}
