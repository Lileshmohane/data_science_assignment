{
 "cells": [
  {
   "cell_type": "markdown",
   "id": "0fa1c8b5-d3d7-44a4-a6fb-8043e46878b0",
   "metadata": {},
   "source": [
    "Q1. What is the difference between Ordinal Encoding and Label Encoding? Provide an example of when you\n",
    "might choose one over the other."
   ]
  },
  {
   "cell_type": "markdown",
   "id": "a3333dfb-a78b-49ed-950e-34768507d634",
   "metadata": {},
   "source": [
    "Ordinal encoding and label encoding are two different techniques used to convert categorical data into numerical values, making it suitable for machine learning algorithms. However, they are used in different scenarios and have distinct characteristics.\n",
    "\n",
    "Label Encoding:\n",
    "\n",
    "Label encoding is primarily used for nominal data, which doesn't have any inherent order or ranking.\n",
    "In label encoding, each category is assigned a unique integer label. For example, in a dataset with three categories \"Red,\" \"Green,\" and \"Blue,\" they might be encoded as 0, 1, and 2, respectively.\n",
    "It doesn't impose any order or meaning on the numerical values assigned to categories.\n",
    "Example:\n",
    "Suppose you have a dataset of car models, and you want to encode their manufacturers. You could use label encoding to convert \"Toyota\" to 0, \"Ford\" to 1, \"Honda\" to 2, and so on.\n",
    "\n",
    "Ordinal Encoding:\n",
    "\n",
    "Ordinal encoding is used for ordinal data, where there is a clear order or ranking among categories.\n",
    "In ordinal encoding, categories are assigned integer values according to their predefined order. For instance, \"low,\" \"medium,\" and \"high\" could be encoded as 0, 1, and 2, respectively.\n",
    "It is essential to ensure that the assigned integer values reflect the actual order of the data.\n",
    "Example:\n",
    "Let's say you're working with a dataset that includes education levels, and you want to encode them. You could use ordinal encoding to map \"High School\" to 0, \"Bachelor's\" to 1, \"Master's\" to 2, and \"Ph.D.\" to 3, as these categories have a clear order based on the level of education."
   ]
  },
  {
   "cell_type": "markdown",
   "id": "6a077aa8-a3e8-4035-8983-b7f126563b54",
   "metadata": {},
   "source": [
    "Q2. Explain how Target Guided Ordinal Encoding works and provide an example of when you might use it in\n",
    "a machine learning project."
   ]
  },
  {
   "cell_type": "markdown",
   "id": "ad5255ea-f32e-4e7c-b552-b6c4b02b8008",
   "metadata": {},
   "source": [
    "Target Guided Ordinal Encoding is a technique used for encoding categorical variables, especially in a classification problem, where the order of the categories is determined based on their relationship with the target variable. This encoding method helps to leverage the predictive power of a categorical feature by considering its influence on the target variable.\n",
    "\n",
    "Here's how Target Guided Ordinal Encoding works:\n",
    "\n",
    "Compute the Mean or Median of the Target Variable for Each Category: For each category within the categorical feature, calculate the mean or median of the target variable (usually binary: 0 or 1 for classification problems). This means you are calculating the probability of the target variable being 1 for each category.\n",
    "\n",
    "Order Categories Based on the Calculated Mean or Median Values: Order the categories in ascending or descending order according to the calculated mean or median values. This ordering reflects the strength of the relationship between the category and the target variable. Categories with a higher mean or median value are assigned a lower rank, while those with lower values are assigned a higher rank.\n",
    "\n",
    "Replace Categories with Their Respective Ranks: Replace the original categories with their assigned ranks. This results in an ordinal encoding where the categories are now ordered based on their predictive power regarding the target variable."
   ]
  },
  {
   "cell_type": "markdown",
   "id": "ad26da17-b63f-45f7-8b99-5cd60553a746",
   "metadata": {},
   "source": [
    "Q3. Define covariance and explain why it is important in statistical analysis. How is covariance calculated?"
   ]
  },
  {
   "cell_type": "markdown",
   "id": "1a02c010-a950-43a3-b2bb-21bf5c16723f",
   "metadata": {},
   "source": [
    "Covariance is a statistical measure that quantifies the degree to which two random variables change together. In other words, it assesses the relationship or association between two variables. It is particularly important in statistical analysis and data science for the following reasons:\n",
    "\n",
    "Relationship Assessment: Covariance helps determine whether two variables are positively related, negatively related, or independent. A positive covariance indicates that as one variable increases, the other tends to increase as well. A negative covariance suggests that as one variable increases, the other tends to decrease. A covariance close to zero indicates little to no linear relationship.\n",
    "\n",
    "Dimensionality Reduction: In multivariate statistics, covariance matrices are used to summarize the relationships between multiple variables. This is especially important in techniques like Principal Component Analysis (PCA), where linear combinations of variables are used to reduce dimensionality while retaining as much information as possible.\n",
    "\n",
    "Risk Assessment in Finance: In finance, covariance is crucial for portfolio management. It measures how different assets in a portfolio move in relation to one another. A low or negative covariance between assets can reduce overall portfolio risk, while high positive covariances can increase risk.\n",
    "\n",
    "Machine Learning: Covariance is used in various machine learning algorithms, especially for dimensionality reduction, clustering, and feature selection. It helps to identify features that are highly correlated, potentially leading to multicollinearity issues."
   ]
  },
  {
   "cell_type": "markdown",
   "id": "e1db0a5d-fe8b-4e52-b5fc-fe0fbff1fdb5",
   "metadata": {},
   "source": [
    "Q4. For a dataset with the following categorical variables: Color (red, green, blue), Size (small, medium,\n",
    "large), and Material (wood, metal, plastic), perform label encoding using Python's scikit-learn library.\n",
    "Show your code and explain the output."
   ]
  },
  {
   "cell_type": "code",
   "execution_count": 1,
   "id": "8ad4eb67-62a1-4148-b377-f74e15231efb",
   "metadata": {},
   "outputs": [
    {
     "name": "stdout",
     "output_type": "stream",
     "text": [
      "   Color  Size  Material\n",
      "0      2     2         2\n",
      "1      1     1         0\n",
      "2      0     0         1\n",
      "3      1     1         2\n",
      "4      2     2         1\n"
     ]
    }
   ],
   "source": [
    "from sklearn.preprocessing import LabelEncoder\n",
    "import pandas as pd\n",
    "\n",
    "# Sample data\n",
    "data = {\n",
    "    'Color': ['red', 'green', 'blue', 'green', 'red'],\n",
    "    'Size': ['small', 'medium', 'large', 'medium', 'small'],\n",
    "    'Material': ['wood', 'metal', 'plastic', 'wood', 'plastic']\n",
    "}\n",
    "\n",
    "# Create a DataFrame\n",
    "df = pd.DataFrame(data)\n",
    "\n",
    "# Initialize a LabelEncoder for each categorical variable\n",
    "label_encoders = {}\n",
    "for column in df.columns:\n",
    "    le = LabelEncoder()\n",
    "    df[column] = le.fit_transform(df[column])\n",
    "    label_encoders[column] = le\n",
    "\n",
    "# Display the encoded DataFrame\n",
    "print(df)\n"
   ]
  },
  {
   "cell_type": "markdown",
   "id": "4a881bc5-9836-4f7e-918a-a66149e8c891",
   "metadata": {},
   "source": [
    "Q5. Calculate the covariance matrix for the following variables in a dataset: Age, Income, and Education\n",
    "level. Interpret the results."
   ]
  },
  {
   "cell_type": "code",
   "execution_count": 2,
   "id": "8ca1f7c6-c25c-42ec-a9e9-3b3082b3721e",
   "metadata": {},
   "outputs": [
    {
     "name": "stdout",
     "output_type": "stream",
     "text": [
      "[[5.94333333e+01 8.59333333e+04 2.55333333e+01]\n",
      " [8.59333333e+04 1.32711111e+08 3.83111111e+04]\n",
      " [2.55333333e+01 3.83111111e+04 1.17333333e+01]]\n"
     ]
    }
   ],
   "source": [
    "import numpy as np\n",
    "\n",
    "# Sample data for Age, Income, and Education level\n",
    "age = [35, 42, 28, 46, 50, 29, 33, 48, 38, 40]\n",
    "income = [50000, 60000, 45000, 70000, 75000, 48000, 52000, 78000, 56000, 60000]\n",
    "education_level = [12, 16, 10, 18, 20, 11, 14, 19, 13, 15]\n",
    "\n",
    "# Create a data matrix\n",
    "data_matrix = np.array([age, income, education_level])\n",
    "\n",
    "# Calculate the covariance matrix\n",
    "covariance_matrix = np.cov(data_matrix)\n",
    "\n",
    "# Print the covariance matrix\n",
    "print(covariance_matrix)\n"
   ]
  },
  {
   "cell_type": "markdown",
   "id": "3111f419-8833-4561-83cf-a25c5972a8ee",
   "metadata": {},
   "source": [
    "Q6. You are working on a machine learning project with a dataset containing several categorical\n",
    "variables, including \"Gender\" (Male/Female), \"Education Level\" (High School/Bachelor's/Master's/PhD),\n",
    "and \"Employment Status\" (Unemployed/Part-Time/Full-Time). Which encoding method would you use for\n",
    "each variable, and why?"
   ]
  },
  {
   "cell_type": "markdown",
   "id": "18d2d756-b788-4fb1-8cab-8e8e9c965831",
   "metadata": {},
   "source": [
    "In a machine learning project with categorical variables like \"Gender,\" \"Education Level,\" and \"Employment Status,\" the choice of encoding method should be based on the nature of the data and the requirements of the specific machine learning algorithm. Here's how you might choose the encoding methods for each of these variables:\n",
    "\n",
    "Gender:\n",
    "\n",
    "Gender is a nominal categorical variable with two categories: Male and Female.\n",
    "Since there is no inherent order or ranking between these categories, label encoding can be used. You can assign Male to 0 and Female to 1. It's simple and suitable for binary nominal data.\n",
    "Education Level:\n",
    "\n",
    "Education Level is an ordinal categorical variable with multiple categories: High School, Bachelor's, Master's, and PhD.\n",
    "Given the clear order and ranking of education levels, ordinal encoding is more appropriate. You can assign numerical values to represent the order, such as High School (0), Bachelor's (1), Master's (2), and PhD (3). This way, the model can capture the ordinal relationship between education levels.\n",
    "Employment Status:\n",
    "\n",
    "Employment Status is a nominal categorical variable with multiple categories: Unemployed, Part-Time, and Full-Time.\n",
    "Again, since there is no inherent order or ranking between these categories, label encoding can be used. You can assign Unemployed to 0, Part-Time to 1, and Full-Time to 2. It's suitable for nominal data with more than two categories."
   ]
  },
  {
   "cell_type": "markdown",
   "id": "3f8346d7-900e-48f1-9e22-038a0c10af0e",
   "metadata": {},
   "source": [
    "Q7. You are analyzing a dataset with two continuous variables, \"Temperature\" and \"Humidity\", and two\n",
    "categorical variables, \"Weather Condition\" (Sunny/Cloudy/Rainy) and \"Wind Direction\" (North/South/\n",
    "East/West). Calculate the covariance between each pair of variables and interpret the results."
   ]
  },
  {
   "cell_type": "code",
   "execution_count": 3,
   "id": "c252e76a-ad24-487f-af5a-d77e70106646",
   "metadata": {},
   "outputs": [
    {
     "name": "stdout",
     "output_type": "stream",
     "text": [
      "Covariance between Temperature and Humidity:\n",
      "[[ 5.16666667  5.27777778]\n",
      " [ 5.27777778 65.38888889]]\n",
      "\n",
      "Covariance between Temperature and Weather Condition:\n",
      "[[5.16666667 0.05555556]\n",
      " [0.05555556 0.76666667]]\n",
      "\n",
      "Covariance between Humidity and Weather Condition:\n",
      "[[65.38888889 -0.83333333]\n",
      " [-0.83333333  0.76666667]]\n",
      "\n",
      "Covariance between Temperature and Wind Direction:\n",
      "[[5.16666667 0.05555556]\n",
      " [0.05555556 1.34444444]]\n",
      "\n",
      "Covariance between Humidity and Wind Direction:\n",
      "[[65.38888889  2.72222222]\n",
      " [ 2.72222222  1.34444444]]\n"
     ]
    }
   ],
   "source": [
    "import numpy as np\n",
    "\n",
    "# Sample data\n",
    "temperature = [25, 22, 27, 20, 24, 21, 23, 26, 22, 25]\n",
    "humidity = [50, 55, 60, 65, 70, 45, 52, 68, 58, 62]\n",
    "weather_condition = [\"Sunny\", \"Cloudy\", \"Rainy\", \"Sunny\", \"Cloudy\", \"Rainy\", \"Sunny\", \"Cloudy\", \"Rainy\", \"Sunny\"]\n",
    "wind_direction = [\"North\", \"South\", \"East\", \"West\", \"North\", \"South\", \"East\", \"West\", \"North\", \"South\"]\n",
    "\n",
    "# Create a data matrix\n",
    "data_matrix = np.array([temperature, humidity])\n",
    "\n",
    "# Calculate the covariance between Temperature and Humidity\n",
    "cov_temp_humidity = np.cov(data_matrix)\n",
    "print(\"Covariance between Temperature and Humidity:\")\n",
    "print(cov_temp_humidity)\n",
    "\n",
    "# Convert categorical variables to numerical labels for Weather Condition and Wind Direction\n",
    "weather_condition_labels = np.array([0, 1, 2, 0, 1, 2, 0, 1, 2, 0])\n",
    "wind_direction_labels = np.array([0, 1, 2, 3, 0, 1, 2, 3, 0, 1])\n",
    "\n",
    "# Calculate the covariance between Temperature and Weather Condition\n",
    "cov_temp_weather = np.cov(temperature, weather_condition_labels)\n",
    "print(\"\\nCovariance between Temperature and Weather Condition:\")\n",
    "print(cov_temp_weather)\n",
    "\n",
    "# Calculate the covariance between Humidity and Weather Condition\n",
    "cov_humidity_weather = np.cov(humidity, weather_condition_labels)\n",
    "print(\"\\nCovariance between Humidity and Weather Condition:\")\n",
    "print(cov_humidity_weather)\n",
    "\n",
    "# Calculate the covariance between Temperature and Wind Direction\n",
    "cov_temp_wind = np.cov(temperature, wind_direction_labels)\n",
    "print(\"\\nCovariance between Temperature and Wind Direction:\")\n",
    "print(cov_temp_wind)\n",
    "\n",
    "# Calculate the covariance between Humidity and Wind Direction\n",
    "cov_humidity_wind = np.cov(humidity, wind_direction_labels)\n",
    "print(\"\\nCovariance between Humidity and Wind Direction:\")\n",
    "print(cov_humidity_wind)\n"
   ]
  },
  {
   "cell_type": "code",
   "execution_count": null,
   "id": "2088e449-6ea4-4d77-beb6-209cc44fcef8",
   "metadata": {},
   "outputs": [],
   "source": []
  },
  {
   "cell_type": "code",
   "execution_count": null,
   "id": "2cf9b3b9-4d45-4aab-b9ac-baac4d5e67ac",
   "metadata": {},
   "outputs": [],
   "source": []
  }
 ],
 "metadata": {
  "kernelspec": {
   "display_name": "Python 3 (ipykernel)",
   "language": "python",
   "name": "python3"
  },
  "language_info": {
   "codemirror_mode": {
    "name": "ipython",
    "version": 3
   },
   "file_extension": ".py",
   "mimetype": "text/x-python",
   "name": "python",
   "nbconvert_exporter": "python",
   "pygments_lexer": "ipython3",
   "version": "3.10.8"
  }
 },
 "nbformat": 4,
 "nbformat_minor": 5
}
